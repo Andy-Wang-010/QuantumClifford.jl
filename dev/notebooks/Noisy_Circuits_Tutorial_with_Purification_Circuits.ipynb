{
 "cells": [
  {
   "cell_type": "code",
   "execution_count": 1,
   "metadata": {},
   "outputs": [],
   "source": [
    "using Revise\n",
    "using QuantumClifford\n",
    "using QuantumClifford.Experimental.NoisyCircuits\n",
    "using AbstractAlgebra\n",
    "using Plots\n",
    "using LaTeXStrings\n",
    "using Quantikz: displaycircuit"
   ]
  },
  {
   "cell_type": "markdown",
   "metadata": {},
   "source": [
    "# States of interest\n",
    "\n",
    "All of the states will be expressed in one of the many canonical forms available, so that comparisons can be performed easily."
   ]
  },
  {
   "cell_type": "markdown",
   "metadata": {},
   "source": [
    "A typical Bell pair"
   ]
  },
  {
   "cell_type": "code",
   "execution_count": 2,
   "metadata": {},
   "outputs": [
    {
     "data": {
      "text/plain": [
       "+ ZZ\n",
       "+ XX"
      ]
     },
     "execution_count": 2,
     "metadata": {},
     "output_type": "execute_result"
    }
   ],
   "source": [
    "good_bell_state = S\"XX\n",
    "                    ZZ\"\n",
    "canonicalize_rref!(good_bell_state)[1]"
   ]
  },
  {
   "cell_type": "markdown",
   "metadata": {},
   "source": [
    "A typical GHZ state"
   ]
  },
  {
   "cell_type": "code",
   "execution_count": 3,
   "metadata": {},
   "outputs": [
    {
     "data": {
      "text/plain": [
       "+ _ZZ\n",
       "+ Z_Z\n",
       "+ XXX"
      ]
     },
     "execution_count": 3,
     "metadata": {},
     "output_type": "execute_result"
    }
   ],
   "source": [
    "good_ghz3_state = S\"XXX\n",
    "                    ZZI\n",
    "                    IZZ\"\n",
    "canonicalize_rref!(good_ghz3_state)[1]"
   ]
  },
  {
   "cell_type": "markdown",
   "metadata": {},
   "source": [
    "The bi-colored graph state version of a GHZ state"
   ]
  },
  {
   "cell_type": "code",
   "execution_count": 4,
   "metadata": {},
   "outputs": [
    {
     "data": {
      "text/plain": [
       "+ _ZZ\n",
       "+ ZXX\n",
       "+ X_Z"
      ]
     },
     "execution_count": 4,
     "metadata": {},
     "output_type": "execute_result"
    }
   ],
   "source": [
    "good_ghz3_state = S\"ZXX\n",
    "                    XZI\n",
    "                    XIZ\"\n",
    "canonicalize_rref!(good_ghz3_state)[1]"
   ]
  },
  {
   "cell_type": "markdown",
   "metadata": {},
   "source": [
    "\n",
    "# Warmup example: Purifying a Bell pair\n",
    "\n",
    "We will first run a typical purification circuit on two perfect Bell pairs. Given that all gates and initial states are perfect, the circuit is redundant, but running this calculation is a good sanity check. After all, if the circuit is not preserving perfect Bell pairs, there is little chance it would be doing any purification either.\n",
    "\n",
    "There are three components to the circuit: the bilateral CPHASE (or CNOT) gates, the coincidence measurement performed by Alice and Bob to check for errors, and a \"verify\" step at the end of the simulation. Experimentally, Alice and Bob do not have access to this operation, but we add it in our calculation in order to verify whether the final state obtained by this procedure is indeed the state we want.\n",
    "\n",
    "In terms of library features, we use the `SparseGate` and `BellMeasurement` objects for the \"real\" part of the circuit and the `VerifyOp` for the verification step."
   ]
  },
  {
   "cell_type": "code",
   "execution_count": 5,
   "metadata": {},
   "outputs": [
    {
     "data": {
      "image/png": "[encoded data removed]"
     },
     "metadata": {},
     "output_type": "display_data"
    }
   ],
   "source": [
    "initial_state = good_bell_state⊗good_bell_state\n",
    "circuit = [\n",
    "    SparseGate(CPHASE, [1,3]),\n",
    "    SparseGate(CPHASE, [2,4]),\n",
    "    BellMeasurement([X,X], [3,4]),\n",
    "    VerifyOp(good_bell_state, [1,2])\n",
    "]\n",
    "displaycircuit(circuit)"
   ]
  },
  {
   "cell_type": "markdown",
   "metadata": {},
   "source": [
    "We can run a Monte Carlo simulation with `mctrajectories`, or a Perturbative Expansion calculation with `petrajectories`. Given that there is no noise source in this circuit, all Monte Carlo samples will give the same result."
   ]
  },
  {
   "cell_type": "code",
   "execution_count": 6,
   "metadata": {},
   "outputs": [
    {
     "data": {
      "text/plain": [
       "Dict{Symbol, Float64} with 3 entries:\n",
       "  :undetected_failure => 0.0\n",
       "  :detected_failure   => 0.0\n",
       "  :true_success       => 1.0"
      ]
     },
     "execution_count": 6,
     "metadata": {},
     "output_type": "execute_result"
    }
   ],
   "source": [
    "petrajectories(initial_state, circuit)"
   ]
  },
  {
   "cell_type": "code",
   "execution_count": 7,
   "metadata": {},
   "outputs": [
    {
     "data": {
      "text/plain": [
       "Dict{Symbol, Int64} with 4 entries:\n",
       "  :undetected_failure => 0\n",
       "  :continue           => 0\n",
       "  :detected_failure   => 0\n",
       "  :true_success       => 100"
      ]
     },
     "execution_count": 7,
     "metadata": {},
     "output_type": "execute_result"
    }
   ],
   "source": [
    "mctrajectories(initial_state, circuit, trajectories=100)"
   ]
  },
  {
   "cell_type": "markdown",
   "metadata": {},
   "source": [
    "The possible final statuses (`:undetected_failure`, `:detected_failure`, `:true_success`) come from the definitions of the various circuit operations. `SparseGate` always generates `:continue`, which tells the simulator to continue to the next operation. `BellMeasurement` can report `:detected_failure` or `:continue`, depending whether there was an anti-coincidence or a coincidence. Finally `VerifyOp` reports either `:true_success` if we indeed obtained the desired state, or a `:undetected_failure` if the obtained state is not the desired one even though the measurement step had reported `:continue`. Custom statuses can be implemented as well, as seen later on."
   ]
  },
  {
   "cell_type": "markdown",
   "metadata": {},
   "source": [
    "Later on we will also need to compare these results against no purification so we define this circuit for convenience:"
   ]
  },
  {
   "cell_type": "code",
   "execution_count": 8,
   "metadata": {},
   "outputs": [],
   "source": [
    "nopurification_circuit = [VerifyOp(good_bell_state, [1,2])];"
   ]
  },
  {
   "cell_type": "markdown",
   "metadata": {},
   "source": [
    "## Define a network noise parameter to be used for the rest of the notebook\n",
    "\n",
    "For a more interesting calculation, we will now introduce network noise with the `NoiseOpAll` operation, which causes depolarization of certain strength to all of the qubits."
   ]
  },
  {
   "cell_type": "code",
   "execution_count": 9,
   "metadata": {},
   "outputs": [],
   "source": [
    "netnoise_value = 0.10\n",
    "one_third_netnoise = netnoise_value/3 # The probability for X, Y, or Z error\n",
    "netnoise = UnbiasedUncorrelatedNoise(one_third_netnoise)\n",
    "netnoise_opall = NoiseOpAll(netnoise);"
   ]
  },
  {
   "cell_type": "code",
   "execution_count": 10,
   "metadata": {},
   "outputs": [
    {
     "data": {
      "image/png": "[encoded data removed]"
     },
     "metadata": {},
     "output_type": "display_data"
    }
   ],
   "source": [
    "displaycircuit([netnoise_opall,circuit...]) # The explosions denote depolarization noise"
   ]
  },
  {
   "cell_type": "code",
   "execution_count": 11,
   "metadata": {},
   "outputs": [
    {
     "data": {
      "text/plain": [
       "Dict{Symbol, Float64} with 3 entries:\n",
       "  :undetected_failure => 0.0972\n",
       "  :detected_failure   => 0.1944\n",
       "  :true_success       => 0.6561"
      ]
     },
     "execution_count": 11,
     "metadata": {},
     "output_type": "execute_result"
    }
   ],
   "source": [
    "pe_netnoise = petrajectories(initial_state, [netnoise_opall,circuit...])"
   ]
  },
  {
   "cell_type": "code",
   "execution_count": 12,
   "metadata": {},
   "outputs": [
    {
     "data": {
      "text/plain": [
       "Dict{Symbol, Float64} with 3 entries:\n",
       "  :undetected_failure => 0.186667\n",
       "  :detected_failure   => 0.0\n",
       "  :true_success       => 0.813333"
      ]
     },
     "execution_count": 12,
     "metadata": {},
     "output_type": "execute_result"
    }
   ],
   "source": [
    "pe_netnoise_nopurification = petrajectories(good_bell_state,\n",
    "                                            [netnoise_opall,nopurification_circuit...],max_order=2)"
   ]
  },
  {
   "cell_type": "code",
   "execution_count": 13,
   "metadata": {},
   "outputs": [
    {
     "data": {
      "text/latex": [
       "Therefore a network depolarization rate of 0.1\n",
       "causes the fidelity to drop to\n",
       "$F_{0}=\n",
       "0.813\n",
       "$.\n"
      ],
      "text/plain": [
       "L\"Therefore a network depolarization rate of 0.1\n",
       "causes the fidelity to drop to\n",
       "$F_{0}=\n",
       "0.813\n",
       "$.\n",
       "\""
      ]
     },
     "execution_count": 13,
     "metadata": {},
     "output_type": "execute_result"
    }
   ],
   "source": [
    "latexstring(\"\"\"\n",
    "    Therefore a network depolarization rate of $(3*one_third_netnoise)\n",
    "    causes the fidelity to drop to\n",
    "    \\$F_{0}=\n",
    "    $(round(pe_netnoise_nopurification[:true_success],digits=3))\n",
    "    \\$.\n",
    "    \"\"\")"
   ]
  },
  {
   "cell_type": "code",
   "execution_count": 14,
   "metadata": {},
   "outputs": [
    {
     "data": {
      "text/latex": [
       "But purification can increase the fidelity to\n",
       "$\\frac{\\mathrm{true\\ success}}{\\mathrm{true\\ success}+\\mathrm{undetected\\ failure}}=\n",
       "0.871\n",
       "$.\n"
      ],
      "text/plain": [
       "L\"But purification can increase the fidelity to\n",
       "$\\frac{\\mathrm{true\\ success}}{\\mathrm{true\\ success}+\\mathrm{undetected\\ failure}}=\n",
       "0.871\n",
       "$.\n",
       "\""
      ]
     },
     "execution_count": 14,
     "metadata": {},
     "output_type": "execute_result"
    }
   ],
   "source": [
    "latexstring(\"\"\"\n",
    "    But purification can increase the fidelity to\n",
    "    \\$\\\\frac{\\\\mathrm{true\\\\ success}}{\\\\mathrm{true\\\\ success}+\\\\mathrm{undetected\\\\ failure}}=\n",
    "    $(round(pe_netnoise[:true_success] / (pe_netnoise[:true_success]+pe_netnoise[:undetected_failure]),digits=3))\n",
    "    \\$.\n",
    "    \"\"\")"
   ]
  },
  {
   "cell_type": "code",
   "execution_count": 15,
   "metadata": {},
   "outputs": [
    {
     "data": {
      "text/latex": [
       "With a rate of positive coincidence measurements of\n",
       "$\\mathrm{true\\ success}+\\mathrm{undetected\\ failure}=\n",
       "0.753\n",
       "$.\n"
      ],
      "text/plain": [
       "L\"With a rate of positive coincidence measurements of\n",
       "$\\mathrm{true\\ success}+\\mathrm{undetected\\ failure}=\n",
       "0.753\n",
       "$.\n",
       "\""
      ]
     },
     "execution_count": 15,
     "metadata": {},
     "output_type": "execute_result"
    }
   ],
   "source": [
    "latexstring(\"\"\"\n",
    "    With a rate of positive coincidence measurements of\n",
    "    \\$\\\\mathrm{true\\\\ success}+\\\\mathrm{undetected\\\\ failure}=\n",
    "    $(round(pe_netnoise[:true_success]+pe_netnoise[:undetected_failure],digits=3))\n",
    "    \\$.\n",
    "    \"\"\")"
   ]
  },
  {
   "cell_type": "markdown",
   "metadata": {},
   "source": [
    "### Monte Carlo instead of Perturbative Expansions\n",
    "\n",
    "The 10% network error rate we have picked is not all that small, and the perturbative expansion will not be all that accurate. We can attempt Monte Carlo simulations. For very large circuits this would be cheaper than perturbative expansions. Choosing the best method is a balancing act that depends on the desired accuracy, the size of the circuit, and the number of noisy components."
   ]
  },
  {
   "cell_type": "code",
   "execution_count": 16,
   "metadata": {},
   "outputs": [
    {
     "data": {
      "text/plain": [
       "Dict{Symbol, Int64} with 4 entries:\n",
       "  :undetected_failure => 1162\n",
       "  :continue           => 0\n",
       "  :detected_failure   => 2176\n",
       "  :true_success       => 6662"
      ]
     },
     "execution_count": 16,
     "metadata": {},
     "output_type": "execute_result"
    }
   ],
   "source": [
    "mc_netnoise = mctrajectories(initial_state, [netnoise_opall,circuit...],\n",
    "                             trajectories=10000)"
   ]
  },
  {
   "cell_type": "markdown",
   "metadata": {},
   "source": [
    "### Symbolic Perturbative Expansions\n",
    "\n",
    "The perturbative expansions can be done with any of the available symbolic libraries under Julia (including the Julia interface to the SymPy Python library). Here we give an example with `AbstractAlgebra.jl`, part of Nemo. Fractions are a bit clunky, so we treat the numerator and denominator separately. `SymPy` would be simpler to use, but it can be a bit slower.\n",
    "\n",
    "We will define two symbols, one for the network noise, and one for the gate noise to be used later."
   ]
  },
  {
   "cell_type": "code",
   "execution_count": 17,
   "metadata": {},
   "outputs": [],
   "source": [
    "using AbstractAlgebra\n",
    "R, (e_netn, e_gate) = PolynomialRing(RealField, [\"e_n\", \"e_g\"])\n",
    "sym_unity = R(1);"
   ]
  },
  {
   "cell_type": "code",
   "execution_count": 18,
   "metadata": {},
   "outputs": [],
   "source": [
    "sym_netnoise = UnbiasedUncorrelatedNoise(1//3*e_netn)\n",
    "sym_netnoise_opall = NoiseOpAll(sym_netnoise);"
   ]
  },
  {
   "cell_type": "code",
   "execution_count": 19,
   "metadata": {},
   "outputs": [],
   "source": [
    "sym_pe_netnoise = petrajectories(initial_state, [sym_netnoise_opall,circuit...],\n",
    "                             branch_weight=sym_unity)\n",
    "\n",
    "sym_true_success = sym_pe_netnoise[:true_success]\n",
    "sym_coincidence_prob = (sym_pe_netnoise[:true_success]+sym_pe_netnoise[:undetected_failure]);"
   ]
  },
  {
   "cell_type": "markdown",
   "metadata": {},
   "source": [
    "We can print out the symbolic expression:"
   ]
  },
  {
   "cell_type": "code",
   "execution_count": 20,
   "metadata": {},
   "outputs": [
    {
     "data": {
      "text/latex": [
       "$1.0*e_n^4 + -4.0*e_n^3 + 6.0*e_n^2 + -4.0*e_n + 1.0$"
      ],
      "text/plain": [
       "L\"$1.0*e_n^4 + -4.0*e_n^3 + 6.0*e_n^2 + -4.0*e_n + 1.0$\""
      ]
     },
     "execution_count": 20,
     "metadata": {},
     "output_type": "execute_result"
    }
   ],
   "source": [
    "latexstring(sym_true_success)"
   ]
  },
  {
   "cell_type": "markdown",
   "metadata": {},
   "source": [
    "And evaluate it to compare it with the numerical calculation:"
   ]
  },
  {
   "cell_type": "code",
   "execution_count": 21,
   "metadata": {},
   "outputs": [
    {
     "data": {
      "text/plain": [
       "0.65609999999999998854770255629631492411135695874691009521484375"
      ]
     },
     "execution_count": 21,
     "metadata": {},
     "output_type": "execute_result"
    }
   ],
   "source": [
    "sym_true_success(netnoise_value, 0) # evaluate at e_n = netnoise_value, e_g = 0"
   ]
  },
  {
   "cell_type": "code",
   "execution_count": 22,
   "metadata": {},
   "outputs": [
    {
     "data": {
      "text/plain": [
       "0.6561000000000001"
      ]
     },
     "execution_count": 22,
     "metadata": {},
     "output_type": "execute_result"
    }
   ],
   "source": [
    "pe_netnoise[:true_success]"
   ]
  },
  {
   "cell_type": "markdown",
   "metadata": {},
   "source": [
    "### Higher order expansions\n",
    "\n",
    "Higher order expansions are also possible with this library, however the cost of the simulation grows exponentially in the order, due to the combinatorial explosion of trajectories that need to be followed. See the example below where we see the number of branches for the depolarization acting on all qubits."
   ]
  },
  {
   "cell_type": "code",
   "execution_count": 23,
   "metadata": {},
   "outputs": [
    {
     "name": "stdout",
     "output_type": "stream",
     "text": [
      "(order = 0, nb_of_branches = 1, total_probability = 0.6561000000000001)\n",
      "(order = 1, nb_of_branches = 13, total_probability = 0.9477)\n",
      "(order = 2, nb_of_branches = 67, total_probability = 0.9963000000000006)\n",
      "(order = 3, nb_of_branches = 175, total_probability = 0.9999000000000002)\n",
      "(order = 4, nb_of_branches = 256, total_probability = 1.0000000000000009)\n"
     ]
    }
   ],
   "source": [
    "for order in [0,1,2,3,4]\n",
    "    branches = applynoise_branches(initial_state, netnoise, [1,2,3,4], max_order=order)\n",
    "    println((order = order, nb_of_branches = length(branches), total_probability = sum(b[2] for b in branches)))\n",
    "end"
   ]
  },
  {
   "cell_type": "markdown",
   "metadata": {},
   "source": [
    "Let us compute the whole circuits to the given order"
   ]
  },
  {
   "cell_type": "code",
   "execution_count": 24,
   "metadata": {},
   "outputs": [
    {
     "name": "stdout",
     "output_type": "stream",
     "text": [
      "  0.017603 seconds (47.59 k allocations: 2.694 MiB, 76.93% compilation time)\n",
      "  0.007931 seconds (97.47 k allocations: 5.261 MiB)\n",
      "  0.011633 seconds (141.62 k allocations: 7.579 MiB)\n"
     ]
    }
   ],
   "source": [
    "@time sym_pe_netnoise2 = petrajectories(initial_state, [sym_netnoise_opall,circuit...],\n",
    "                                  branch_weight=sym_unity, max_order=2);\n",
    "@time sym_pe_netnoise3 = petrajectories(initial_state, [sym_netnoise_opall,circuit...],\n",
    "                                  branch_weight=sym_unity, max_order=3);\n",
    "@time sym_pe_netnoise4 = petrajectories(initial_state, [sym_netnoise_opall,circuit...],\n",
    "                                  branch_weight=sym_unity, max_order=4);"
   ]
  },
  {
   "cell_type": "markdown",
   "metadata": {},
   "source": [
    "### All of the results together"
   ]
  },
  {
   "cell_type": "code",
   "execution_count": 25,
   "metadata": {},
   "outputs": [
    {
     "data": {
      "image/svg+xml": [
       "<?xml version=\"1.0\" encoding=\"utf-8\"?>\n",
       "<svg xmlns=\"http://www.w3.org/2000/svg\" xmlns:xlink=\"http://www.w3.org/1999/xlink\" width=\"600\" height=\"400\" viewBox=\"0 0 2400 1600\">\n",
       "<defs>\n",
       "  <clipPath id=\"clip430\">\n",
       "    <rect x=\"0\" y=\"0\" width=\"2400\" height=\"1600\"/>\n",
       "  </clipPath>\n",
       "</defs>\n",
       "<path clip-path=\"url(#clip430)\" d=\"\n",
       "M0 1600 L2400 1600 L2400 0 L0 0  Z\n",
       "  \" fill=\"#ffffff\" fill-rule=\"evenodd\" fill-opacity=\"1\"/>\n",
       "<defs>\n",
       "  <clipPath id=\"clip431\">\n",
       "    <rect x=\"480\" y=\"0\" width=\"1681\" height=\"1600\"/>\n",
       "  </clipPath>\n",
       "</defs>\n",
       "<path clip-path=\"url(#clip430)\" d=\"\n",
       "M211.602 1423.18 L1578.78 1423.18 L1578.78 183.952 L211.602 183.952  Z\n",
       "  \" fill=\"#ffffff\" fill-rule=\"evenodd\" fill-opacity=\"1\"/>\n",
       "<defs>\n",
       "  <clipPath id=\"clip432\">\n",
       "    <rect x=\"211\" y=\"183\" width=\"1368\" height=\"1240\"/>\n",
       "  </clipPath>\n",
       "</defs>\n",
       "<polyline clip-path=\"url(#clip432)\" style=\"stroke:#000000; stroke-width:2; stroke-opacity:0.1; fill:none\" points=\"\n",
       "  220.983,1423.18 220.983,183.952 \n",
       "  \"/>\n",
       "<polyline clip-path=\"url(#clip432)\" style=\"stroke:#000000; stroke-width:2; stroke-opacity:0.1; fill:none\" points=\"\n",
       "  440.834,1423.18 440.834,183.952 \n",
       "  \"/>\n",
       "<polyline clip-path=\"url(#clip432)\" style=\"stroke:#000000; stroke-width:2; stroke-opacity:0.1; fill:none\" points=\"\n",
       "  660.684,1423.18 660.684,183.952 \n",
       "  \"/>\n",
       "<polyline clip-path=\"url(#clip432)\" style=\"stroke:#000000; stroke-width:2; stroke-opacity:0.1; fill:none\" points=\"\n",
       "  880.535,1423.18 880.535,183.952 \n",
       "  \"/>\n",
       "<polyline clip-path=\"url(#clip432)\" style=\"stroke:#000000; stroke-width:2; stroke-opacity:0.1; fill:none\" points=\"\n",
       "  1100.39,1423.18 1100.39,183.952 \n",
       "  \"/>\n",
       "<polyline clip-path=\"url(#clip432)\" style=\"stroke:#000000; stroke-width:2; stroke-opacity:0.1; fill:none\" points=\"\n",
       "  1320.24,1423.18 1320.24,183.952 \n",
       "  \"/>\n",
       "<polyline clip-path=\"url(#clip432)\" style=\"stroke:#000000; stroke-width:2; stroke-opacity:0.1; fill:none\" points=\"\n",
       "  1540.09,1423.18 1540.09,183.952 \n",
       "  \"/>\n",
       "<polyline clip-path=\"url(#clip430)\" style=\"stroke:#000000; stroke-width:4; stroke-opacity:1; fill:none\" points=\"\n",
       "  211.602,1423.18 1578.78,1423.18 \n",
       "  \"/>\n",
       "<polyline clip-path=\"url(#clip430)\" style=\"stroke:#000000; stroke-width:4; stroke-opacity:1; fill:none\" points=\"\n",
       "  220.983,1423.18 220.983,1408.31 \n",
       "  \"/>\n",
       "<polyline clip-path=\"url(#clip430)\" style=\"stroke:#000000; stroke-width:4; stroke-opacity:1; fill:none\" points=\"\n",
       "  440.834,1423.18 440.834,1408.31 \n",
       "  \"/>\n",
       "<polyline clip-path=\"url(#clip430)\" style=\"stroke:#000000; stroke-width:4; stroke-opacity:1; fill:none\" points=\"\n",
       "  660.684,1423.18 660.684,1408.31 \n",
       "  \"/>\n",
       "<polyline clip-path=\"url(#clip430)\" style=\"stroke:#000000; stroke-width:4; stroke-opacity:1; fill:none\" points=\"\n",
       "  880.535,1423.18 880.535,1408.31 \n",
       "  \"/>\n",
       "<polyline clip-path=\"url(#clip430)\" style=\"stroke:#000000; stroke-width:4; stroke-opacity:1; fill:none\" points=\"\n",
       "  1100.39,1423.18 1100.39,1408.31 \n",
       "  \"/>\n",
       "<polyline clip-path=\"url(#clip430)\" style=\"stroke:#000000; stroke-width:4; stroke-opacity:1; fill:none\" points=\"\n",
       "  1320.24,1423.18 1320.24,1408.31 \n",
       "  \"/>\n",
       "<polyline clip-path=\"url(#clip430)\" style=\"stroke:#000000; stroke-width:4; stroke-opacity:1; fill:none\" points=\"\n",
       "  1540.09,1423.18 1540.09,1408.31 \n",
       "  \"/>\n",
       "<path clip-path=\"url(#clip430)\" d=\"M 0 0 M202.256 1452.37 Q198.645 1452.37 196.816 1455.94 Q195.011 1459.48 195.011 1466.61 Q195.011 1473.71 196.816 1477.28 Q198.645 1480.82 202.256 1480.82 Q205.89 1480.82 207.696 1477.28 Q209.524 1473.71 209.524 1466.61 Q209.524 1459.48 207.696 1455.94 Q205.89 1452.37 202.256 1452.37 M202.256 1448.67 Q208.066 1448.67 211.122 1453.27 Q214.2 1457.86 214.2 1466.61 Q214.2 1475.33 211.122 1479.94 Q208.066 1484.52 202.256 1484.52 Q196.446 1484.52 193.367 1479.94 Q190.312 1475.33 190.312 1466.61 Q190.312 1457.86 193.367 1453.27 Q196.446 1448.67 202.256 1448.67 Z\" fill=\"#000000\" fill-rule=\"evenodd\" fill-opacity=\"1\" /><path clip-path=\"url(#clip430)\" d=\"M 0 0 M219.27 1477.97 L224.154 1477.97 L224.154 1483.85 L219.27 1483.85 L219.27 1477.97 Z\" fill=\"#000000\" fill-rule=\"evenodd\" fill-opacity=\"1\" /><path clip-path=\"url(#clip430)\" d=\"M 0 0 M242.071 1453.37 L230.265 1471.81 L242.071 1471.81 L242.071 1453.37 M240.844 1449.29 L246.723 1449.29 L246.723 1471.81 L251.654 1471.81 L251.654 1475.7 L246.723 1475.7 L246.723 1483.85 L242.071 1483.85 L242.071 1475.7 L226.469 1475.7 L226.469 1471.19 L240.844 1449.29 Z\" fill=\"#000000\" fill-rule=\"evenodd\" fill-opacity=\"1\" /><path clip-path=\"url(#clip430)\" d=\"M 0 0 M422.848 1452.37 Q419.236 1452.37 417.408 1455.94 Q415.602 1459.48 415.602 1466.61 Q415.602 1473.71 417.408 1477.28 Q419.236 1480.82 422.848 1480.82 Q426.482 1480.82 428.287 1477.28 Q430.116 1473.71 430.116 1466.61 Q430.116 1459.48 428.287 1455.94 Q426.482 1452.37 422.848 1452.37 M422.848 1448.67 Q428.658 1448.67 431.713 1453.27 Q434.792 1457.86 434.792 1466.61 Q434.792 1475.33 431.713 1479.94 Q428.658 1484.52 422.848 1484.52 Q417.037 1484.52 413.959 1479.94 Q410.903 1475.33 410.903 1466.61 Q410.903 1457.86 413.959 1453.27 Q417.037 1448.67 422.848 1448.67 Z\" fill=\"#000000\" fill-rule=\"evenodd\" fill-opacity=\"1\" /><path clip-path=\"url(#clip430)\" d=\"M 0 0 M439.861 1477.97 L444.746 1477.97 L444.746 1483.85 L439.861 1483.85 L439.861 1477.97 Z\" fill=\"#000000\" fill-rule=\"evenodd\" fill-opacity=\"1\" /><path clip-path=\"url(#clip430)\" d=\"M 0 0 M449.861 1449.29 L468.218 1449.29 L468.218 1453.23 L454.144 1453.23 L454.144 1461.7 Q455.162 1461.35 456.181 1461.19 Q457.199 1461 458.218 1461 Q464.005 1461 467.384 1464.18 Q470.764 1467.35 470.764 1472.76 Q470.764 1478.34 467.292 1481.44 Q463.82 1484.52 457.5 1484.52 Q455.324 1484.52 453.056 1484.15 Q450.81 1483.78 448.403 1483.04 L448.403 1478.34 Q450.486 1479.48 452.709 1480.03 Q454.931 1480.59 457.408 1480.59 Q461.412 1480.59 463.75 1478.48 Q466.088 1476.38 466.088 1472.76 Q466.088 1469.15 463.75 1467.05 Q461.412 1464.94 457.408 1464.94 Q455.533 1464.94 453.658 1465.36 Q451.806 1465.77 449.861 1466.65 L449.861 1449.29 Z\" fill=\"#000000\" fill-rule=\"evenodd\" fill-opacity=\"1\" /><path clip-path=\"url(#clip430)\" d=\"M 0 0 M642.12 1452.37 Q638.509 1452.37 636.68 1455.94 Q634.874 1459.48 634.874 1466.61 Q634.874 1473.71 636.68 1477.28 Q638.509 1480.82 642.12 1480.82 Q645.754 1480.82 647.56 1477.28 Q649.388 1473.71 649.388 1466.61 Q649.388 1459.48 647.56 1455.94 Q645.754 1452.37 642.12 1452.37 M642.12 1448.67 Q647.93 1448.67 650.985 1453.27 Q654.064 1457.86 654.064 1466.61 Q654.064 1475.33 650.985 1479.94 Q647.93 1484.52 642.12 1484.52 Q636.31 1484.52 633.231 1479.94 Q630.175 1475.33 630.175 1466.61 Q630.175 1457.86 633.231 1453.27 Q636.31 1448.67 642.12 1448.67 Z\" fill=\"#000000\" fill-rule=\"evenodd\" fill-opacity=\"1\" /><path clip-path=\"url(#clip430)\" d=\"M 0 0 M659.134 1477.97 L664.018 1477.97 L664.018 1483.85 L659.134 1483.85 L659.134 1477.97 Z\" fill=\"#000000\" fill-rule=\"evenodd\" fill-opacity=\"1\" /><path clip-path=\"url(#clip430)\" d=\"M 0 0 M679.666 1464.71 Q676.518 1464.71 674.666 1466.86 Q672.837 1469.01 672.837 1472.76 Q672.837 1476.49 674.666 1478.67 Q676.518 1480.82 679.666 1480.82 Q682.814 1480.82 684.643 1478.67 Q686.494 1476.49 686.494 1472.76 Q686.494 1469.01 684.643 1466.86 Q682.814 1464.71 679.666 1464.71 M688.948 1450.06 L688.948 1454.31 Q687.189 1453.48 685.383 1453.04 Q683.601 1452.6 681.842 1452.6 Q677.212 1452.6 674.758 1455.73 Q672.328 1458.85 671.981 1465.17 Q673.346 1463.16 675.407 1462.09 Q677.467 1461 679.944 1461 Q685.152 1461 688.161 1464.18 Q691.194 1467.32 691.194 1472.76 Q691.194 1478.09 688.045 1481.31 Q684.897 1484.52 679.666 1484.52 Q673.67 1484.52 670.499 1479.94 Q667.328 1475.33 667.328 1466.61 Q667.328 1458.41 671.217 1453.55 Q675.106 1448.67 681.657 1448.67 Q683.416 1448.67 685.198 1449.01 Q687.004 1449.36 688.948 1450.06 Z\" fill=\"#000000\" fill-rule=\"evenodd\" fill-opacity=\"1\" /><path clip-path=\"url(#clip430)\" d=\"M 0 0 M862.503 1452.37 Q858.892 1452.37 857.063 1455.94 Q855.258 1459.48 855.258 1466.61 Q855.258 1473.71 857.063 1477.28 Q858.892 1480.82 862.503 1480.82 Q866.137 1480.82 867.943 1477.28 Q869.771 1473.71 869.771 1466.61 Q869.771 1459.48 867.943 1455.94 Q866.137 1452.37 862.503 1452.37 M862.503 1448.67 Q868.313 1448.67 871.369 1453.27 Q874.447 1457.86 874.447 1466.61 Q874.447 1475.33 871.369 1479.94 Q868.313 1484.52 862.503 1484.52 Q856.693 1484.52 853.614 1479.94 Q850.559 1475.33 850.559 1466.61 Q850.559 1457.86 853.614 1453.27 Q856.693 1448.67 862.503 1448.67 Z\" fill=\"#000000\" fill-rule=\"evenodd\" fill-opacity=\"1\" /><path clip-path=\"url(#clip430)\" d=\"M 0 0 M879.517 1477.97 L884.401 1477.97 L884.401 1483.85 L879.517 1483.85 L879.517 1477.97 Z\" fill=\"#000000\" fill-rule=\"evenodd\" fill-opacity=\"1\" /><path clip-path=\"url(#clip430)\" d=\"M 0 0 M888.29 1449.29 L910.512 1449.29 L910.512 1451.28 L897.966 1483.85 L893.082 1483.85 L904.887 1453.23 L888.29 1453.23 L888.29 1449.29 Z\" fill=\"#000000\" fill-rule=\"evenodd\" fill-opacity=\"1\" /><path clip-path=\"url(#clip430)\" d=\"M 0 0 M1081.95 1452.37 Q1078.34 1452.37 1076.51 1455.94 Q1074.7 1459.48 1074.7 1466.61 Q1074.7 1473.71 1076.51 1477.28 Q1078.34 1480.82 1081.95 1480.82 Q1085.58 1480.82 1087.39 1477.28 Q1089.22 1473.71 1089.22 1466.61 Q1089.22 1459.48 1087.39 1455.94 Q1085.58 1452.37 1081.95 1452.37 M1081.95 1448.67 Q1087.76 1448.67 1090.81 1453.27 Q1093.89 1457.86 1093.89 1466.61 Q1093.89 1475.33 1090.81 1479.94 Q1087.76 1484.52 1081.95 1484.52 Q1076.14 1484.52 1073.06 1479.94 Q1070 1475.33 1070 1466.61 Q1070 1457.86 1073.06 1453.27 Q1076.14 1448.67 1081.95 1448.67 Z\" fill=\"#000000\" fill-rule=\"evenodd\" fill-opacity=\"1\" /><path clip-path=\"url(#clip430)\" d=\"M 0 0 M1098.96 1477.97 L1103.85 1477.97 L1103.85 1483.85 L1098.96 1483.85 L1098.96 1477.97 Z\" fill=\"#000000\" fill-rule=\"evenodd\" fill-opacity=\"1\" /><path clip-path=\"url(#clip430)\" d=\"M 0 0 M1118.92 1467.44 Q1115.58 1467.44 1113.66 1469.22 Q1111.76 1471 1111.76 1474.13 Q1111.76 1477.25 1113.66 1479.04 Q1115.58 1480.82 1118.92 1480.82 Q1122.25 1480.82 1124.17 1479.04 Q1126.09 1477.23 1126.09 1474.13 Q1126.09 1471 1124.17 1469.22 Q1122.27 1467.44 1118.92 1467.44 M1114.24 1465.45 Q1111.23 1464.71 1109.54 1462.65 Q1107.87 1460.59 1107.87 1457.63 Q1107.87 1453.48 1110.81 1451.07 Q1113.78 1448.67 1118.92 1448.67 Q1124.08 1448.67 1127.02 1451.07 Q1129.96 1453.48 1129.96 1457.63 Q1129.96 1460.59 1128.27 1462.65 Q1126.6 1464.71 1123.62 1465.45 Q1126.99 1466.24 1128.87 1468.53 Q1130.77 1470.82 1130.77 1474.13 Q1130.77 1479.15 1127.69 1481.84 Q1124.63 1484.52 1118.92 1484.52 Q1113.2 1484.52 1110.12 1481.84 Q1107.06 1479.15 1107.06 1474.13 Q1107.06 1470.82 1108.96 1468.53 Q1110.86 1466.24 1114.24 1465.45 M1112.53 1458.06 Q1112.53 1460.75 1114.19 1462.25 Q1115.88 1463.76 1118.92 1463.76 Q1121.93 1463.76 1123.62 1462.25 Q1125.33 1460.75 1125.33 1458.06 Q1125.33 1455.38 1123.62 1453.88 Q1121.93 1452.37 1118.92 1452.37 Q1115.88 1452.37 1114.19 1453.88 Q1112.53 1455.38 1112.53 1458.06 Z\" fill=\"#000000\" fill-rule=\"evenodd\" fill-opacity=\"1\" /><path clip-path=\"url(#clip430)\" d=\"M 0 0 M1301.85 1452.37 Q1298.23 1452.37 1296.41 1455.94 Q1294.6 1459.48 1294.6 1466.61 Q1294.6 1473.71 1296.41 1477.28 Q1298.23 1480.82 1301.85 1480.82 Q1305.48 1480.82 1307.29 1477.28 Q1309.11 1473.71 1309.11 1466.61 Q1309.11 1459.48 1307.29 1455.94 Q1305.48 1452.37 1301.85 1452.37 M1301.85 1448.67 Q1307.66 1448.67 1310.71 1453.27 Q1313.79 1457.86 1313.79 1466.61 Q1313.79 1475.33 1310.71 1479.94 Q1307.66 1484.52 1301.85 1484.52 Q1296.04 1484.52 1292.96 1479.94 Q1289.9 1475.33 1289.9 1466.61 Q1289.9 1457.86 1292.96 1453.27 Q1296.04 1448.67 1301.85 1448.67 Z\" fill=\"#000000\" fill-rule=\"evenodd\" fill-opacity=\"1\" /><path clip-path=\"url(#clip430)\" d=\"M 0 0 M1318.86 1477.97 L1323.74 1477.97 L1323.74 1483.85 L1318.86 1483.85 L1318.86 1477.97 Z\" fill=\"#000000\" fill-rule=\"evenodd\" fill-opacity=\"1\" /><path clip-path=\"url(#clip430)\" d=\"M 0 0 M1328.95 1483.13 L1328.95 1478.88 Q1330.71 1479.71 1332.52 1480.15 Q1334.32 1480.59 1336.06 1480.59 Q1340.69 1480.59 1343.12 1477.49 Q1345.57 1474.36 1345.92 1468.02 Q1344.58 1470.01 1342.52 1471.07 Q1340.46 1472.14 1337.96 1472.14 Q1332.77 1472.14 1329.74 1469.01 Q1326.73 1465.87 1326.73 1460.43 Q1326.73 1455.1 1329.88 1451.88 Q1333.03 1448.67 1338.26 1448.67 Q1344.25 1448.67 1347.4 1453.27 Q1350.57 1457.86 1350.57 1466.61 Q1350.57 1474.78 1346.68 1479.66 Q1342.82 1484.52 1336.27 1484.52 Q1334.51 1484.52 1332.7 1484.18 Q1330.9 1483.83 1328.95 1483.13 M1338.26 1468.48 Q1341.41 1468.48 1343.23 1466.33 Q1345.09 1464.18 1345.09 1460.43 Q1345.09 1456.7 1343.23 1454.55 Q1341.41 1452.37 1338.26 1452.37 Q1335.11 1452.37 1333.26 1454.55 Q1331.43 1456.7 1331.43 1460.43 Q1331.43 1464.18 1333.26 1466.33 Q1335.11 1468.48 1338.26 1468.48 Z\" fill=\"#000000\" fill-rule=\"evenodd\" fill-opacity=\"1\" /><path clip-path=\"url(#clip430)\" d=\"M 0 0 M1511.99 1479.92 L1519.62 1479.92 L1519.62 1453.55 L1511.31 1455.22 L1511.31 1450.96 L1519.58 1449.29 L1524.25 1449.29 L1524.25 1479.92 L1531.89 1479.92 L1531.89 1483.85 L1511.99 1483.85 L1511.99 1479.92 Z\" fill=\"#000000\" fill-rule=\"evenodd\" fill-opacity=\"1\" /><path clip-path=\"url(#clip430)\" d=\"M 0 0 M1536.96 1477.97 L1541.85 1477.97 L1541.85 1483.85 L1536.96 1483.85 L1536.96 1477.97 Z\" fill=\"#000000\" fill-rule=\"evenodd\" fill-opacity=\"1\" /><path clip-path=\"url(#clip430)\" d=\"M 0 0 M1556.92 1452.37 Q1553.31 1452.37 1551.48 1455.94 Q1549.67 1459.48 1549.67 1466.61 Q1549.67 1473.71 1551.48 1477.28 Q1553.31 1480.82 1556.92 1480.82 Q1560.55 1480.82 1562.36 1477.28 Q1564.18 1473.71 1564.18 1466.61 Q1564.18 1459.48 1562.36 1455.94 Q1560.55 1452.37 1556.92 1452.37 M1556.92 1448.67 Q1562.73 1448.67 1565.78 1453.27 Q1568.86 1457.86 1568.86 1466.61 Q1568.86 1475.33 1565.78 1479.94 Q1562.73 1484.52 1556.92 1484.52 Q1551.11 1484.52 1548.03 1479.94 Q1544.97 1475.33 1544.97 1466.61 Q1544.97 1457.86 1548.03 1453.27 Q1551.11 1448.67 1556.92 1448.67 Z\" fill=\"#000000\" fill-rule=\"evenodd\" fill-opacity=\"1\" /><path clip-path=\"url(#clip430)\" d=\"M 0 0 M716.284 1508.52 L722.713 1508.52 L722.713 1556.04 L716.284 1556.04 L716.284 1508.52 Z\" fill=\"#000000\" fill-rule=\"evenodd\" fill-opacity=\"1\" /><path clip-path=\"url(#clip430)\" d=\"M 0 0 M758.488 1534.53 L758.488 1556.04 L752.632 1556.04 L752.632 1534.72 Q752.632 1529.66 750.659 1527.14 Q748.685 1524.63 744.739 1524.63 Q739.996 1524.63 737.259 1527.65 Q734.522 1530.68 734.522 1535.9 L734.522 1556.04 L728.633 1556.04 L728.633 1520.4 L734.522 1520.4 L734.522 1525.93 Q736.622 1522.72 739.455 1521.13 Q742.32 1519.54 746.044 1519.54 Q752.186 1519.54 755.337 1523.36 Q758.488 1527.14 758.488 1534.53 Z\" fill=\"#000000\" fill-rule=\"evenodd\" fill-opacity=\"1\" /><path clip-path=\"url(#clip430)\" d=\"M 0 0 M770.297 1550.7 L770.297 1569.6 L764.409 1569.6 L764.409 1520.4 L770.297 1520.4 L770.297 1525.81 Q772.143 1522.62 774.944 1521.1 Q777.777 1519.54 781.691 1519.54 Q788.184 1519.54 792.227 1524.69 Q796.301 1529.85 796.301 1538.25 Q796.301 1546.65 792.227 1551.81 Q788.184 1556.97 781.691 1556.97 Q777.777 1556.97 774.944 1555.44 Q772.143 1553.88 770.297 1550.7 M790.222 1538.25 Q790.222 1531.79 787.548 1528.13 Q784.906 1524.44 780.259 1524.44 Q775.612 1524.44 772.939 1528.13 Q770.297 1531.79 770.297 1538.25 Q770.297 1544.71 772.939 1548.4 Q775.612 1552.07 780.259 1552.07 Q784.906 1552.07 787.548 1548.4 Q790.222 1544.71 790.222 1538.25 Z\" fill=\"#000000\" fill-rule=\"evenodd\" fill-opacity=\"1\" /><path clip-path=\"url(#clip430)\" d=\"M 0 0 M801.839 1541.98 L801.839 1520.4 L807.695 1520.4 L807.695 1541.75 Q807.695 1546.81 809.669 1549.36 Q811.642 1551.87 815.589 1551.87 Q820.331 1551.87 823.069 1548.85 Q825.838 1545.83 825.838 1540.61 L825.838 1520.4 L831.694 1520.4 L831.694 1556.04 L825.838 1556.04 L825.838 1550.57 Q823.705 1553.82 820.872 1555.41 Q818.071 1556.97 814.348 1556.97 Q808.205 1556.97 805.022 1553.15 Q801.839 1549.33 801.839 1541.98 M816.576 1519.54 L816.576 1519.54 Z\" fill=\"#000000\" fill-rule=\"evenodd\" fill-opacity=\"1\" /><path clip-path=\"url(#clip430)\" d=\"M 0 0 M843.63 1510.27 L843.63 1520.4 L855.693 1520.4 L855.693 1524.95 L843.63 1524.95 L843.63 1544.3 Q843.63 1548.66 844.807 1549.9 Q846.017 1551.14 849.677 1551.14 L855.693 1551.14 L855.693 1556.04 L849.677 1556.04 Q842.898 1556.04 840.32 1553.53 Q837.742 1550.98 837.742 1544.3 L837.742 1524.95 L833.445 1524.95 L833.445 1520.4 L837.742 1520.4 L837.742 1510.27 L843.63 1510.27 Z\" fill=\"#000000\" fill-rule=\"evenodd\" fill-opacity=\"1\" /><path clip-path=\"url(#clip430)\" d=\"M 0 0 M882.811 1508.52 L910.12 1508.52 L910.12 1513.93 L889.24 1513.93 L889.24 1527.94 L908.083 1527.94 L908.083 1533.35 L889.24 1533.35 L889.24 1556.04 L882.811 1556.04 L882.811 1508.52 Z\" fill=\"#000000\" fill-rule=\"evenodd\" fill-opacity=\"1\" /><path clip-path=\"url(#clip430)\" d=\"M 0 0 M911.52 1520.4 L917.376 1520.4 L917.376 1556.04 L911.52 1556.04 L911.52 1520.4 M911.52 1506.52 L917.376 1506.52 L917.376 1513.93 L911.52 1513.93 L911.52 1506.52 Z\" fill=\"#000000\" fill-rule=\"evenodd\" fill-opacity=\"1\" /><path clip-path=\"url(#clip430)\" d=\"M 0 0 M946.977 1525.81 L946.977 1506.52 L952.833 1506.52 L952.833 1556.04 L946.977 1556.04 L946.977 1550.7 Q945.131 1553.88 942.298 1555.44 Q939.497 1556.97 935.551 1556.97 Q929.089 1556.97 925.015 1551.81 Q920.973 1546.65 920.973 1538.25 Q920.973 1529.85 925.015 1524.69 Q929.089 1519.54 935.551 1519.54 Q939.497 1519.54 942.298 1521.1 Q945.131 1522.62 946.977 1525.81 M927.021 1538.25 Q927.021 1544.71 929.662 1548.4 Q932.336 1552.07 936.983 1552.07 Q941.63 1552.07 944.303 1548.4 Q946.977 1544.71 946.977 1538.25 Q946.977 1531.79 944.303 1528.13 Q941.63 1524.44 936.983 1524.44 Q932.336 1524.44 929.662 1528.13 Q927.021 1531.79 927.021 1538.25 Z\" fill=\"#000000\" fill-rule=\"evenodd\" fill-opacity=\"1\" /><path clip-path=\"url(#clip430)\" d=\"M 0 0 M989.468 1536.76 L989.468 1539.62 L962.541 1539.62 Q962.923 1545.67 966.17 1548.85 Q969.448 1552 975.273 1552 Q978.646 1552 981.797 1551.17 Q984.98 1550.35 988.099 1548.69 L988.099 1554.23 Q984.948 1555.57 981.638 1556.27 Q978.328 1556.97 974.922 1556.97 Q966.392 1556.97 961.395 1552 Q956.43 1547.04 956.43 1538.57 Q956.43 1529.82 961.141 1524.69 Q965.883 1519.54 973.904 1519.54 Q981.097 1519.54 985.267 1524.18 Q989.468 1528.8 989.468 1536.76 M983.612 1535.04 Q983.548 1530.23 980.906 1527.37 Q978.296 1524.5 973.968 1524.5 Q969.066 1524.5 966.106 1527.27 Q963.178 1530.04 962.732 1535.07 L983.612 1535.04 Z\" fill=\"#000000\" fill-rule=\"evenodd\" fill-opacity=\"1\" /><path clip-path=\"url(#clip430)\" d=\"M 0 0 M995.611 1506.52 L1001.47 1506.52 L1001.47 1556.04 L995.611 1556.04 L995.611 1506.52 Z\" fill=\"#000000\" fill-rule=\"evenodd\" fill-opacity=\"1\" /><path clip-path=\"url(#clip430)\" d=\"M 0 0 M1007.61 1520.4 L1013.47 1520.4 L1013.47 1556.04 L1007.61 1556.04 L1007.61 1520.4 M1007.61 1506.52 L1013.47 1506.52 L1013.47 1513.93 L1007.61 1513.93 L1007.61 1506.52 Z\" fill=\"#000000\" fill-rule=\"evenodd\" fill-opacity=\"1\" /><path clip-path=\"url(#clip430)\" d=\"M 0 0 M1025.4 1510.27 L1025.4 1520.4 L1037.47 1520.4 L1037.47 1524.95 L1025.4 1524.95 L1025.4 1544.3 Q1025.4 1548.66 1026.58 1549.9 Q1027.79 1551.14 1031.45 1551.14 L1037.47 1551.14 L1037.47 1556.04 L1031.45 1556.04 Q1024.67 1556.04 1022.09 1553.53 Q1019.51 1550.98 1019.51 1544.3 L1019.51 1524.95 L1015.22 1524.95 L1015.22 1520.4 L1019.51 1520.4 L1019.51 1510.27 L1025.4 1510.27 Z\" fill=\"#000000\" fill-rule=\"evenodd\" fill-opacity=\"1\" /><path clip-path=\"url(#clip430)\" d=\"M 0 0 M1058.44 1559.35 Q1055.96 1565.72 1053.6 1567.66 Q1051.25 1569.6 1047.3 1569.6 L1042.62 1569.6 L1042.62 1564.7 L1046.06 1564.7 Q1048.48 1564.7 1049.82 1563.56 Q1051.15 1562.41 1052.78 1558.14 L1053.83 1555.47 L1039.41 1520.4 L1045.61 1520.4 L1056.75 1548.28 L1067.89 1520.4 L1074.1 1520.4 L1058.44 1559.35 Z\" fill=\"#000000\" fill-rule=\"evenodd\" fill-opacity=\"1\" /><polyline clip-path=\"url(#clip432)\" style=\"stroke:#000000; stroke-width:2; stroke-opacity:0.1; fill:none\" points=\"\n",
       "  211.602,1232.23 1578.78,1232.23 \n",
       "  \"/>\n",
       "<polyline clip-path=\"url(#clip432)\" style=\"stroke:#000000; stroke-width:2; stroke-opacity:0.1; fill:none\" points=\"\n",
       "  211.602,894.495 1578.78,894.495 \n",
       "  \"/>\n",
       "<polyline clip-path=\"url(#clip432)\" style=\"stroke:#000000; stroke-width:2; stroke-opacity:0.1; fill:none\" points=\"\n",
       "  211.602,556.76 1578.78,556.76 \n",
       "  \"/>\n",
       "<polyline clip-path=\"url(#clip432)\" style=\"stroke:#000000; stroke-width:2; stroke-opacity:0.1; fill:none\" points=\"\n",
       "  211.602,219.025 1578.78,219.025 \n",
       "  \"/>\n",
       "<polyline clip-path=\"url(#clip430)\" style=\"stroke:#000000; stroke-width:4; stroke-opacity:1; fill:none\" points=\"\n",
       "  211.602,1423.18 211.602,183.952 \n",
       "  \"/>\n",
       "<polyline clip-path=\"url(#clip430)\" style=\"stroke:#000000; stroke-width:4; stroke-opacity:1; fill:none\" points=\"\n",
       "  211.602,1232.23 228.009,1232.23 \n",
       "  \"/>\n",
       "<polyline clip-path=\"url(#clip430)\" style=\"stroke:#000000; stroke-width:4; stroke-opacity:1; fill:none\" points=\"\n",
       "  211.602,894.495 228.009,894.495 \n",
       "  \"/>\n",
       "<polyline clip-path=\"url(#clip430)\" style=\"stroke:#000000; stroke-width:4; stroke-opacity:1; fill:none\" points=\"\n",
       "  211.602,556.76 228.009,556.76 \n",
       "  \"/>\n",
       "<polyline clip-path=\"url(#clip430)\" style=\"stroke:#000000; stroke-width:4; stroke-opacity:1; fill:none\" points=\"\n",
       "  211.602,219.025 228.009,219.025 \n",
       "  \"/>\n",
       "<path clip-path=\"url(#clip430)\" d=\"M 0 0 M126.205 1218.03 Q122.593 1218.03 120.765 1221.59 Q118.959 1225.13 118.959 1232.26 Q118.959 1239.37 120.765 1242.94 Q122.593 1246.48 126.205 1246.48 Q129.839 1246.48 131.644 1242.94 Q133.473 1239.37 133.473 1232.26 Q133.473 1225.13 131.644 1221.59 Q129.839 1218.03 126.205 1218.03 M126.205 1214.32 Q132.015 1214.32 135.07 1218.93 Q138.149 1223.51 138.149 1232.26 Q138.149 1240.99 135.07 1245.6 Q132.015 1250.18 126.205 1250.18 Q120.394 1250.18 117.316 1245.6 Q114.26 1240.99 114.26 1232.26 Q114.26 1223.51 117.316 1218.93 Q120.394 1214.32 126.205 1214.32 Z\" fill=\"#000000\" fill-rule=\"evenodd\" fill-opacity=\"1\" /><path clip-path=\"url(#clip430)\" d=\"M 0 0 M143.218 1243.63 L148.103 1243.63 L148.103 1249.51 L143.218 1249.51 L143.218 1243.63 Z\" fill=\"#000000\" fill-rule=\"evenodd\" fill-opacity=\"1\" /><path clip-path=\"url(#clip430)\" d=\"M 0 0 M166.019 1219.02 L154.214 1237.47 L166.019 1237.47 L166.019 1219.02 M164.792 1214.95 L170.672 1214.95 L170.672 1237.47 L175.602 1237.47 L175.602 1241.36 L170.672 1241.36 L170.672 1249.51 L166.019 1249.51 L166.019 1241.36 L150.417 1241.36 L150.417 1236.85 L164.792 1214.95 Z\" fill=\"#000000\" fill-rule=\"evenodd\" fill-opacity=\"1\" /><path clip-path=\"url(#clip430)\" d=\"M 0 0 M126.529 880.293 Q122.918 880.293 121.089 883.858 Q119.283 887.4 119.283 894.529 Q119.283 901.636 121.089 905.201 Q122.918 908.742 126.529 908.742 Q130.163 908.742 131.968 905.201 Q133.797 901.636 133.797 894.529 Q133.797 887.4 131.968 883.858 Q130.163 880.293 126.529 880.293 M126.529 876.59 Q132.339 876.59 135.394 881.196 Q138.473 885.779 138.473 894.529 Q138.473 903.256 135.394 907.863 Q132.339 912.446 126.529 912.446 Q120.718 912.446 117.64 907.863 Q114.584 903.256 114.584 894.529 Q114.584 885.779 117.64 881.196 Q120.718 876.59 126.529 876.59 Z\" fill=\"#000000\" fill-rule=\"evenodd\" fill-opacity=\"1\" /><path clip-path=\"url(#clip430)\" d=\"M 0 0 M143.542 905.895 L148.427 905.895 L148.427 911.775 L143.542 911.775 L143.542 905.895 Z\" fill=\"#000000\" fill-rule=\"evenodd\" fill-opacity=\"1\" /><path clip-path=\"url(#clip430)\" d=\"M 0 0 M164.075 892.631 Q160.927 892.631 159.075 894.784 Q157.246 896.937 157.246 900.687 Q157.246 904.414 159.075 906.589 Q160.927 908.742 164.075 908.742 Q167.223 908.742 169.052 906.589 Q170.903 904.414 170.903 900.687 Q170.903 896.937 169.052 894.784 Q167.223 892.631 164.075 892.631 M173.357 877.979 L173.357 882.238 Q171.598 881.404 169.792 880.965 Q168.01 880.525 166.251 880.525 Q161.621 880.525 159.167 883.65 Q156.737 886.775 156.39 893.094 Q157.755 891.08 159.815 890.016 Q161.876 888.928 164.352 888.928 Q169.561 888.928 172.57 892.099 Q175.602 895.247 175.602 900.687 Q175.602 906.011 172.454 909.228 Q169.306 912.446 164.075 912.446 Q158.079 912.446 154.908 907.863 Q151.737 903.256 151.737 894.529 Q151.737 886.335 155.626 881.474 Q159.515 876.59 166.065 876.59 Q167.825 876.59 169.607 876.937 Q171.413 877.284 173.357 877.979 Z\" fill=\"#000000\" fill-rule=\"evenodd\" fill-opacity=\"1\" /><path clip-path=\"url(#clip430)\" d=\"M 0 0 M126.783 542.558 Q123.172 542.558 121.343 546.123 Q119.538 549.665 119.538 556.794 Q119.538 563.901 121.343 567.466 Q123.172 571.007 126.783 571.007 Q130.417 571.007 132.223 567.466 Q134.052 563.901 134.052 556.794 Q134.052 549.665 132.223 546.123 Q130.417 542.558 126.783 542.558 M126.783 538.855 Q132.593 538.855 135.649 543.461 Q138.728 548.044 138.728 556.794 Q138.728 565.521 135.649 570.128 Q132.593 574.711 126.783 574.711 Q120.973 574.711 117.894 570.128 Q114.839 565.521 114.839 556.794 Q114.839 548.044 117.894 543.461 Q120.973 538.855 126.783 538.855 Z\" fill=\"#000000\" fill-rule=\"evenodd\" fill-opacity=\"1\" /><path clip-path=\"url(#clip430)\" d=\"M 0 0 M143.797 568.16 L148.681 568.16 L148.681 574.04 L143.797 574.04 L143.797 568.16 Z\" fill=\"#000000\" fill-rule=\"evenodd\" fill-opacity=\"1\" /><path clip-path=\"url(#clip430)\" d=\"M 0 0 M163.751 557.628 Q160.417 557.628 158.496 559.41 Q156.598 561.192 156.598 564.317 Q156.598 567.442 158.496 569.225 Q160.417 571.007 163.751 571.007 Q167.084 571.007 169.005 569.225 Q170.927 567.419 170.927 564.317 Q170.927 561.192 169.005 559.41 Q167.107 557.628 163.751 557.628 M159.075 555.637 Q156.065 554.896 154.376 552.836 Q152.709 550.776 152.709 547.813 Q152.709 543.669 155.649 541.262 Q158.612 538.855 163.751 538.855 Q168.913 538.855 171.852 541.262 Q174.792 543.669 174.792 547.813 Q174.792 550.776 173.102 552.836 Q171.436 554.896 168.45 555.637 Q171.829 556.424 173.704 558.716 Q175.602 561.007 175.602 564.317 Q175.602 569.341 172.524 572.026 Q169.468 574.711 163.751 574.711 Q158.033 574.711 154.954 572.026 Q151.899 569.341 151.899 564.317 Q151.899 561.007 153.797 558.716 Q155.695 556.424 159.075 555.637 M157.362 548.253 Q157.362 550.938 159.028 552.443 Q160.718 553.947 163.751 553.947 Q166.76 553.947 168.45 552.443 Q170.163 550.938 170.163 548.253 Q170.163 545.568 168.45 544.063 Q166.76 542.558 163.751 542.558 Q160.718 542.558 159.028 544.063 Q157.362 545.568 157.362 548.253 Z\" fill=\"#000000\" fill-rule=\"evenodd\" fill-opacity=\"1\" /><path clip-path=\"url(#clip430)\" d=\"M 0 0 M118.728 232.369 L126.367 232.369 L126.367 206.004 L118.056 207.671 L118.056 203.411 L126.32 201.745 L130.996 201.745 L130.996 232.369 L138.635 232.369 L138.635 236.305 L118.728 236.305 L118.728 232.369 Z\" fill=\"#000000\" fill-rule=\"evenodd\" fill-opacity=\"1\" /><path clip-path=\"url(#clip430)\" d=\"M 0 0 M143.704 230.425 L148.589 230.425 L148.589 236.305 L143.704 236.305 L143.704 230.425 Z\" fill=\"#000000\" fill-rule=\"evenodd\" fill-opacity=\"1\" /><path clip-path=\"url(#clip430)\" d=\"M 0 0 M163.658 204.823 Q160.047 204.823 158.218 208.388 Q156.413 211.93 156.413 219.059 Q156.413 226.166 158.218 229.731 Q160.047 233.272 163.658 233.272 Q167.292 233.272 169.098 229.731 Q170.927 226.166 170.927 219.059 Q170.927 211.93 169.098 208.388 Q167.292 204.823 163.658 204.823 M163.658 201.12 Q169.468 201.12 172.524 205.726 Q175.602 210.309 175.602 219.059 Q175.602 227.786 172.524 232.393 Q169.468 236.976 163.658 236.976 Q157.848 236.976 154.769 232.393 Q151.714 227.786 151.714 219.059 Q151.714 210.309 154.769 205.726 Q157.848 201.12 163.658 201.12 Z\" fill=\"#000000\" fill-rule=\"evenodd\" fill-opacity=\"1\" /><path clip-path=\"url(#clip430)\" d=\"M 0 0 M44.8447 991.036 Q44.8447 998.038 50.0645 1002.18 Q55.2844 1006.28 64.2919 1006.28 Q73.2675 1006.28 78.4874 1002.18 Q83.7073 998.038 83.7073 991.036 Q83.7073 984.034 78.4874 979.96 Q73.2675 975.854 64.2919 975.854 Q55.2844 975.854 50.0645 979.96 Q44.8447 984.034 44.8447 991.036 M39.6248 991.036 Q39.6248 981.042 46.3406 975.058 Q53.0246 969.074 64.2919 969.074 Q75.5274 969.074 82.2432 975.058 Q88.9272 981.042 88.9272 991.036 Q88.9272 1001.06 82.2432 1007.08 Q75.5592 1013.06 64.2919 1013.06 Q53.0246 1013.06 46.3406 1007.08 Q39.6248 1001.06 39.6248 991.036 Z\" fill=\"#000000\" fill-rule=\"evenodd\" fill-opacity=\"1\" /><path clip-path=\"url(#clip430)\" d=\"M 0 0 M73.9359 963.536 L52.3562 963.536 L52.3562 957.68 L73.7131 957.68 Q78.7739 957.68 81.3202 955.706 Q83.8346 953.733 83.8346 949.786 Q83.8346 945.044 80.8109 942.307 Q77.7872 939.537 72.5673 939.537 L52.3562 939.537 L52.3562 933.681 L88.0042 933.681 L88.0042 939.537 L82.5296 939.537 Q85.7762 941.67 87.3676 944.503 Q88.9272 947.304 88.9272 951.028 Q88.9272 957.17 85.1078 960.353 Q81.2883 963.536 73.9359 963.536 M51.4968 948.8 L51.4968 948.8 Z\" fill=\"#000000\" fill-rule=\"evenodd\" fill-opacity=\"1\" /><path clip-path=\"url(#clip430)\" d=\"M 0 0 M42.2347 921.745 L52.3562 921.745 L52.3562 909.682 L56.9077 909.682 L56.9077 921.745 L76.2594 921.745 Q80.6199 921.745 81.8613 920.568 Q83.1026 919.358 83.1026 915.698 L83.1026 909.682 L88.0042 909.682 L88.0042 915.698 Q88.0042 922.477 85.4897 925.055 Q82.9434 927.634 76.2594 927.634 L56.9077 927.634 L56.9077 931.93 L52.3562 931.93 L52.3562 927.634 L42.2347 927.634 L42.2347 921.745 Z\" fill=\"#000000\" fill-rule=\"evenodd\" fill-opacity=\"1\" /><path clip-path=\"url(#clip430)\" d=\"M 0 0 M82.657 897.874 L101.563 897.874 L101.563 903.762 L52.3562 903.762 L52.3562 897.874 L57.7671 897.874 Q54.5842 896.028 53.0564 893.227 Q51.4968 890.394 51.4968 886.479 Q51.4968 879.986 56.6531 875.944 Q61.8093 871.87 70.212 871.87 Q78.6147 871.87 83.771 875.944 Q88.9272 879.986 88.9272 886.479 Q88.9272 890.394 87.3994 893.227 Q85.8398 896.028 82.657 897.874 M70.212 877.949 Q63.7508 877.949 60.0905 880.623 Q56.3984 883.265 56.3984 887.912 Q56.3984 892.559 60.0905 895.232 Q63.7508 897.874 70.212 897.874 Q76.6732 897.874 80.3653 895.232 Q84.0256 892.559 84.0256 887.912 Q84.0256 883.265 80.3653 880.623 Q76.6732 877.949 70.212 877.949 Z\" fill=\"#000000\" fill-rule=\"evenodd\" fill-opacity=\"1\" /><path clip-path=\"url(#clip430)\" d=\"M 0 0 M73.9359 866.332 L52.3562 866.332 L52.3562 860.475 L73.7131 860.475 Q78.7739 860.475 81.3202 858.502 Q83.8346 856.529 83.8346 852.582 Q83.8346 847.839 80.8109 845.102 Q77.7872 842.333 72.5673 842.333 L52.3562 842.333 L52.3562 836.477 L88.0042 836.477 L88.0042 842.333 L82.5296 842.333 Q85.7762 844.466 87.3676 847.298 Q88.9272 850.099 88.9272 853.823 Q88.9272 859.966 85.1078 863.149 Q81.2883 866.332 73.9359 866.332 M51.4968 851.595 L51.4968 851.595 Z\" fill=\"#000000\" fill-rule=\"evenodd\" fill-opacity=\"1\" /><path clip-path=\"url(#clip430)\" d=\"M 0 0 M42.2347 824.541 L52.3562 824.541 L52.3562 812.478 L56.9077 812.478 L56.9077 824.541 L76.2594 824.541 Q80.6199 824.541 81.8613 823.363 Q83.1026 822.154 83.1026 818.494 L83.1026 812.478 L88.0042 812.478 L88.0042 818.494 Q88.0042 825.273 85.4897 827.851 Q82.9434 830.429 76.2594 830.429 L56.9077 830.429 L56.9077 834.726 L52.3562 834.726 L52.3562 830.429 L42.2347 830.429 L42.2347 824.541 Z\" fill=\"#000000\" fill-rule=\"evenodd\" fill-opacity=\"1\" /><path clip-path=\"url(#clip430)\" d=\"M 0 0 M40.4842 785.36 L40.4842 758.051 L45.895 758.051 L45.895 778.931 L59.8996 778.931 L59.8996 760.088 L65.3104 760.088 L65.3104 778.931 L88.0042 778.931 L88.0042 785.36 L40.4842 785.36 Z\" fill=\"#000000\" fill-rule=\"evenodd\" fill-opacity=\"1\" /><path clip-path=\"url(#clip430)\" d=\"M 0 0 M52.3562 756.651 L52.3562 750.794 L88.0042 750.794 L88.0042 756.651 L52.3562 756.651 M38.479 756.651 L38.479 750.794 L45.895 750.794 L45.895 756.651 L38.479 756.651 Z\" fill=\"#000000\" fill-rule=\"evenodd\" fill-opacity=\"1\" /><path clip-path=\"url(#clip430)\" d=\"M 0 0 M57.7671 721.194 L38.479 721.194 L38.479 715.337 L88.0042 715.337 L88.0042 721.194 L82.657 721.194 Q85.8398 723.04 87.3994 725.873 Q88.9272 728.673 88.9272 732.62 Q88.9272 739.081 83.771 743.155 Q78.6147 747.198 70.212 747.198 Q61.8093 747.198 56.6531 743.155 Q51.4968 739.081 51.4968 732.62 Q51.4968 728.673 53.0564 725.873 Q54.5842 723.04 57.7671 721.194 M70.212 741.15 Q76.6732 741.15 80.3653 738.508 Q84.0256 735.835 84.0256 731.188 Q84.0256 726.541 80.3653 723.867 Q76.6732 721.194 70.212 721.194 Q63.7508 721.194 60.0905 723.867 Q56.3984 726.541 56.3984 731.188 Q56.3984 735.835 60.0905 738.508 Q63.7508 741.15 70.212 741.15 Z\" fill=\"#000000\" fill-rule=\"evenodd\" fill-opacity=\"1\" /><path clip-path=\"url(#clip430)\" d=\"M 0 0 M68.7161 678.703 L71.5806 678.703 L71.5806 705.63 Q77.6281 705.248 80.8109 702.001 Q83.9619 698.723 83.9619 692.898 Q83.9619 689.524 83.1344 686.373 Q82.3069 683.19 80.6518 680.071 L86.1899 680.071 Q87.5267 683.222 88.227 686.532 Q88.9272 689.843 88.9272 693.248 Q88.9272 701.778 83.9619 706.775 Q78.9967 711.741 70.5303 711.741 Q61.7774 711.741 56.6531 707.03 Q51.4968 702.288 51.4968 694.267 Q51.4968 687.074 56.1438 682.904 Q60.7589 678.703 68.7161 678.703 M66.9973 684.559 Q62.1912 684.623 59.3266 687.265 Q56.4621 689.874 56.4621 694.203 Q56.4621 699.105 59.2312 702.065 Q62.0002 704.993 67.0292 705.439 L66.9973 684.559 Z\" fill=\"#000000\" fill-rule=\"evenodd\" fill-opacity=\"1\" /><path clip-path=\"url(#clip430)\" d=\"M 0 0 M38.479 672.56 L38.479 666.703 L88.0042 666.703 L88.0042 672.56 L38.479 672.56 Z\" fill=\"#000000\" fill-rule=\"evenodd\" fill-opacity=\"1\" /><path clip-path=\"url(#clip430)\" d=\"M 0 0 M52.3562 660.56 L52.3562 654.704 L88.0042 654.704 L88.0042 660.56 L52.3562 660.56 M38.479 660.56 L38.479 654.704 L45.895 654.704 L45.895 660.56 L38.479 660.56 Z\" fill=\"#000000\" fill-rule=\"evenodd\" fill-opacity=\"1\" /><path clip-path=\"url(#clip430)\" d=\"M 0 0 M42.2347 642.768 L52.3562 642.768 L52.3562 630.705 L56.9077 630.705 L56.9077 642.768 L76.2594 642.768 Q80.6199 642.768 81.8613 641.591 Q83.1026 640.381 83.1026 636.721 L83.1026 630.705 L88.0042 630.705 L88.0042 636.721 Q88.0042 643.5 85.4897 646.078 Q82.9434 648.657 76.2594 648.657 L56.9077 648.657 L56.9077 652.953 L52.3562 652.953 L52.3562 648.657 L42.2347 648.657 L42.2347 642.768 Z\" fill=\"#000000\" fill-rule=\"evenodd\" fill-opacity=\"1\" /><path clip-path=\"url(#clip430)\" d=\"M 0 0 M91.3143 609.73 Q97.68 612.213 99.6216 614.568 Q101.563 616.923 101.563 620.87 L101.563 625.549 L96.6615 625.549 L96.6615 622.112 Q96.6615 619.693 95.5157 618.356 Q94.3699 617.019 90.1048 615.396 L87.4312 614.345 L52.3562 628.764 L52.3562 622.557 L80.238 611.417 L52.3562 600.277 L52.3562 594.071 L91.3143 609.73 Z\" fill=\"#000000\" fill-rule=\"evenodd\" fill-opacity=\"1\" /><path clip-path=\"url(#clip430)\" d=\"M 0 0 M330.455 18.8205 L330.455 41.5461 L340.745 41.5461 Q346.457 41.5461 349.576 38.5889 Q352.695 35.6318 352.695 30.163 Q352.695 24.7348 349.576 21.7777 Q346.457 18.8205 340.745 18.8205 L330.455 18.8205 M322.273 12.096 L340.745 12.096 Q350.913 12.096 356.098 16.714 Q361.323 21.2916 361.323 30.163 Q361.323 39.1155 356.098 43.6931 Q350.913 48.2706 340.745 48.2706 L330.455 48.2706 L330.455 72.576 L322.273 72.576 L322.273 12.096 Z\" fill=\"#000000\" fill-rule=\"evenodd\" fill-opacity=\"1\" /><path clip-path=\"url(#clip430)\" d=\"M 0 0 M366.914 54.671 L366.914 27.2059 L374.367 27.2059 L374.367 54.3874 Q374.367 60.8284 376.879 64.0691 Q379.39 67.2693 384.413 67.2693 Q390.449 67.2693 393.933 63.421 Q397.457 59.5726 397.457 52.9291 L397.457 27.2059 L404.911 27.2059 L404.911 72.576 L397.457 72.576 L397.457 65.6084 Q394.743 69.7404 391.138 71.7658 Q387.573 73.7508 382.834 73.7508 Q375.015 73.7508 370.964 68.8897 Q366.914 64.0286 366.914 54.671 M385.669 26.1121 L385.669 26.1121 Z\" fill=\"#000000\" fill-rule=\"evenodd\" fill-opacity=\"1\" /><path clip-path=\"url(#clip430)\" d=\"M 0 0 M439.02 34.1734 Q437.764 33.4443 436.265 33.1202 Q434.807 32.7556 433.024 32.7556 Q426.705 32.7556 423.302 36.8875 Q419.94 40.9789 419.94 48.6757 L419.94 72.576 L412.446 72.576 L412.446 27.2059 L419.94 27.2059 L419.94 34.2544 Q422.289 30.1225 426.057 28.1376 Q429.824 26.1121 435.212 26.1121 Q435.982 26.1121 436.913 26.2337 Q437.845 26.3147 438.979 26.5172 L439.02 34.1734 Z\" fill=\"#000000\" fill-rule=\"evenodd\" fill-opacity=\"1\" /><path clip-path=\"url(#clip430)\" d=\"M 0 0 M446.838 27.2059 L454.292 27.2059 L454.292 72.576 L446.838 72.576 L446.838 27.2059 M446.838 9.54393 L454.292 9.54393 L454.292 18.9825 L446.838 18.9825 L446.838 9.54393 Z\" fill=\"#000000\" fill-rule=\"evenodd\" fill-opacity=\"1\" /><path clip-path=\"url(#clip430)\" d=\"M 0 0 M485.078 9.54393 L485.078 15.7418 L477.949 15.7418 Q473.938 15.7418 472.359 17.3622 Q470.819 18.9825 470.819 23.1955 L470.819 27.2059 L483.094 27.2059 L483.094 32.9987 L470.819 32.9987 L470.819 72.576 L463.325 72.576 L463.325 32.9987 L456.196 32.9987 L456.196 27.2059 L463.325 27.2059 L463.325 24.0462 Q463.325 16.471 466.849 13.0277 Q470.374 9.54393 478.03 9.54393 L485.078 9.54393 Z\" fill=\"#000000\" fill-rule=\"evenodd\" fill-opacity=\"1\" /><path clip-path=\"url(#clip430)\" d=\"M 0 0 M492.897 27.2059 L500.35 27.2059 L500.35 72.576 L492.897 72.576 L492.897 27.2059 M492.897 9.54393 L500.35 9.54393 L500.35 18.9825 L492.897 18.9825 L492.897 9.54393 Z\" fill=\"#000000\" fill-rule=\"evenodd\" fill-opacity=\"1\" /><path clip-path=\"url(#clip430)\" d=\"M 0 0 M546.976 48.0275 L546.976 51.6733 L512.706 51.6733 Q513.192 59.3701 517.324 63.421 Q521.496 67.4314 528.909 67.4314 Q533.203 67.4314 537.214 66.3781 Q541.265 65.3249 545.234 63.2184 L545.234 70.267 Q541.224 71.9684 537.011 72.8596 Q532.798 73.7508 528.464 73.7508 Q517.607 73.7508 511.247 67.4314 Q504.928 61.1119 504.928 50.3365 Q504.928 39.1965 510.923 32.6746 Q516.959 26.1121 527.167 26.1121 Q536.322 26.1121 541.629 32.0264 Q546.976 37.9003 546.976 48.0275 M539.523 45.84 Q539.442 39.7232 536.079 36.0774 Q532.758 32.4315 527.248 32.4315 Q521.01 32.4315 517.243 35.9558 Q513.516 39.4801 512.949 45.8805 L539.523 45.84 Z\" fill=\"#000000\" fill-rule=\"evenodd\" fill-opacity=\"1\" /><path clip-path=\"url(#clip430)\" d=\"M 0 0 M584.65 34.0924 L584.65 9.54393 L592.103 9.54393 L592.103 72.576 L584.65 72.576 L584.65 65.7705 Q582.3 69.8214 578.695 71.8063 Q575.13 73.7508 570.107 73.7508 Q561.884 73.7508 556.698 67.1883 Q551.554 60.6258 551.554 49.9314 Q551.554 39.2371 556.698 32.6746 Q561.884 26.1121 570.107 26.1121 Q575.13 26.1121 578.695 28.0971 Q582.3 30.0415 584.65 34.0924 M559.251 49.9314 Q559.251 58.1548 562.613 62.8538 Q566.016 67.5124 571.93 67.5124 Q577.844 67.5124 581.247 62.8538 Q584.65 58.1548 584.65 49.9314 Q584.65 41.7081 581.247 37.0496 Q577.844 32.3505 571.93 32.3505 Q566.016 32.3505 562.613 37.0496 Q559.251 41.7081 559.251 49.9314 Z\" fill=\"#000000\" fill-rule=\"evenodd\" fill-opacity=\"1\" /><path clip-path=\"url(#clip430)\" d=\"M 0 0 M626.617 12.096 L661.374 12.096 L661.374 18.9825 L634.8 18.9825 L634.8 36.8065 L658.781 36.8065 L658.781 43.6931 L634.8 43.6931 L634.8 72.576 L626.617 72.576 L626.617 12.096 Z\" fill=\"#000000\" fill-rule=\"evenodd\" fill-opacity=\"1\" /><path clip-path=\"url(#clip430)\" d=\"M 0 0 M663.156 27.2059 L670.61 27.2059 L670.61 72.576 L663.156 72.576 L663.156 27.2059 M663.156 9.54393 L670.61 9.54393 L670.61 18.9825 L663.156 18.9825 L663.156 9.54393 Z\" fill=\"#000000\" fill-rule=\"evenodd\" fill-opacity=\"1\" /><path clip-path=\"url(#clip430)\" d=\"M 0 0 M708.283 34.0924 L708.283 9.54393 L715.737 9.54393 L715.737 72.576 L708.283 72.576 L708.283 65.7705 Q705.934 69.8214 702.328 71.8063 Q698.764 73.7508 693.741 73.7508 Q685.517 73.7508 680.332 67.1883 Q675.187 60.6258 675.187 49.9314 Q675.187 39.2371 680.332 32.6746 Q685.517 26.1121 693.741 26.1121 Q698.764 26.1121 702.328 28.0971 Q705.934 30.0415 708.283 34.0924 M682.884 49.9314 Q682.884 58.1548 686.246 62.8538 Q689.649 67.5124 695.563 67.5124 Q701.478 67.5124 704.881 62.8538 Q708.283 58.1548 708.283 49.9314 Q708.283 41.7081 704.881 37.0496 Q701.478 32.3505 695.563 32.3505 Q689.649 32.3505 686.246 37.0496 Q682.884 41.7081 682.884 49.9314 Z\" fill=\"#000000\" fill-rule=\"evenodd\" fill-opacity=\"1\" /><path clip-path=\"url(#clip430)\" d=\"M 0 0 M762.363 48.0275 L762.363 51.6733 L728.092 51.6733 Q728.578 59.3701 732.71 63.421 Q736.883 67.4314 744.296 67.4314 Q748.59 67.4314 752.6 66.3781 Q756.651 65.3249 760.621 63.2184 L760.621 70.267 Q756.611 71.9684 752.398 72.8596 Q748.185 73.7508 743.85 73.7508 Q732.994 73.7508 726.634 67.4314 Q720.314 61.1119 720.314 50.3365 Q720.314 39.1965 726.31 32.6746 Q732.346 26.1121 742.554 26.1121 Q751.709 26.1121 757.016 32.0264 Q762.363 37.9003 762.363 48.0275 M754.909 45.84 Q754.828 39.7232 751.466 36.0774 Q748.144 32.4315 742.635 32.4315 Q736.397 32.4315 732.629 35.9558 Q728.902 39.4801 728.335 45.8805 L754.909 45.84 Z\" fill=\"#000000\" fill-rule=\"evenodd\" fill-opacity=\"1\" /><path clip-path=\"url(#clip430)\" d=\"M 0 0 M770.181 9.54393 L777.635 9.54393 L777.635 72.576 L770.181 72.576 L770.181 9.54393 Z\" fill=\"#000000\" fill-rule=\"evenodd\" fill-opacity=\"1\" /><path clip-path=\"url(#clip430)\" d=\"M 0 0 M785.453 27.2059 L792.907 27.2059 L792.907 72.576 L785.453 72.576 L785.453 27.2059 M785.453 9.54393 L792.907 9.54393 L792.907 18.9825 L785.453 18.9825 L785.453 9.54393 Z\" fill=\"#000000\" fill-rule=\"evenodd\" fill-opacity=\"1\" /><path clip-path=\"url(#clip430)\" d=\"M 0 0 M808.098 14.324 L808.098 27.2059 L823.45 27.2059 L823.45 32.9987 L808.098 32.9987 L808.098 57.6282 Q808.098 63.1779 809.596 64.7578 Q811.136 66.3376 815.794 66.3376 L823.45 66.3376 L823.45 72.576 L815.794 72.576 Q807.166 72.576 803.885 69.3758 Q800.603 66.1351 800.603 57.6282 L800.603 32.9987 L795.135 32.9987 L795.135 27.2059 L800.603 27.2059 L800.603 14.324 L808.098 14.324 Z\" fill=\"#000000\" fill-rule=\"evenodd\" fill-opacity=\"1\" /><path clip-path=\"url(#clip430)\" d=\"M 0 0 M850.146 76.7889 Q846.986 84.8907 843.989 87.3618 Q840.991 89.8329 835.968 89.8329 L830.013 89.8329 L830.013 83.5945 L834.388 83.5945 Q837.467 83.5945 839.168 82.1361 Q840.869 80.6778 842.935 75.2496 L844.272 71.8468 L825.922 27.2059 L833.821 27.2059 L847.999 62.6918 L862.177 27.2059 L870.076 27.2059 L850.146 76.7889 Z\" fill=\"#000000\" fill-rule=\"evenodd\" fill-opacity=\"1\" /><path clip-path=\"url(#clip430)\" d=\"M 0 0 M898.919 27.2059 L906.818 27.2059 L920.996 65.2844 L935.174 27.2059 L943.074 27.2059 L926.06 72.576 L915.933 72.576 L898.919 27.2059 Z\" fill=\"#000000\" fill-rule=\"evenodd\" fill-opacity=\"1\" /><path clip-path=\"url(#clip430)\" d=\"M 0 0 M979.815 28.5427 L979.815 35.5912 Q976.656 33.9709 973.253 33.1607 Q969.85 32.3505 966.204 32.3505 Q960.655 32.3505 957.859 34.0519 Q955.105 35.7533 955.105 39.156 Q955.105 41.7486 957.09 43.2475 Q959.075 44.7058 965.07 46.0426 L967.622 46.6097 Q975.562 48.3111 978.884 51.4303 Q982.246 54.509 982.246 60.0587 Q982.246 66.3781 977.223 70.0644 Q972.24 73.7508 963.49 73.7508 Q959.844 73.7508 955.875 73.0216 Q951.945 72.3329 947.57 70.9151 L947.57 63.2184 Q951.702 65.3654 955.713 66.4591 Q959.723 67.5124 963.652 67.5124 Q968.918 67.5124 971.754 65.73 Q974.59 63.9071 974.59 60.6258 Q974.59 57.5877 972.524 55.9673 Q970.498 54.3469 963.571 52.8481 L960.979 52.2405 Q954.052 50.7821 950.973 47.7845 Q947.894 44.7463 947.894 39.4801 Q947.894 33.0797 952.431 29.5959 Q956.968 26.1121 965.313 26.1121 Q969.445 26.1121 973.091 26.7198 Q976.737 27.3274 979.815 28.5427 Z\" fill=\"#000000\" fill-rule=\"evenodd\" fill-opacity=\"1\" /><path clip-path=\"url(#clip430)\" d=\"M 0 0 M1016.76 12.096 L1024.94 12.096 L1024.94 72.576 L1016.76 72.576 L1016.76 12.096 Z\" fill=\"#000000\" fill-rule=\"evenodd\" fill-opacity=\"1\" /><path clip-path=\"url(#clip430)\" d=\"M 0 0 M1070.47 45.1919 L1070.47 72.576 L1063.02 72.576 L1063.02 45.4349 Q1063.02 38.994 1060.51 35.7938 Q1058 32.5936 1052.97 32.5936 Q1046.94 32.5936 1043.46 36.4419 Q1039.97 40.2903 1039.97 46.9338 L1039.97 72.576 L1032.48 72.576 L1032.48 27.2059 L1039.97 27.2059 L1039.97 34.2544 Q1042.64 30.163 1046.25 28.1376 Q1049.9 26.1121 1054.64 26.1121 Q1062.45 26.1121 1066.46 30.9732 Q1070.47 35.7938 1070.47 45.1919 Z\" fill=\"#000000\" fill-rule=\"evenodd\" fill-opacity=\"1\" /><path clip-path=\"url(#clip430)\" d=\"M 0 0 M1078.29 27.2059 L1085.75 27.2059 L1085.75 72.576 L1078.29 72.576 L1078.29 27.2059 M1078.29 9.54393 L1085.75 9.54393 L1085.75 18.9825 L1078.29 18.9825 L1078.29 9.54393 Z\" fill=\"#000000\" fill-rule=\"evenodd\" fill-opacity=\"1\" /><path clip-path=\"url(#clip430)\" d=\"M 0 0 M1100.94 14.324 L1100.94 27.2059 L1116.29 27.2059 L1116.29 32.9987 L1100.94 32.9987 L1100.94 57.6282 Q1100.94 63.1779 1102.44 64.7578 Q1103.98 66.3376 1108.63 66.3376 L1116.29 66.3376 L1116.29 72.576 L1108.63 72.576 Q1100.01 72.576 1096.72 69.3758 Q1093.44 66.1351 1093.44 57.6282 L1093.44 32.9987 L1087.97 32.9987 L1087.97 27.2059 L1093.44 27.2059 L1093.44 14.324 L1100.94 14.324 Z\" fill=\"#000000\" fill-rule=\"evenodd\" fill-opacity=\"1\" /><path clip-path=\"url(#clip430)\" d=\"M 0 0 M1124.11 27.2059 L1131.56 27.2059 L1131.56 72.576 L1124.11 72.576 L1124.11 27.2059 M1124.11 9.54393 L1131.56 9.54393 L1131.56 18.9825 L1124.11 18.9825 L1124.11 9.54393 Z\" fill=\"#000000\" fill-rule=\"evenodd\" fill-opacity=\"1\" /><path clip-path=\"url(#clip430)\" d=\"M 0 0 M1160 49.7694 Q1150.97 49.7694 1147.48 51.8354 Q1144 53.9013 1144 58.8839 Q1144 62.8538 1146.59 65.2034 Q1149.22 67.5124 1153.72 67.5124 Q1159.92 67.5124 1163.65 63.1374 Q1167.41 58.7219 1167.41 51.4303 L1167.41 49.7694 L1160 49.7694 M1174.87 46.6907 L1174.87 72.576 L1167.41 72.576 L1167.41 65.6895 Q1164.86 69.8214 1161.05 71.8063 Q1157.25 73.7508 1151.74 73.7508 Q1144.77 73.7508 1140.64 69.8619 Q1136.54 65.9325 1136.54 59.3701 Q1136.54 51.7138 1141.65 47.825 Q1146.79 43.9361 1156.96 43.9361 L1167.41 43.9361 L1167.41 43.2069 Q1167.41 38.0623 1164.01 35.2672 Q1160.65 32.4315 1154.53 32.4315 Q1150.64 32.4315 1146.96 33.3632 Q1143.27 34.295 1139.87 36.1584 L1139.87 29.2718 Q1143.96 27.692 1147.81 26.9223 Q1151.65 26.1121 1155.3 26.1121 Q1165.14 26.1121 1170.01 31.2163 Q1174.87 36.3204 1174.87 46.6907 Z\" fill=\"#000000\" fill-rule=\"evenodd\" fill-opacity=\"1\" /><path clip-path=\"url(#clip430)\" d=\"M 0 0 M1182.68 9.54393 L1190.14 9.54393 L1190.14 72.576 L1182.68 72.576 L1182.68 9.54393 Z\" fill=\"#000000\" fill-rule=\"evenodd\" fill-opacity=\"1\" /><path clip-path=\"url(#clip430)\" d=\"M 0 0 M1224.65 12.096 L1259.41 12.096 L1259.41 18.9825 L1232.83 18.9825 L1232.83 36.8065 L1256.82 36.8065 L1256.82 43.6931 L1232.83 43.6931 L1232.83 72.576 L1224.65 72.576 L1224.65 12.096 Z\" fill=\"#000000\" fill-rule=\"evenodd\" fill-opacity=\"1\" /><path clip-path=\"url(#clip430)\" d=\"M 0 0 M1261.19 27.2059 L1268.64 27.2059 L1268.64 72.576 L1261.19 72.576 L1261.19 27.2059 M1261.19 9.54393 L1268.64 9.54393 L1268.64 18.9825 L1261.19 18.9825 L1261.19 9.54393 Z\" fill=\"#000000\" fill-rule=\"evenodd\" fill-opacity=\"1\" /><path clip-path=\"url(#clip430)\" d=\"M 0 0 M1306.32 34.0924 L1306.32 9.54393 L1313.77 9.54393 L1313.77 72.576 L1306.32 72.576 L1306.32 65.7705 Q1303.97 69.8214 1300.36 71.8063 Q1296.8 73.7508 1291.78 73.7508 Q1283.55 73.7508 1278.37 67.1883 Q1273.22 60.6258 1273.22 49.9314 Q1273.22 39.2371 1278.37 32.6746 Q1283.55 26.1121 1291.78 26.1121 Q1296.8 26.1121 1300.36 28.0971 Q1303.97 30.0415 1306.32 34.0924 M1280.92 49.9314 Q1280.92 58.1548 1284.28 62.8538 Q1287.68 67.5124 1293.6 67.5124 Q1299.51 67.5124 1302.92 62.8538 Q1306.32 58.1548 1306.32 49.9314 Q1306.32 41.7081 1302.92 37.0496 Q1299.51 32.3505 1293.6 32.3505 Q1287.68 32.3505 1284.28 37.0496 Q1280.92 41.7081 1280.92 49.9314 Z\" fill=\"#000000\" fill-rule=\"evenodd\" fill-opacity=\"1\" /><path clip-path=\"url(#clip430)\" d=\"M 0 0 M1360.4 48.0275 L1360.4 51.6733 L1326.13 51.6733 Q1326.61 59.3701 1330.75 63.421 Q1334.92 67.4314 1342.33 67.4314 Q1346.62 67.4314 1350.64 66.3781 Q1354.69 65.3249 1358.66 63.2184 L1358.66 70.267 Q1354.65 71.9684 1350.43 72.8596 Q1346.22 73.7508 1341.89 73.7508 Q1331.03 73.7508 1324.67 67.4314 Q1318.35 61.1119 1318.35 50.3365 Q1318.35 39.1965 1324.34 32.6746 Q1330.38 26.1121 1340.59 26.1121 Q1349.74 26.1121 1355.05 32.0264 Q1360.4 37.9003 1360.4 48.0275 M1352.94 45.84 Q1352.86 39.7232 1349.5 36.0774 Q1346.18 32.4315 1340.67 32.4315 Q1334.43 32.4315 1330.66 35.9558 Q1326.94 39.4801 1326.37 45.8805 L1352.94 45.84 Z\" fill=\"#000000\" fill-rule=\"evenodd\" fill-opacity=\"1\" /><path clip-path=\"url(#clip430)\" d=\"M 0 0 M1368.22 9.54393 L1375.67 9.54393 L1375.67 72.576 L1368.22 72.576 L1368.22 9.54393 Z\" fill=\"#000000\" fill-rule=\"evenodd\" fill-opacity=\"1\" /><path clip-path=\"url(#clip430)\" d=\"M 0 0 M1383.49 27.2059 L1390.94 27.2059 L1390.94 72.576 L1383.49 72.576 L1383.49 27.2059 M1383.49 9.54393 L1390.94 9.54393 L1390.94 18.9825 L1383.49 18.9825 L1383.49 9.54393 Z\" fill=\"#000000\" fill-rule=\"evenodd\" fill-opacity=\"1\" /><path clip-path=\"url(#clip430)\" d=\"M 0 0 M1406.13 14.324 L1406.13 27.2059 L1421.49 27.2059 L1421.49 32.9987 L1406.13 32.9987 L1406.13 57.6282 Q1406.13 63.1779 1407.63 64.7578 Q1409.17 66.3376 1413.83 66.3376 L1421.49 66.3376 L1421.49 72.576 L1413.83 72.576 Q1405.2 72.576 1401.92 69.3758 Q1398.64 66.1351 1398.64 57.6282 L1398.64 32.9987 L1393.17 32.9987 L1393.17 27.2059 L1398.64 27.2059 L1398.64 14.324 L1406.13 14.324 Z\" fill=\"#000000\" fill-rule=\"evenodd\" fill-opacity=\"1\" /><path clip-path=\"url(#clip430)\" d=\"M 0 0 M1448.18 76.7889 Q1445.02 84.8907 1442.02 87.3618 Q1439.03 89.8329 1434 89.8329 L1428.05 89.8329 L1428.05 83.5945 L1432.42 83.5945 Q1435.5 83.5945 1437.2 82.1361 Q1438.9 80.6778 1440.97 75.2496 L1442.31 71.8468 L1423.96 27.2059 L1431.86 27.2059 L1446.03 62.6918 L1460.21 27.2059 L1468.11 27.2059 L1448.18 76.7889 Z\" fill=\"#000000\" fill-rule=\"evenodd\" fill-opacity=\"1\" /><path clip-path=\"url(#clip430)\" d=\"M 0 0 M137.288 140.489 Q128.255 140.489 124.771 142.555 Q121.287 144.621 121.287 149.604 Q121.287 153.574 123.88 155.923 Q126.513 158.232 131.009 158.232 Q137.207 158.232 140.934 153.857 Q144.701 149.442 144.701 142.15 L144.701 140.489 L137.288 140.489 M152.155 137.411 L152.155 163.296 L144.701 163.296 L144.701 156.409 Q142.149 160.541 138.341 162.526 Q134.533 164.471 129.024 164.471 Q122.057 164.471 117.925 160.582 Q113.833 156.653 113.833 150.09 Q113.833 142.434 118.937 138.545 Q124.082 134.656 134.25 134.656 L144.701 134.656 L144.701 133.927 Q144.701 128.782 141.298 125.987 Q137.936 123.152 131.819 123.152 Q127.93 123.152 124.244 124.083 Q120.558 125.015 117.155 126.878 L117.155 119.992 Q121.247 118.412 125.095 117.642 Q128.943 116.832 132.589 116.832 Q142.433 116.832 147.294 121.936 Q152.155 127.04 152.155 137.411 Z\" fill=\"#000000\" fill-rule=\"evenodd\" fill-opacity=\"1\" /><path clip-path=\"url(#clip430)\" d=\"M 0 0 M192.623 119.668 L192.623 126.635 Q189.464 124.893 186.264 124.043 Q183.104 123.152 179.863 123.152 Q172.612 123.152 168.602 127.77 Q164.591 132.347 164.591 140.651 Q164.591 148.956 168.602 153.574 Q172.612 158.151 179.863 158.151 Q183.104 158.151 186.264 157.301 Q189.464 156.409 192.623 154.668 L192.623 161.554 Q189.504 163.012 186.142 163.742 Q182.82 164.471 179.053 164.471 Q168.804 164.471 162.768 158.03 Q156.732 151.589 156.732 140.651 Q156.732 129.552 162.809 123.192 Q168.926 116.832 179.539 116.832 Q182.982 116.832 186.264 117.561 Q189.545 118.25 192.623 119.668 Z\" fill=\"#000000\" fill-rule=\"evenodd\" fill-opacity=\"1\" /><path clip-path=\"url(#clip430)\" d=\"M 0 0 M233.092 119.668 L233.092 126.635 Q229.932 124.893 226.732 124.043 Q223.572 123.152 220.332 123.152 Q213.081 123.152 209.07 127.77 Q205.06 132.347 205.06 140.651 Q205.06 148.956 209.07 153.574 Q213.081 158.151 220.332 158.151 Q223.572 158.151 226.732 157.301 Q229.932 156.409 233.092 154.668 L233.092 161.554 Q229.973 163.012 226.611 163.742 Q223.289 164.471 219.521 164.471 Q209.273 164.471 203.237 158.03 Q197.201 151.589 197.201 140.651 Q197.201 129.552 203.277 123.192 Q209.394 116.832 220.008 116.832 Q223.451 116.832 226.732 117.561 Q230.013 118.25 233.092 119.668 Z\" fill=\"#000000\" fill-rule=\"evenodd\" fill-opacity=\"1\" /><path clip-path=\"url(#clip430)\" d=\"M 0 0 M258.491 123.152 Q252.496 123.152 249.012 127.851 Q245.528 132.509 245.528 140.651 Q245.528 148.794 248.972 153.493 Q252.455 158.151 258.491 158.151 Q264.446 158.151 267.93 153.452 Q271.414 148.753 271.414 140.651 Q271.414 132.59 267.93 127.891 Q264.446 123.152 258.491 123.152 M258.491 116.832 Q268.213 116.832 273.763 123.152 Q279.313 129.471 279.313 140.651 Q279.313 151.791 273.763 158.151 Q268.213 164.471 258.491 164.471 Q248.728 164.471 243.179 158.151 Q237.669 151.791 237.669 140.651 Q237.669 129.471 243.179 123.152 Q248.728 116.832 258.491 116.832 Z\" fill=\"#000000\" fill-rule=\"evenodd\" fill-opacity=\"1\" /><path clip-path=\"url(#clip430)\" d=\"M 0 0 M313.421 124.893 Q312.166 124.164 310.667 123.84 Q309.208 123.476 307.426 123.476 Q301.107 123.476 297.704 127.608 Q294.342 131.699 294.342 139.396 L294.342 163.296 L286.847 163.296 L286.847 117.926 L294.342 117.926 L294.342 124.974 Q296.691 120.843 300.459 118.858 Q304.226 116.832 309.614 116.832 Q310.383 116.832 311.315 116.954 Q312.247 117.035 313.381 117.237 L313.421 124.893 Z\" fill=\"#000000\" fill-rule=\"evenodd\" fill-opacity=\"1\" /><path clip-path=\"url(#clip430)\" d=\"M 0 0 M349.636 124.812 L349.636 100.264 L357.09 100.264 L357.09 163.296 L349.636 163.296 L349.636 156.49 Q347.287 160.541 343.682 162.526 Q340.117 164.471 335.094 164.471 Q326.87 164.471 321.685 157.908 Q316.541 151.346 316.541 140.651 Q316.541 129.957 321.685 123.395 Q326.87 116.832 335.094 116.832 Q340.117 116.832 343.682 118.817 Q347.287 120.762 349.636 124.812 M324.237 140.651 Q324.237 148.875 327.6 153.574 Q331.002 158.232 336.917 158.232 Q342.831 158.232 346.234 153.574 Q349.636 148.875 349.636 140.651 Q349.636 132.428 346.234 127.77 Q342.831 123.071 336.917 123.071 Q331.002 123.071 327.6 127.77 Q324.237 132.428 324.237 140.651 Z\" fill=\"#000000\" fill-rule=\"evenodd\" fill-opacity=\"1\" /><path clip-path=\"url(#clip430)\" d=\"M 0 0 M364.908 117.926 L372.362 117.926 L372.362 163.296 L364.908 163.296 L364.908 117.926 M364.908 100.264 L372.362 100.264 L372.362 109.703 L364.908 109.703 L364.908 100.264 Z\" fill=\"#000000\" fill-rule=\"evenodd\" fill-opacity=\"1\" /><path clip-path=\"url(#clip430)\" d=\"M 0 0 M417.894 135.912 L417.894 163.296 L410.441 163.296 L410.441 136.155 Q410.441 129.714 407.929 126.514 Q405.417 123.314 400.394 123.314 Q394.358 123.314 390.875 127.162 Q387.391 131.01 387.391 137.654 L387.391 163.296 L379.897 163.296 L379.897 117.926 L387.391 117.926 L387.391 124.974 Q390.065 120.883 393.67 118.858 Q397.316 116.832 402.055 116.832 Q409.873 116.832 413.884 121.693 Q417.894 126.514 417.894 135.912 Z\" fill=\"#000000\" fill-rule=\"evenodd\" fill-opacity=\"1\" /><path clip-path=\"url(#clip430)\" d=\"M 0 0 M455.568 140.084 Q455.568 131.983 452.205 127.527 Q448.884 123.071 442.848 123.071 Q436.852 123.071 433.49 127.527 Q430.168 131.983 430.168 140.084 Q430.168 148.146 433.49 152.602 Q436.852 157.058 442.848 157.058 Q448.884 157.058 452.205 152.602 Q455.568 148.146 455.568 140.084 M463.021 157.665 Q463.021 169.251 457.877 174.882 Q452.732 180.553 442.119 180.553 Q438.189 180.553 434.705 179.945 Q431.222 179.378 427.94 178.163 L427.94 170.912 Q431.222 172.694 434.422 173.545 Q437.622 174.395 440.944 174.395 Q448.276 174.395 451.922 170.547 Q455.568 166.739 455.568 159.002 L455.568 155.316 Q453.259 159.326 449.653 161.311 Q446.048 163.296 441.025 163.296 Q432.68 163.296 427.576 156.936 Q422.472 150.576 422.472 140.084 Q422.472 129.552 427.576 123.192 Q432.68 116.832 441.025 116.832 Q446.048 116.832 449.653 118.817 Q453.259 120.802 455.568 124.812 L455.568 117.926 L463.021 117.926 L463.021 157.665 Z\" fill=\"#000000\" fill-rule=\"evenodd\" fill-opacity=\"1\" /><path clip-path=\"url(#clip430)\" d=\"M 0 0 M504.584 105.044 L504.584 117.926 L519.936 117.926 L519.936 123.719 L504.584 123.719 L504.584 148.348 Q504.584 153.898 506.082 155.478 Q507.622 157.058 512.28 157.058 L519.936 157.058 L519.936 163.296 L512.28 163.296 Q503.652 163.296 500.371 160.096 Q497.089 156.855 497.089 148.348 L497.089 123.719 L491.621 123.719 L491.621 117.926 L497.089 117.926 L497.089 105.044 L504.584 105.044 Z\" fill=\"#000000\" fill-rule=\"evenodd\" fill-opacity=\"1\" /><path clip-path=\"url(#clip430)\" d=\"M 0 0 M545.336 123.152 Q539.34 123.152 535.857 127.851 Q532.373 132.509 532.373 140.651 Q532.373 148.794 535.816 153.493 Q539.3 158.151 545.336 158.151 Q551.29 158.151 554.774 153.452 Q558.258 148.753 558.258 140.651 Q558.258 132.59 554.774 127.891 Q551.29 123.152 545.336 123.152 M545.336 116.832 Q555.058 116.832 560.608 123.152 Q566.157 129.471 566.157 140.651 Q566.157 151.791 560.608 158.151 Q555.058 164.471 545.336 164.471 Q535.573 164.471 530.023 158.151 Q524.514 151.791 524.514 140.651 Q524.514 129.471 530.023 123.152 Q535.573 116.832 545.336 116.832 Z\" fill=\"#000000\" fill-rule=\"evenodd\" fill-opacity=\"1\" /><path clip-path=\"url(#clip430)\" d=\"M 0 0 M630.202 124.812 L630.202 100.264 L637.656 100.264 L637.656 163.296 L630.202 163.296 L630.202 156.49 Q627.853 160.541 624.247 162.526 Q620.682 164.471 615.659 164.471 Q607.436 164.471 602.251 157.908 Q597.106 151.346 597.106 140.651 Q597.106 129.957 602.251 123.395 Q607.436 116.832 615.659 116.832 Q620.682 116.832 624.247 118.817 Q627.853 120.762 630.202 124.812 M604.803 140.651 Q604.803 148.875 608.165 153.574 Q611.568 158.232 617.482 158.232 Q623.397 158.232 626.799 153.574 Q630.202 148.875 630.202 140.651 Q630.202 132.428 626.799 127.77 Q623.397 123.071 617.482 123.071 Q611.568 123.071 608.165 127.77 Q604.803 132.428 604.803 140.651 Z\" fill=\"#000000\" fill-rule=\"evenodd\" fill-opacity=\"1\" /><path clip-path=\"url(#clip430)\" d=\"M 0 0 M645.474 117.926 L652.928 117.926 L652.928 163.296 L645.474 163.296 L645.474 117.926 M645.474 100.264 L652.928 100.264 L652.928 109.703 L645.474 109.703 L645.474 100.264 Z\" fill=\"#000000\" fill-rule=\"evenodd\" fill-opacity=\"1\" /><path clip-path=\"url(#clip430)\" d=\"M 0 0 M683.715 100.264 L683.715 106.462 L676.585 106.462 Q672.575 106.462 670.995 108.082 Q669.455 109.703 669.455 113.915 L669.455 117.926 L681.73 117.926 L681.73 123.719 L669.455 123.719 L669.455 163.296 L661.961 163.296 L661.961 123.719 L654.832 123.719 L654.832 117.926 L661.961 117.926 L661.961 114.766 Q661.961 107.191 665.485 103.748 Q669.01 100.264 676.666 100.264 L683.715 100.264 Z\" fill=\"#000000\" fill-rule=\"evenodd\" fill-opacity=\"1\" /><path clip-path=\"url(#clip430)\" d=\"M 0 0 M714.501 100.264 L714.501 106.462 L707.372 106.462 Q703.361 106.462 701.782 108.082 Q700.242 109.703 700.242 113.915 L700.242 117.926 L712.516 117.926 L712.516 123.719 L700.242 123.719 L700.242 163.296 L692.748 163.296 L692.748 123.719 L685.618 123.719 L685.618 117.926 L692.748 117.926 L692.748 114.766 Q692.748 107.191 696.272 103.748 Q699.797 100.264 707.453 100.264 L714.501 100.264 Z\" fill=\"#000000\" fill-rule=\"evenodd\" fill-opacity=\"1\" /><path clip-path=\"url(#clip430)\" d=\"M 0 0 M761.127 138.748 L761.127 142.393 L726.857 142.393 Q727.343 150.09 731.475 154.141 Q735.647 158.151 743.06 158.151 Q747.354 158.151 751.365 157.098 Q755.416 156.045 759.385 153.938 L759.385 160.987 Q755.375 162.688 751.162 163.58 Q746.949 164.471 742.615 164.471 Q731.758 164.471 725.398 158.151 Q719.079 151.832 719.079 141.057 Q719.079 129.917 725.074 123.395 Q731.11 116.832 741.318 116.832 Q750.473 116.832 755.78 122.746 Q761.127 128.62 761.127 138.748 M753.674 136.56 Q753.593 130.443 750.23 126.797 Q746.909 123.152 741.399 123.152 Q735.161 123.152 731.394 126.676 Q727.667 130.2 727.1 136.601 L753.674 136.56 Z\" fill=\"#000000\" fill-rule=\"evenodd\" fill-opacity=\"1\" /><path clip-path=\"url(#clip430)\" d=\"M 0 0 M795.236 124.893 Q793.98 124.164 792.481 123.84 Q791.023 123.476 789.241 123.476 Q782.921 123.476 779.518 127.608 Q776.156 131.699 776.156 139.396 L776.156 163.296 L768.662 163.296 L768.662 117.926 L776.156 117.926 L776.156 124.974 Q778.506 120.843 782.273 118.858 Q786.04 116.832 791.428 116.832 Q792.198 116.832 793.129 116.954 Q794.061 117.035 795.195 117.237 L795.236 124.893 Z\" fill=\"#000000\" fill-rule=\"evenodd\" fill-opacity=\"1\" /><path clip-path=\"url(#clip430)\" d=\"M 0 0 M840.039 138.748 L840.039 142.393 L805.768 142.393 Q806.254 150.09 810.386 154.141 Q814.559 158.151 821.972 158.151 Q826.266 158.151 830.276 157.098 Q834.327 156.045 838.297 153.938 L838.297 160.987 Q834.287 162.688 830.074 163.58 Q825.861 164.471 821.526 164.471 Q810.67 164.471 804.31 158.151 Q797.991 151.832 797.991 141.057 Q797.991 129.917 803.986 123.395 Q810.022 116.832 820.23 116.832 Q829.385 116.832 834.692 122.746 Q840.039 128.62 840.039 138.748 M832.585 136.56 Q832.504 130.443 829.142 126.797 Q825.82 123.152 820.311 123.152 Q814.073 123.152 810.305 126.676 Q806.578 130.2 806.011 136.601 L832.585 136.56 Z\" fill=\"#000000\" fill-rule=\"evenodd\" fill-opacity=\"1\" /><path clip-path=\"url(#clip430)\" d=\"M 0 0 M885.571 135.912 L885.571 163.296 L878.117 163.296 L878.117 136.155 Q878.117 129.714 875.606 126.514 Q873.094 123.314 868.071 123.314 Q862.035 123.314 858.552 127.162 Q855.068 131.01 855.068 137.654 L855.068 163.296 L847.574 163.296 L847.574 117.926 L855.068 117.926 L855.068 124.974 Q857.741 120.883 861.347 118.858 Q864.993 116.832 869.732 116.832 Q877.55 116.832 881.561 121.693 Q885.571 126.514 885.571 135.912 Z\" fill=\"#000000\" fill-rule=\"evenodd\" fill-opacity=\"1\" /><path clip-path=\"url(#clip430)\" d=\"M 0 0 M900.762 105.044 L900.762 117.926 L916.115 117.926 L916.115 123.719 L900.762 123.719 L900.762 148.348 Q900.762 153.898 902.261 155.478 Q903.8 157.058 908.459 157.058 L916.115 157.058 L916.115 163.296 L908.459 163.296 Q899.83 163.296 896.549 160.096 Q893.268 156.855 893.268 148.348 L893.268 123.719 L887.799 123.719 L887.799 117.926 L893.268 117.926 L893.268 105.044 L900.762 105.044 Z\" fill=\"#000000\" fill-rule=\"evenodd\" fill-opacity=\"1\" /><path clip-path=\"url(#clip430)\" d=\"M 0 0 M982.955 119.668 L982.955 126.635 Q979.795 124.893 976.595 124.043 Q973.435 123.152 970.195 123.152 Q962.943 123.152 958.933 127.77 Q954.923 132.347 954.923 140.651 Q954.923 148.956 958.933 153.574 Q962.943 158.151 970.195 158.151 Q973.435 158.151 976.595 157.301 Q979.795 156.409 982.955 154.668 L982.955 161.554 Q979.836 163.012 976.473 163.742 Q973.152 164.471 969.384 164.471 Q959.136 164.471 953.1 158.03 Q947.064 151.589 947.064 140.651 Q947.064 129.552 953.14 123.192 Q959.257 116.832 969.87 116.832 Q973.314 116.832 976.595 117.561 Q979.876 118.25 982.955 119.668 Z\" fill=\"#000000\" fill-rule=\"evenodd\" fill-opacity=\"1\" /><path clip-path=\"url(#clip430)\" d=\"M 0 0 M1011.39 140.489 Q1002.36 140.489 998.875 142.555 Q995.391 144.621 995.391 149.604 Q995.391 153.574 997.984 155.923 Q1000.62 158.232 1005.11 158.232 Q1011.31 158.232 1015.04 153.857 Q1018.81 149.442 1018.81 142.15 L1018.81 140.489 L1011.39 140.489 M1026.26 137.411 L1026.26 163.296 L1018.81 163.296 L1018.81 156.409 Q1016.25 160.541 1012.45 162.526 Q1008.64 164.471 1003.13 164.471 Q996.161 164.471 992.029 160.582 Q987.937 156.653 987.937 150.09 Q987.937 142.434 993.042 138.545 Q998.186 134.656 1008.35 134.656 L1018.81 134.656 L1018.81 133.927 Q1018.81 128.782 1015.4 125.987 Q1012.04 123.152 1005.92 123.152 Q1002.03 123.152 998.348 124.083 Q994.662 125.015 991.259 126.878 L991.259 119.992 Q995.351 118.412 999.199 117.642 Q1003.05 116.832 1006.69 116.832 Q1016.54 116.832 1021.4 121.936 Q1026.26 127.04 1026.26 137.411 Z\" fill=\"#000000\" fill-rule=\"evenodd\" fill-opacity=\"1\" /><path clip-path=\"url(#clip430)\" d=\"M 0 0 M1034.08 100.264 L1041.53 100.264 L1041.53 163.296 L1034.08 163.296 L1034.08 100.264 Z\" fill=\"#000000\" fill-rule=\"evenodd\" fill-opacity=\"1\" /><path clip-path=\"url(#clip430)\" d=\"M 0 0 M1082 119.668 L1082 126.635 Q1078.84 124.893 1075.64 124.043 Q1072.48 123.152 1069.24 123.152 Q1061.99 123.152 1057.98 127.77 Q1053.97 132.347 1053.97 140.651 Q1053.97 148.956 1057.98 153.574 Q1061.99 158.151 1069.24 158.151 Q1072.48 158.151 1075.64 157.301 Q1078.84 156.409 1082 154.668 L1082 161.554 Q1078.88 163.012 1075.52 163.742 Q1072.2 164.471 1068.43 164.471 Q1058.18 164.471 1052.14 158.03 Q1046.11 151.589 1046.11 140.651 Q1046.11 129.552 1052.18 123.192 Q1058.3 116.832 1068.92 116.832 Q1072.36 116.832 1075.64 117.561 Q1078.92 118.25 1082 119.668 Z\" fill=\"#000000\" fill-rule=\"evenodd\" fill-opacity=\"1\" /><path clip-path=\"url(#clip430)\" d=\"M 0 0 M1089.05 145.391 L1089.05 117.926 L1096.5 117.926 L1096.5 145.107 Q1096.5 151.548 1099.01 154.789 Q1101.52 157.989 1106.55 157.989 Q1112.58 157.989 1116.07 154.141 Q1119.59 150.293 1119.59 143.649 L1119.59 117.926 L1127.05 117.926 L1127.05 163.296 L1119.59 163.296 L1119.59 156.328 Q1116.88 160.46 1113.27 162.486 Q1109.71 164.471 1104.97 164.471 Q1097.15 164.471 1093.1 159.61 Q1089.05 154.749 1089.05 145.391 M1107.8 116.832 L1107.8 116.832 Z\" fill=\"#000000\" fill-rule=\"evenodd\" fill-opacity=\"1\" /><path clip-path=\"url(#clip430)\" d=\"M 0 0 M1134.86 100.264 L1142.32 100.264 L1142.32 163.296 L1134.86 163.296 L1134.86 100.264 Z\" fill=\"#000000\" fill-rule=\"evenodd\" fill-opacity=\"1\" /><path clip-path=\"url(#clip430)\" d=\"M 0 0 M1170.75 140.489 Q1161.72 140.489 1158.24 142.555 Q1154.75 144.621 1154.75 149.604 Q1154.75 153.574 1157.35 155.923 Q1159.98 158.232 1164.48 158.232 Q1170.67 158.232 1174.4 153.857 Q1178.17 149.442 1178.17 142.15 L1178.17 140.489 L1170.75 140.489 M1185.62 137.411 L1185.62 163.296 L1178.17 163.296 L1178.17 156.409 Q1175.62 160.541 1171.81 162.526 Q1168 164.471 1162.49 164.471 Q1155.52 164.471 1151.39 160.582 Q1147.3 156.653 1147.3 150.09 Q1147.3 142.434 1152.4 138.545 Q1157.55 134.656 1167.72 134.656 L1178.17 134.656 L1178.17 133.927 Q1178.17 128.782 1174.77 125.987 Q1171.4 123.152 1165.29 123.152 Q1161.4 123.152 1157.71 124.083 Q1154.02 125.015 1150.62 126.878 L1150.62 119.992 Q1154.71 118.412 1158.56 117.642 Q1162.41 116.832 1166.06 116.832 Q1175.9 116.832 1180.76 121.936 Q1185.62 127.04 1185.62 137.411 Z\" fill=\"#000000\" fill-rule=\"evenodd\" fill-opacity=\"1\" /><path clip-path=\"url(#clip430)\" d=\"M 0 0 M1200.81 105.044 L1200.81 117.926 L1216.17 117.926 L1216.17 123.719 L1200.81 123.719 L1200.81 148.348 Q1200.81 153.898 1202.31 155.478 Q1203.85 157.058 1208.51 157.058 L1216.17 157.058 L1216.17 163.296 L1208.51 163.296 Q1199.88 163.296 1196.6 160.096 Q1193.32 156.855 1193.32 148.348 L1193.32 123.719 L1187.85 123.719 L1187.85 117.926 L1193.32 117.926 L1193.32 105.044 L1200.81 105.044 Z\" fill=\"#000000\" fill-rule=\"evenodd\" fill-opacity=\"1\" /><path clip-path=\"url(#clip430)\" d=\"M 0 0 M1223.98 117.926 L1231.44 117.926 L1231.44 163.296 L1223.98 163.296 L1223.98 117.926 M1223.98 100.264 L1231.44 100.264 L1231.44 109.703 L1223.98 109.703 L1223.98 100.264 Z\" fill=\"#000000\" fill-rule=\"evenodd\" fill-opacity=\"1\" /><path clip-path=\"url(#clip430)\" d=\"M 0 0 M1256.84 123.152 Q1250.84 123.152 1247.36 127.851 Q1243.87 132.509 1243.87 140.651 Q1243.87 148.794 1247.32 153.493 Q1250.8 158.151 1256.84 158.151 Q1262.79 158.151 1266.28 153.452 Q1269.76 148.753 1269.76 140.651 Q1269.76 132.59 1266.28 127.891 Q1262.79 123.152 1256.84 123.152 M1256.84 116.832 Q1266.56 116.832 1272.11 123.152 Q1277.66 129.471 1277.66 140.651 Q1277.66 151.791 1272.11 158.151 Q1266.56 164.471 1256.84 164.471 Q1247.07 164.471 1241.52 158.151 Q1236.01 151.791 1236.01 140.651 Q1236.01 129.471 1241.52 123.152 Q1247.07 116.832 1256.84 116.832 Z\" fill=\"#000000\" fill-rule=\"evenodd\" fill-opacity=\"1\" /><path clip-path=\"url(#clip430)\" d=\"M 0 0 M1323.19 135.912 L1323.19 163.296 L1315.74 163.296 L1315.74 136.155 Q1315.74 129.714 1313.23 126.514 Q1310.71 123.314 1305.69 123.314 Q1299.65 123.314 1296.17 127.162 Q1292.69 131.01 1292.69 137.654 L1292.69 163.296 L1285.19 163.296 L1285.19 117.926 L1292.69 117.926 L1292.69 124.974 Q1295.36 120.883 1298.97 118.858 Q1302.61 116.832 1307.35 116.832 Q1315.17 116.832 1319.18 121.693 Q1323.19 126.514 1323.19 135.912 Z\" fill=\"#000000\" fill-rule=\"evenodd\" fill-opacity=\"1\" /><path clip-path=\"url(#clip430)\" d=\"M 0 0 M1392.7 126.635 Q1395.5 121.612 1399.39 119.222 Q1403.28 116.832 1408.54 116.832 Q1415.63 116.832 1419.48 121.815 Q1423.33 126.757 1423.33 135.912 L1423.33 163.296 L1415.83 163.296 L1415.83 136.155 Q1415.83 129.633 1413.53 126.473 Q1411.22 123.314 1406.48 123.314 Q1400.68 123.314 1397.32 127.162 Q1393.96 131.01 1393.96 137.654 L1393.96 163.296 L1386.47 163.296 L1386.47 136.155 Q1386.47 129.592 1384.16 126.473 Q1381.85 123.314 1377.03 123.314 Q1371.32 123.314 1367.95 127.202 Q1364.59 131.051 1364.59 137.654 L1364.59 163.296 L1357.1 163.296 L1357.1 117.926 L1364.59 117.926 L1364.59 124.974 Q1367.14 120.802 1370.71 118.817 Q1374.27 116.832 1379.17 116.832 Q1384.12 116.832 1387.56 119.344 Q1391.04 121.855 1392.7 126.635 Z\" fill=\"#000000\" fill-rule=\"evenodd\" fill-opacity=\"1\" /><path clip-path=\"url(#clip430)\" d=\"M 0 0 M1469.95 138.748 L1469.95 142.393 L1435.68 142.393 Q1436.17 150.09 1440.3 154.141 Q1444.47 158.151 1451.89 158.151 Q1456.18 158.151 1460.19 157.098 Q1464.24 156.045 1468.21 153.938 L1468.21 160.987 Q1464.2 162.688 1459.99 163.58 Q1455.78 164.471 1451.44 164.471 Q1440.59 164.471 1434.23 158.151 Q1427.91 151.832 1427.91 141.057 Q1427.91 129.917 1433.9 123.395 Q1439.94 116.832 1450.15 116.832 Q1459.3 116.832 1464.61 122.746 Q1469.95 128.62 1469.95 138.748 M1462.5 136.56 Q1462.42 130.443 1459.06 126.797 Q1455.74 123.152 1450.23 123.152 Q1443.99 123.152 1440.22 126.676 Q1436.49 130.2 1435.93 136.601 L1462.5 136.56 Z\" fill=\"#000000\" fill-rule=\"evenodd\" fill-opacity=\"1\" /><path clip-path=\"url(#clip430)\" d=\"M 0 0 M1485.15 105.044 L1485.15 117.926 L1500.5 117.926 L1500.5 123.719 L1485.15 123.719 L1485.15 148.348 Q1485.15 153.898 1486.64 155.478 Q1488.18 157.058 1492.84 157.058 L1500.5 157.058 L1500.5 163.296 L1492.84 163.296 Q1484.21 163.296 1480.93 160.096 Q1477.65 156.855 1477.65 148.348 L1477.65 123.719 L1472.18 123.719 L1472.18 117.926 L1477.65 117.926 L1477.65 105.044 L1485.15 105.044 Z\" fill=\"#000000\" fill-rule=\"evenodd\" fill-opacity=\"1\" /><path clip-path=\"url(#clip430)\" d=\"M 0 0 M1546.03 135.912 L1546.03 163.296 L1538.58 163.296 L1538.58 136.155 Q1538.58 129.714 1536.07 126.514 Q1533.55 123.314 1528.53 123.314 Q1522.49 123.314 1519.01 127.162 Q1515.53 131.01 1515.53 137.654 L1515.53 163.296 L1508.03 163.296 L1508.03 100.264 L1515.53 100.264 L1515.53 124.974 Q1518.2 120.883 1521.81 118.858 Q1525.45 116.832 1530.19 116.832 Q1538.01 116.832 1542.02 121.693 Q1546.03 126.514 1546.03 135.912 Z\" fill=\"#000000\" fill-rule=\"evenodd\" fill-opacity=\"1\" /><path clip-path=\"url(#clip430)\" d=\"M 0 0 M1571.43 123.152 Q1565.43 123.152 1561.95 127.851 Q1558.47 132.509 1558.47 140.651 Q1558.47 148.794 1561.91 153.493 Q1565.39 158.151 1571.43 158.151 Q1577.38 158.151 1580.87 153.452 Q1584.35 148.753 1584.35 140.651 Q1584.35 132.59 1580.87 127.891 Q1577.38 123.152 1571.43 123.152 M1571.43 116.832 Q1581.15 116.832 1586.7 123.152 Q1592.25 129.471 1592.25 140.651 Q1592.25 151.791 1586.7 158.151 Q1581.15 164.471 1571.43 164.471 Q1561.67 164.471 1556.12 158.151 Q1550.61 151.791 1550.61 140.651 Q1550.61 129.471 1556.12 123.152 Q1561.67 116.832 1571.43 116.832 Z\" fill=\"#000000\" fill-rule=\"evenodd\" fill-opacity=\"1\" /><path clip-path=\"url(#clip430)\" d=\"M 0 0 M1629.92 124.812 L1629.92 100.264 L1637.38 100.264 L1637.38 163.296 L1629.92 163.296 L1629.92 156.49 Q1627.58 160.541 1623.97 162.526 Q1620.41 164.471 1615.38 164.471 Q1607.16 164.471 1601.97 157.908 Q1596.83 151.346 1596.83 140.651 Q1596.83 129.957 1601.97 123.395 Q1607.16 116.832 1615.38 116.832 Q1620.41 116.832 1623.97 118.817 Q1627.58 120.762 1629.92 124.812 M1604.53 140.651 Q1604.53 148.875 1607.89 153.574 Q1611.29 158.232 1617.2 158.232 Q1623.12 158.232 1626.52 153.574 Q1629.92 148.875 1629.92 140.651 Q1629.92 132.428 1626.52 127.77 Q1623.12 123.071 1617.2 123.071 Q1611.29 123.071 1607.89 127.77 Q1604.53 132.428 1604.53 140.651 Z\" fill=\"#000000\" fill-rule=\"evenodd\" fill-opacity=\"1\" /><path clip-path=\"url(#clip430)\" d=\"M 0 0 M1674.12 119.263 L1674.12 126.311 Q1670.96 124.691 1667.56 123.881 Q1664.15 123.071 1660.51 123.071 Q1654.96 123.071 1652.16 124.772 Q1649.41 126.473 1649.41 129.876 Q1649.41 132.469 1651.39 133.967 Q1653.38 135.426 1659.37 136.763 L1661.93 137.33 Q1669.87 139.031 1673.19 142.15 Q1676.55 145.229 1676.55 150.779 Q1676.55 157.098 1671.53 160.784 Q1666.54 164.471 1657.79 164.471 Q1654.15 164.471 1650.18 163.742 Q1646.25 163.053 1641.87 161.635 L1641.87 153.938 Q1646.01 156.085 1650.02 157.179 Q1654.03 158.232 1657.96 158.232 Q1663.22 158.232 1666.06 156.45 Q1668.89 154.627 1668.89 151.346 Q1668.89 148.308 1666.83 146.687 Q1664.8 145.067 1657.88 143.568 L1655.28 142.96 Q1648.36 141.502 1645.28 138.504 Q1642.2 135.466 1642.2 130.2 Q1642.2 123.8 1646.74 120.316 Q1651.27 116.832 1659.62 116.832 Q1663.75 116.832 1667.4 117.44 Q1671.04 118.047 1674.12 119.263 Z\" fill=\"#000000\" fill-rule=\"evenodd\" fill-opacity=\"1\" /><polyline clip-path=\"url(#clip432)\" style=\"stroke:#000000; stroke-width:4; stroke-opacity:0.3; fill:none\" points=\"\n",
       "  1540.09,219.025 1518.18,235.855 1496.41,252.573 1474.79,269.178 1453.32,285.671 1431.99,302.051 1410.82,318.319 1389.78,334.474 1368.9,350.516 1348.16,366.446 \n",
       "  1327.57,382.263 1307.12,397.968 1286.82,413.56 1266.67,429.039 1246.66,444.406 1226.8,459.661 1207.09,474.803 1187.52,489.832 1168.1,504.748 1148.83,519.552 \n",
       "  1129.7,534.244 1110.72,548.823 1091.89,563.289 1073.2,577.643 1054.66,591.884 1036.26,606.013 1018.02,620.029 999.914,633.932 981.96,647.723 964.152,661.401 \n",
       "  946.491,674.967 928.976,688.42 911.608,701.761 894.386,714.988 877.311,728.104 860.382,741.107 843.6,753.997 826.965,766.775 810.476,779.44 794.134,791.992 \n",
       "  777.938,804.432 761.889,816.759 745.987,828.974 730.231,841.076 714.621,853.066 699.158,864.943 683.842,876.707 668.672,888.359 653.649,899.898 638.773,911.325 \n",
       "  624.043,922.639 609.459,933.841 595.022,944.93 580.732,955.906 566.588,966.77 552.591,977.521 538.74,988.16 525.036,998.686 511.479,1009.1 498.068,1019.4 \n",
       "  484.804,1029.59 471.686,1039.66 458.715,1049.63 445.89,1059.48 433.212,1069.22 420.681,1078.84 408.296,1088.35 396.057,1097.75 383.965,1107.04 372.02,1116.22 \n",
       "  360.222,1125.28 348.57,1134.23 337.064,1143.07 325.705,1151.79 314.493,1160.4 303.427,1168.9 292.508,1177.29 281.735,1185.57 271.109,1193.73 260.629,1201.78 \n",
       "  250.296,1209.71 \n",
       "  \"/>\n",
       "<polyline clip-path=\"url(#clip432)\" style=\"stroke:#e26f46; stroke-width:8; stroke-opacity:1; fill:none\" points=\"\n",
       "  1540.09,219.025 1518.18,230.264 1496.41,241.465 1474.79,252.63 1453.32,263.758 1431.99,274.849 1410.82,285.903 1389.78,296.921 1368.9,307.902 1348.16,318.848 \n",
       "  1327.57,329.757 1307.12,340.631 1286.82,351.47 1266.67,362.273 1246.66,373.041 1226.8,383.773 1207.09,394.471 1187.52,405.135 1168.1,415.763 1148.83,426.358 \n",
       "  1129.7,436.918 1110.72,447.444 1091.89,457.937 1073.2,468.396 1054.66,478.821 1036.26,489.213 1018.02,499.571 999.914,509.897 981.96,520.19 964.152,530.45 \n",
       "  946.491,540.677 928.976,550.872 911.608,561.035 894.386,571.165 877.311,581.264 860.382,591.331 843.6,601.366 826.965,611.37 810.476,621.342 794.134,631.283 \n",
       "  777.938,641.193 761.889,651.073 745.987,660.921 730.231,670.739 714.621,680.526 699.158,690.283 683.842,700.009 668.672,709.706 653.649,719.373 638.773,729.01 \n",
       "  624.043,738.617 609.459,748.195 595.022,757.743 580.732,767.262 566.588,776.752 552.591,786.213 538.74,795.645 525.036,805.049 511.479,814.424 498.068,823.77 \n",
       "  484.804,833.088 471.686,842.378 458.715,851.64 445.89,860.874 433.212,870.08 420.681,879.258 408.296,888.409 396.057,897.533 383.965,906.629 372.02,915.698 \n",
       "  360.222,924.74 348.57,933.754 337.064,942.743 325.705,951.704 314.493,960.639 303.427,969.547 292.508,978.429 281.735,987.284 271.109,996.114 260.629,1004.92 \n",
       "  250.296,1013.7 \n",
       "  \"/>\n",
       "<polyline clip-path=\"url(#clip432)\" style=\"stroke:#3da44d; stroke-width:8; stroke-opacity:1; fill:none\" points=\"\n",
       "  1540.09,219.025 1518.18,230.357 1496.41,241.836 1474.79,253.457 1453.32,265.217 1431.99,277.111 1410.82,289.135 1389.78,301.285 1368.9,313.556 1348.16,325.943 \n",
       "  1327.57,338.44 1307.12,351.044 1286.82,363.748 1266.67,376.548 1246.66,389.437 1226.8,402.41 1207.09,415.462 1187.52,428.586 1168.1,441.776 1148.83,455.027 \n",
       "  1129.7,468.333 1110.72,481.687 1091.89,495.083 1073.2,508.515 1054.66,521.976 1036.26,535.461 1018.02,548.963 999.914,562.475 981.96,575.992 964.152,589.506 \n",
       "  946.491,603.013 928.976,616.505 911.608,629.976 894.386,643.42 877.311,656.831 860.382,670.204 843.6,683.531 826.965,696.808 810.476,710.028 794.134,723.186 \n",
       "  777.938,736.276 761.889,749.294 745.987,762.232 730.231,775.088 714.621,787.854 699.158,800.527 683.842,813.102 668.672,825.574 653.649,837.939 638.773,850.192 \n",
       "  624.043,862.329 609.459,874.347 595.022,886.242 580.732,898.01 566.588,909.647 552.591,921.15 538.74,932.517 525.036,943.744 511.479,954.829 498.068,965.769 \n",
       "  484.804,976.561 471.686,987.204 458.715,997.695 445.89,1008.03 433.212,1018.22 420.681,1028.24 408.296,1038.11 396.057,1047.82 383.965,1057.37 372.02,1066.75 \n",
       "  360.222,1075.98 348.57,1085.04 337.064,1093.94 325.705,1102.67 314.493,1111.24 303.427,1119.65 292.508,1127.9 281.735,1135.98 271.109,1143.89 260.629,1151.65 \n",
       "  250.296,1159.24 \n",
       "  \"/>\n",
       "<polyline clip-path=\"url(#clip432)\" style=\"stroke:#c271d2; stroke-width:8; stroke-opacity:1; fill:none\" points=\"\n",
       "  1540.09,219.025 1518.18,230.357 1496.41,241.838 1474.79,253.466 1453.32,265.239 1431.99,277.154 1410.82,289.21 1389.78,301.403 1368.9,313.731 1348.16,326.192 \n",
       "  1327.57,338.781 1307.12,351.496 1286.82,364.333 1266.67,377.289 1246.66,390.36 1226.8,403.541 1207.09,416.828 1187.52,430.217 1168.1,443.703 1148.83,457.282 \n",
       "  1129.7,470.947 1110.72,484.696 1091.89,498.521 1073.2,512.417 1054.66,526.38 1036.26,540.402 1018.02,554.479 999.914,568.604 981.96,582.771 964.152,596.974 \n",
       "  946.491,611.207 928.976,625.463 911.608,639.735 894.386,654.018 877.311,668.304 860.382,682.588 843.6,696.862 826.965,711.12 810.476,725.355 794.134,739.561 \n",
       "  777.938,753.73 761.889,767.857 745.987,781.935 730.231,795.958 714.621,809.918 699.158,823.811 683.842,837.629 668.672,851.366 653.649,865.018 638.773,878.577 \n",
       "  624.043,892.038 609.459,905.396 595.022,918.646 580.732,931.781 566.588,944.798 552.591,957.691 538.74,970.455 525.036,983.087 511.479,995.581 498.068,1007.94 \n",
       "  484.804,1020.14 471.686,1032.2 458.715,1044.11 445.89,1055.87 433.212,1067.46 420.681,1078.9 408.296,1090.17 396.057,1101.28 383.965,1112.22 372.02,1122.99 \n",
       "  360.222,1133.58 348.57,1144.01 337.064,1154.27 325.705,1164.35 314.493,1174.25 303.427,1183.98 292.508,1193.54 281.735,1202.91 271.109,1212.12 260.629,1221.14 \n",
       "  250.296,1230 \n",
       "  \"/>\n",
       "<polyline clip-path=\"url(#clip432)\" style=\"stroke:#ac8d18; stroke-width:8; stroke-opacity:1; fill:none\" points=\"\n",
       "  1540.09,219.025 1518.18,230.357 1496.41,241.838 1474.79,253.466 1453.32,265.239 1431.99,277.154 1410.82,289.21 1389.78,301.404 1368.9,313.733 1348.16,326.194 \n",
       "  1327.57,338.785 1307.12,351.502 1286.82,364.341 1266.67,377.3 1246.66,390.374 1226.8,403.559 1207.09,416.852 1187.52,430.248 1168.1,443.742 1148.83,457.329 \n",
       "  1129.7,471.006 1110.72,484.766 1091.89,498.605 1073.2,512.518 1054.66,526.498 1036.26,540.541 1018.02,554.64 999.914,568.79 981.96,582.985 964.152,597.218 \n",
       "  946.491,611.483 928.976,625.775 911.608,640.087 894.386,654.411 877.311,668.743 860.382,683.075 843.6,697.4 826.965,711.713 810.476,726.006 794.134,740.273 \n",
       "  777.938,754.507 761.889,768.702 745.987,782.851 730.231,796.948 714.621,810.986 699.158,824.958 683.842,838.859 668.672,852.682 653.649,866.421 638.773,880.071 \n",
       "  624.043,893.624 609.459,907.076 595.022,920.421 580.732,933.653 566.588,946.767 552.591,959.758 538.74,972.621 525.036,985.351 511.479,997.944 498.068,1010.4 \n",
       "  484.804,1022.7 471.686,1034.85 458.715,1046.86 445.89,1058.7 433.212,1070.38 420.681,1081.9 408.296,1093.25 396.057,1104.43 383.965,1115.44 372.02,1126.28 \n",
       "  360.222,1136.94 348.57,1147.42 337.064,1157.72 325.705,1167.84 314.493,1177.78 303.427,1187.53 292.508,1197.1 281.735,1206.48 271.109,1215.68 260.629,1224.69 \n",
       "  250.296,1233.52 \n",
       "  \"/>\n",
       "<polyline clip-path=\"url(#clip432)\" style=\"stroke:#00a9ad; stroke-width:0; stroke-opacity:1; fill:none\" points=\"\n",
       "  1540.09,219.025 1327.57,372.541 1129.7,500.47 946.491,424.961 777.938,693.964 624.043,927.179 484.804,1029.59 360.222,1175.94 250.296,1388.11 \n",
       "  \"/>\n",
       "<circle clip-path=\"url(#clip432)\" cx=\"1540.09\" cy=\"219.025\" r=\"14\" fill=\"#00a9ad\" fill-rule=\"evenodd\" fill-opacity=\"1\" stroke=\"#000000\" stroke-opacity=\"1\" stroke-width=\"3.2\"/>\n",
       "<circle clip-path=\"url(#clip432)\" cx=\"1327.57\" cy=\"372.541\" r=\"14\" fill=\"#00a9ad\" fill-rule=\"evenodd\" fill-opacity=\"1\" stroke=\"#000000\" stroke-opacity=\"1\" stroke-width=\"3.2\"/>\n",
       "<circle clip-path=\"url(#clip432)\" cx=\"1129.7\" cy=\"500.47\" r=\"14\" fill=\"#00a9ad\" fill-rule=\"evenodd\" fill-opacity=\"1\" stroke=\"#000000\" stroke-opacity=\"1\" stroke-width=\"3.2\"/>\n",
       "<circle clip-path=\"url(#clip432)\" cx=\"946.491\" cy=\"424.961\" r=\"14\" fill=\"#00a9ad\" fill-rule=\"evenodd\" fill-opacity=\"1\" stroke=\"#000000\" stroke-opacity=\"1\" stroke-width=\"3.2\"/>\n",
       "<circle clip-path=\"url(#clip432)\" cx=\"777.938\" cy=\"693.964\" r=\"14\" fill=\"#00a9ad\" fill-rule=\"evenodd\" fill-opacity=\"1\" stroke=\"#000000\" stroke-opacity=\"1\" stroke-width=\"3.2\"/>\n",
       "<circle clip-path=\"url(#clip432)\" cx=\"624.043\" cy=\"927.179\" r=\"14\" fill=\"#00a9ad\" fill-rule=\"evenodd\" fill-opacity=\"1\" stroke=\"#000000\" stroke-opacity=\"1\" stroke-width=\"3.2\"/>\n",
       "<circle clip-path=\"url(#clip432)\" cx=\"484.804\" cy=\"1029.59\" r=\"14\" fill=\"#00a9ad\" fill-rule=\"evenodd\" fill-opacity=\"1\" stroke=\"#000000\" stroke-opacity=\"1\" stroke-width=\"3.2\"/>\n",
       "<circle clip-path=\"url(#clip432)\" cx=\"360.222\" cy=\"1175.94\" r=\"14\" fill=\"#00a9ad\" fill-rule=\"evenodd\" fill-opacity=\"1\" stroke=\"#000000\" stroke-opacity=\"1\" stroke-width=\"3.2\"/>\n",
       "<circle clip-path=\"url(#clip432)\" cx=\"250.296\" cy=\"1388.11\" r=\"14\" fill=\"#00a9ad\" fill-rule=\"evenodd\" fill-opacity=\"1\" stroke=\"#000000\" stroke-opacity=\"1\" stroke-width=\"3.2\"/>\n",
       "<polyline clip-path=\"url(#clip432)\" style=\"stroke:#ed5d92; stroke-width:0; stroke-opacity:1; fill:none\" points=\"\n",
       "  1540.09,219.025 1327.57,342.361 1129.7,470.073 946.491,605.56 777.938,752.956 624.043,904.823 484.804,1054.3 360.222,1143.88 250.296,1222.89 \n",
       "  \"/>\n",
       "<circle clip-path=\"url(#clip432)\" cx=\"1540.09\" cy=\"219.025\" r=\"14\" fill=\"#ed5d92\" fill-rule=\"evenodd\" fill-opacity=\"1\" stroke=\"#000000\" stroke-opacity=\"1\" stroke-width=\"3.2\"/>\n",
       "<circle clip-path=\"url(#clip432)\" cx=\"1327.57\" cy=\"342.361\" r=\"14\" fill=\"#ed5d92\" fill-rule=\"evenodd\" fill-opacity=\"1\" stroke=\"#000000\" stroke-opacity=\"1\" stroke-width=\"3.2\"/>\n",
       "<circle clip-path=\"url(#clip432)\" cx=\"1129.7\" cy=\"470.073\" r=\"14\" fill=\"#ed5d92\" fill-rule=\"evenodd\" fill-opacity=\"1\" stroke=\"#000000\" stroke-opacity=\"1\" stroke-width=\"3.2\"/>\n",
       "<circle clip-path=\"url(#clip432)\" cx=\"946.491\" cy=\"605.56\" r=\"14\" fill=\"#ed5d92\" fill-rule=\"evenodd\" fill-opacity=\"1\" stroke=\"#000000\" stroke-opacity=\"1\" stroke-width=\"3.2\"/>\n",
       "<circle clip-path=\"url(#clip432)\" cx=\"777.938\" cy=\"752.956\" r=\"14\" fill=\"#ed5d92\" fill-rule=\"evenodd\" fill-opacity=\"1\" stroke=\"#000000\" stroke-opacity=\"1\" stroke-width=\"3.2\"/>\n",
       "<circle clip-path=\"url(#clip432)\" cx=\"624.043\" cy=\"904.823\" r=\"14\" fill=\"#ed5d92\" fill-rule=\"evenodd\" fill-opacity=\"1\" stroke=\"#000000\" stroke-opacity=\"1\" stroke-width=\"3.2\"/>\n",
       "<circle clip-path=\"url(#clip432)\" cx=\"484.804\" cy=\"1054.3\" r=\"14\" fill=\"#ed5d92\" fill-rule=\"evenodd\" fill-opacity=\"1\" stroke=\"#000000\" stroke-opacity=\"1\" stroke-width=\"3.2\"/>\n",
       "<circle clip-path=\"url(#clip432)\" cx=\"360.222\" cy=\"1143.88\" r=\"14\" fill=\"#ed5d92\" fill-rule=\"evenodd\" fill-opacity=\"1\" stroke=\"#000000\" stroke-opacity=\"1\" stroke-width=\"3.2\"/>\n",
       "<circle clip-path=\"url(#clip432)\" cx=\"250.296\" cy=\"1222.89\" r=\"14\" fill=\"#ed5d92\" fill-rule=\"evenodd\" fill-opacity=\"1\" stroke=\"#000000\" stroke-opacity=\"1\" stroke-width=\"3.2\"/>\n",
       "<path clip-path=\"url(#clip430)\" d=\"\n",
       "M1650.15 648.62 L2352.76 648.62 L2352.76 225.26 L1650.15 225.26  Z\n",
       "  \" fill=\"#ffffff\" fill-rule=\"evenodd\" fill-opacity=\"1\"/>\n",
       "<polyline clip-path=\"url(#clip430)\" style=\"stroke:#000000; stroke-width:4; stroke-opacity:1; fill:none\" points=\"\n",
       "  1650.15,648.62 2352.76,648.62 2352.76,225.26 1650.15,225.26 1650.15,648.62 \n",
       "  \"/>\n",
       "<polyline clip-path=\"url(#clip430)\" style=\"stroke:#e26f46; stroke-width:4; stroke-opacity:1; fill:none\" points=\"\n",
       "  1673.94,285.74 1816.69,285.74 \n",
       "  \"/>\n",
       "<path clip-path=\"url(#clip430)\" d=\"M 0 0 M1864.51 288.992 L1864.51 291.075 L1844.92 291.075 Q1845.2 295.473 1847.56 297.788 Q1849.95 300.08 1854.18 300.08 Q1856.64 300.08 1858.93 299.478 Q1861.24 298.876 1863.51 297.673 L1863.51 301.7 Q1861.22 302.672 1858.81 303.182 Q1856.4 303.691 1853.93 303.691 Q1847.72 303.691 1844.09 300.08 Q1840.48 296.469 1840.48 290.311 Q1840.48 283.946 1843.9 280.219 Q1847.35 276.469 1853.19 276.469 Q1858.42 276.469 1861.45 279.849 Q1864.51 283.205 1864.51 288.992 M1860.25 287.742 Q1860.2 284.247 1858.28 282.163 Q1856.38 280.08 1853.23 280.08 Q1849.67 280.08 1847.52 282.094 Q1845.39 284.108 1845.06 287.765 L1860.25 287.742 Z\" fill=\"#000000\" fill-rule=\"evenodd\" fill-opacity=\"1\" /><path clip-path=\"url(#clip430)\" d=\"M 0 0 M1889.69 277.094 L1880.32 289.71 L1890.18 303.02 L1885.15 303.02 L1877.61 292.835 L1870.06 303.02 L1865.04 303.02 L1875.11 289.455 L1865.89 277.094 L1870.92 277.094 L1877.79 286.33 L1884.67 277.094 L1889.69 277.094 Z\" fill=\"#000000\" fill-rule=\"evenodd\" fill-opacity=\"1\" /><path clip-path=\"url(#clip430)\" d=\"M 0 0 M1898.76 299.131 L1898.76 312.881 L1894.48 312.881 L1894.48 277.094 L1898.76 277.094 L1898.76 281.029 Q1900.11 278.714 1902.14 277.603 Q1904.2 276.469 1907.05 276.469 Q1911.77 276.469 1914.71 280.219 Q1917.68 283.969 1917.68 290.08 Q1917.68 296.191 1914.71 299.941 Q1911.77 303.691 1907.05 303.691 Q1904.2 303.691 1902.14 302.58 Q1900.11 301.446 1898.76 299.131 M1913.26 290.08 Q1913.26 285.381 1911.31 282.719 Q1909.39 280.034 1906.01 280.034 Q1902.63 280.034 1900.69 282.719 Q1898.76 285.381 1898.76 290.08 Q1898.76 294.779 1900.69 297.464 Q1902.63 300.126 1906.01 300.126 Q1909.39 300.126 1911.31 297.464 Q1913.26 294.779 1913.26 290.08 Z\" fill=\"#000000\" fill-rule=\"evenodd\" fill-opacity=\"1\" /><path clip-path=\"url(#clip430)\" d=\"M 0 0 M1933.93 289.987 Q1928.76 289.987 1926.77 291.168 Q1924.78 292.348 1924.78 295.196 Q1924.78 297.464 1926.26 298.807 Q1927.77 300.126 1930.34 300.126 Q1933.88 300.126 1936.01 297.626 Q1938.16 295.103 1938.16 290.936 L1938.16 289.987 L1933.93 289.987 M1942.42 288.228 L1942.42 303.02 L1938.16 303.02 L1938.16 299.085 Q1936.7 301.446 1934.53 302.58 Q1932.35 303.691 1929.2 303.691 Q1925.22 303.691 1922.86 301.469 Q1920.52 299.223 1920.52 295.473 Q1920.52 291.098 1923.44 288.876 Q1926.38 286.654 1932.19 286.654 L1938.16 286.654 L1938.16 286.237 Q1938.16 283.298 1936.22 281.7 Q1934.3 280.08 1930.8 280.08 Q1928.58 280.08 1926.47 280.612 Q1924.37 281.145 1922.42 282.21 L1922.42 278.274 Q1924.76 277.372 1926.96 276.932 Q1929.16 276.469 1931.24 276.469 Q1936.87 276.469 1939.64 279.386 Q1942.42 282.302 1942.42 288.228 Z\" fill=\"#000000\" fill-rule=\"evenodd\" fill-opacity=\"1\" /><path clip-path=\"url(#clip430)\" d=\"M 0 0 M1968.44 287.372 L1968.44 303.02 L1964.18 303.02 L1964.18 287.511 Q1964.18 283.83 1962.75 282.001 Q1961.31 280.173 1958.44 280.173 Q1954.99 280.173 1953 282.372 Q1951.01 284.571 1951.01 288.367 L1951.01 303.02 L1946.73 303.02 L1946.73 277.094 L1951.01 277.094 L1951.01 281.122 Q1952.54 278.784 1954.6 277.626 Q1956.68 276.469 1959.39 276.469 Q1963.86 276.469 1966.15 279.247 Q1968.44 282.001 1968.44 287.372 Z\" fill=\"#000000\" fill-rule=\"evenodd\" fill-opacity=\"1\" /><path clip-path=\"url(#clip430)\" d=\"M 0 0 M1989.44 277.858 L1989.44 281.886 Q1987.63 280.96 1985.69 280.497 Q1983.74 280.034 1981.66 280.034 Q1978.49 280.034 1976.89 281.006 Q1975.32 281.978 1975.32 283.923 Q1975.32 285.404 1976.45 286.261 Q1977.58 287.094 1981.01 287.858 L1982.47 288.182 Q1987.01 289.154 1988.9 290.936 Q1990.82 292.696 1990.82 295.867 Q1990.82 299.478 1987.95 301.585 Q1985.11 303.691 1980.11 303.691 Q1978.02 303.691 1975.76 303.274 Q1973.51 302.881 1971.01 302.071 L1971.01 297.673 Q1973.37 298.899 1975.66 299.524 Q1977.95 300.126 1980.2 300.126 Q1983.21 300.126 1984.83 299.108 Q1986.45 298.066 1986.45 296.191 Q1986.45 294.455 1985.27 293.529 Q1984.11 292.603 1980.15 291.747 L1978.67 291.399 Q1974.71 290.566 1972.95 288.853 Q1971.2 287.117 1971.2 284.108 Q1971.2 280.45 1973.79 278.46 Q1976.38 276.469 1981.15 276.469 Q1983.51 276.469 1985.59 276.816 Q1987.68 277.163 1989.44 277.858 Z\" fill=\"#000000\" fill-rule=\"evenodd\" fill-opacity=\"1\" /><path clip-path=\"url(#clip430)\" d=\"M 0 0 M1995.29 277.094 L1999.55 277.094 L1999.55 303.02 L1995.29 303.02 L1995.29 277.094 M1995.29 267.001 L1999.55 267.001 L1999.55 272.395 L1995.29 272.395 L1995.29 267.001 Z\" fill=\"#000000\" fill-rule=\"evenodd\" fill-opacity=\"1\" /><path clip-path=\"url(#clip430)\" d=\"M 0 0 M2014.07 280.08 Q2010.64 280.08 2008.65 282.765 Q2006.66 285.427 2006.66 290.08 Q2006.66 294.733 2008.63 297.418 Q2010.62 300.08 2014.07 300.08 Q2017.47 300.08 2019.46 297.395 Q2021.45 294.71 2021.45 290.08 Q2021.45 285.474 2019.46 282.788 Q2017.47 280.08 2014.07 280.08 M2014.07 276.469 Q2019.62 276.469 2022.79 280.08 Q2025.96 283.691 2025.96 290.08 Q2025.96 296.446 2022.79 300.08 Q2019.62 303.691 2014.07 303.691 Q2008.49 303.691 2005.32 300.08 Q2002.17 296.446 2002.17 290.08 Q2002.17 283.691 2005.32 280.08 Q2008.49 276.469 2014.07 276.469 Z\" fill=\"#000000\" fill-rule=\"evenodd\" fill-opacity=\"1\" /><path clip-path=\"url(#clip430)\" d=\"M 0 0 M2051.98 287.372 L2051.98 303.02 L2047.72 303.02 L2047.72 287.511 Q2047.72 283.83 2046.29 282.001 Q2044.85 280.173 2041.98 280.173 Q2038.53 280.173 2036.54 282.372 Q2034.55 284.571 2034.55 288.367 L2034.55 303.02 L2030.27 303.02 L2030.27 277.094 L2034.55 277.094 L2034.55 281.122 Q2036.08 278.784 2038.14 277.626 Q2040.22 276.469 2042.93 276.469 Q2047.4 276.469 2049.69 279.247 Q2051.98 282.001 2051.98 287.372 Z\" fill=\"#000000\" fill-rule=\"evenodd\" fill-opacity=\"1\" /><path clip-path=\"url(#clip430)\" d=\"M 0 0 M2075.73 269.733 L2075.73 277.094 L2084.5 277.094 L2084.5 280.404 L2075.73 280.404 L2075.73 294.478 Q2075.73 297.649 2076.59 298.552 Q2077.47 299.455 2080.13 299.455 L2084.5 299.455 L2084.5 303.02 L2080.13 303.02 Q2075.2 303.02 2073.32 301.191 Q2071.45 299.339 2071.45 294.478 L2071.45 280.404 L2068.32 280.404 L2068.32 277.094 L2071.45 277.094 L2071.45 269.733 L2075.73 269.733 Z\" fill=\"#000000\" fill-rule=\"evenodd\" fill-opacity=\"1\" /><path clip-path=\"url(#clip430)\" d=\"M 0 0 M2099.02 280.08 Q2095.59 280.08 2093.6 282.765 Q2091.61 285.427 2091.61 290.08 Q2091.61 294.733 2093.58 297.418 Q2095.57 300.08 2099.02 300.08 Q2102.42 300.08 2104.41 297.395 Q2106.4 294.71 2106.4 290.08 Q2106.4 285.474 2104.41 282.788 Q2102.42 280.08 2099.02 280.08 M2099.02 276.469 Q2104.57 276.469 2107.75 280.08 Q2110.92 283.691 2110.92 290.08 Q2110.92 296.446 2107.75 300.08 Q2104.57 303.691 2099.02 303.691 Q2093.44 303.691 2090.27 300.08 Q2087.12 296.446 2087.12 290.08 Q2087.12 283.691 2090.27 280.08 Q2093.44 276.469 2099.02 276.469 Z\" fill=\"#000000\" fill-rule=\"evenodd\" fill-opacity=\"1\" /><path clip-path=\"url(#clip430)\" d=\"M 0 0 M2140.5 280.08 Q2137.07 280.08 2135.08 282.765 Q2133.09 285.427 2133.09 290.08 Q2133.09 294.733 2135.06 297.418 Q2137.05 300.08 2140.5 300.08 Q2143.9 300.08 2145.89 297.395 Q2147.88 294.71 2147.88 290.08 Q2147.88 285.474 2145.89 282.788 Q2143.9 280.08 2140.5 280.08 M2140.5 276.469 Q2146.06 276.469 2149.23 280.08 Q2152.4 283.691 2152.4 290.08 Q2152.4 296.446 2149.23 300.08 Q2146.06 303.691 2140.5 303.691 Q2134.92 303.691 2131.75 300.08 Q2128.6 296.446 2128.6 290.08 Q2128.6 283.691 2131.75 280.08 Q2134.92 276.469 2140.5 276.469 Z\" fill=\"#000000\" fill-rule=\"evenodd\" fill-opacity=\"1\" /><path clip-path=\"url(#clip430)\" d=\"M 0 0 M2171.89 281.075 Q2171.17 280.659 2170.31 280.474 Q2169.48 280.265 2168.46 280.265 Q2164.85 280.265 2162.91 282.626 Q2160.99 284.964 2160.99 289.362 L2160.99 303.02 L2156.7 303.02 L2156.7 277.094 L2160.99 277.094 L2160.99 281.122 Q2162.33 278.761 2164.48 277.626 Q2166.63 276.469 2169.71 276.469 Q2170.15 276.469 2170.68 276.538 Q2171.22 276.585 2171.87 276.7 L2171.89 281.075 Z\" fill=\"#000000\" fill-rule=\"evenodd\" fill-opacity=\"1\" /><path clip-path=\"url(#clip430)\" d=\"M 0 0 M2192.58 281.029 L2192.58 267.001 L2196.84 267.001 L2196.84 303.02 L2192.58 303.02 L2192.58 299.131 Q2191.24 301.446 2189.18 302.58 Q2187.14 303.691 2184.27 303.691 Q2179.57 303.691 2176.61 299.941 Q2173.67 296.191 2173.67 290.08 Q2173.67 283.969 2176.61 280.219 Q2179.57 276.469 2184.27 276.469 Q2187.14 276.469 2189.18 277.603 Q2191.24 278.714 2192.58 281.029 M2178.07 290.08 Q2178.07 294.779 2179.99 297.464 Q2181.93 300.126 2185.31 300.126 Q2188.69 300.126 2190.64 297.464 Q2192.58 294.779 2192.58 290.08 Q2192.58 285.381 2190.64 282.719 Q2188.69 280.034 2185.31 280.034 Q2181.93 280.034 2179.99 282.719 Q2178.07 285.381 2178.07 290.08 Z\" fill=\"#000000\" fill-rule=\"evenodd\" fill-opacity=\"1\" /><path clip-path=\"url(#clip430)\" d=\"M 0 0 M2223.49 288.992 L2223.49 291.075 L2203.9 291.075 Q2204.18 295.473 2206.54 297.788 Q2208.93 300.08 2213.16 300.08 Q2215.62 300.08 2217.91 299.478 Q2220.22 298.876 2222.49 297.673 L2222.49 301.7 Q2220.2 302.672 2217.79 303.182 Q2215.38 303.691 2212.91 303.691 Q2206.7 303.691 2203.07 300.08 Q2199.46 296.469 2199.46 290.311 Q2199.46 283.946 2202.88 280.219 Q2206.33 276.469 2212.17 276.469 Q2217.4 276.469 2220.43 279.849 Q2223.49 283.205 2223.49 288.992 M2219.23 287.742 Q2219.18 284.247 2217.26 282.163 Q2215.36 280.08 2212.21 280.08 Q2208.65 280.08 2206.49 282.094 Q2204.37 284.108 2204.04 287.765 L2219.23 287.742 Z\" fill=\"#000000\" fill-rule=\"evenodd\" fill-opacity=\"1\" /><path clip-path=\"url(#clip430)\" d=\"M 0 0 M2242.98 281.075 Q2242.26 280.659 2241.4 280.474 Q2240.57 280.265 2239.55 280.265 Q2235.94 280.265 2233.99 282.626 Q2232.07 284.964 2232.07 289.362 L2232.07 303.02 L2227.79 303.02 L2227.79 277.094 L2232.07 277.094 L2232.07 281.122 Q2233.42 278.761 2235.57 277.626 Q2237.72 276.469 2240.8 276.469 Q2241.24 276.469 2241.77 276.538 Q2242.3 276.585 2242.95 276.7 L2242.98 281.075 Z\" fill=\"#000000\" fill-rule=\"evenodd\" fill-opacity=\"1\" /><path clip-path=\"url(#clip430)\" d=\"M 0 0 M2248 281.492 L2277.67 281.492 L2277.67 285.381 L2248 285.381 L2248 281.492 M2248 290.936 L2277.67 290.936 L2277.67 294.872 L2248 294.872 L2248 290.936 Z\" fill=\"#000000\" fill-rule=\"evenodd\" fill-opacity=\"1\" /><path clip-path=\"url(#clip430)\" d=\"M 0 0 M2283.55 299.085 L2291.19 299.085 L2291.19 272.719 L2282.88 274.386 L2282.88 270.126 L2291.15 268.46 L2295.82 268.46 L2295.82 299.085 L2303.46 299.085 L2303.46 303.02 L2283.55 303.02 L2283.55 299.085 Z\" fill=\"#000000\" fill-rule=\"evenodd\" fill-opacity=\"1\" /><polyline clip-path=\"url(#clip430)\" style=\"stroke:#3da44d; stroke-width:4; stroke-opacity:1; fill:none\" points=\"\n",
       "  1673.94,346.22 1816.69,346.22 \n",
       "  \"/>\n",
       "<path clip-path=\"url(#clip430)\" d=\"M 0 0 M1864.51 349.472 L1864.51 351.555 L1844.92 351.555 Q1845.2 355.953 1847.56 358.268 Q1849.95 360.56 1854.18 360.56 Q1856.64 360.56 1858.93 359.958 Q1861.24 359.356 1863.51 358.153 L1863.51 362.18 Q1861.22 363.152 1858.81 363.662 Q1856.4 364.171 1853.93 364.171 Q1847.72 364.171 1844.09 360.56 Q1840.48 356.949 1840.48 350.791 Q1840.48 344.426 1843.9 340.699 Q1847.35 336.949 1853.19 336.949 Q1858.42 336.949 1861.45 340.329 Q1864.51 343.685 1864.51 349.472 M1860.25 348.222 Q1860.2 344.727 1858.28 342.643 Q1856.38 340.56 1853.23 340.56 Q1849.67 340.56 1847.52 342.574 Q1845.39 344.588 1845.06 348.245 L1860.25 348.222 Z\" fill=\"#000000\" fill-rule=\"evenodd\" fill-opacity=\"1\" /><path clip-path=\"url(#clip430)\" d=\"M 0 0 M1889.69 337.574 L1880.32 350.19 L1890.18 363.5 L1885.15 363.5 L1877.61 353.315 L1870.06 363.5 L1865.04 363.5 L1875.11 349.935 L1865.89 337.574 L1870.92 337.574 L1877.79 346.81 L1884.67 337.574 L1889.69 337.574 Z\" fill=\"#000000\" fill-rule=\"evenodd\" fill-opacity=\"1\" /><path clip-path=\"url(#clip430)\" d=\"M 0 0 M1898.76 359.611 L1898.76 373.361 L1894.48 373.361 L1894.48 337.574 L1898.76 337.574 L1898.76 341.509 Q1900.11 339.194 1902.14 338.083 Q1904.2 336.949 1907.05 336.949 Q1911.77 336.949 1914.71 340.699 Q1917.68 344.449 1917.68 350.56 Q1917.68 356.671 1914.71 360.421 Q1911.77 364.171 1907.05 364.171 Q1904.2 364.171 1902.14 363.06 Q1900.11 361.926 1898.76 359.611 M1913.26 350.56 Q1913.26 345.861 1911.31 343.199 Q1909.39 340.514 1906.01 340.514 Q1902.63 340.514 1900.69 343.199 Q1898.76 345.861 1898.76 350.56 Q1898.76 355.259 1900.69 357.944 Q1902.63 360.606 1906.01 360.606 Q1909.39 360.606 1911.31 357.944 Q1913.26 355.259 1913.26 350.56 Z\" fill=\"#000000\" fill-rule=\"evenodd\" fill-opacity=\"1\" /><path clip-path=\"url(#clip430)\" d=\"M 0 0 M1933.93 350.467 Q1928.76 350.467 1926.77 351.648 Q1924.78 352.828 1924.78 355.676 Q1924.78 357.944 1926.26 359.287 Q1927.77 360.606 1930.34 360.606 Q1933.88 360.606 1936.01 358.106 Q1938.16 355.583 1938.16 351.416 L1938.16 350.467 L1933.93 350.467 M1942.42 348.708 L1942.42 363.5 L1938.16 363.5 L1938.16 359.565 Q1936.7 361.926 1934.53 363.06 Q1932.35 364.171 1929.2 364.171 Q1925.22 364.171 1922.86 361.949 Q1920.52 359.703 1920.52 355.953 Q1920.52 351.578 1923.44 349.356 Q1926.38 347.134 1932.19 347.134 L1938.16 347.134 L1938.16 346.717 Q1938.16 343.778 1936.22 342.18 Q1934.3 340.56 1930.8 340.56 Q1928.58 340.56 1926.47 341.092 Q1924.37 341.625 1922.42 342.69 L1922.42 338.754 Q1924.76 337.852 1926.96 337.412 Q1929.16 336.949 1931.24 336.949 Q1936.87 336.949 1939.64 339.866 Q1942.42 342.782 1942.42 348.708 Z\" fill=\"#000000\" fill-rule=\"evenodd\" fill-opacity=\"1\" /><path clip-path=\"url(#clip430)\" d=\"M 0 0 M1968.44 347.852 L1968.44 363.5 L1964.18 363.5 L1964.18 347.991 Q1964.18 344.31 1962.75 342.481 Q1961.31 340.653 1958.44 340.653 Q1954.99 340.653 1953 342.852 Q1951.01 345.051 1951.01 348.847 L1951.01 363.5 L1946.73 363.5 L1946.73 337.574 L1951.01 337.574 L1951.01 341.602 Q1952.54 339.264 1954.6 338.106 Q1956.68 336.949 1959.39 336.949 Q1963.86 336.949 1966.15 339.727 Q1968.44 342.481 1968.44 347.852 Z\" fill=\"#000000\" fill-rule=\"evenodd\" fill-opacity=\"1\" /><path clip-path=\"url(#clip430)\" d=\"M 0 0 M1989.44 338.338 L1989.44 342.366 Q1987.63 341.44 1985.69 340.977 Q1983.74 340.514 1981.66 340.514 Q1978.49 340.514 1976.89 341.486 Q1975.32 342.458 1975.32 344.403 Q1975.32 345.884 1976.45 346.741 Q1977.58 347.574 1981.01 348.338 L1982.47 348.662 Q1987.01 349.634 1988.9 351.416 Q1990.82 353.176 1990.82 356.347 Q1990.82 359.958 1987.95 362.065 Q1985.11 364.171 1980.11 364.171 Q1978.02 364.171 1975.76 363.754 Q1973.51 363.361 1971.01 362.551 L1971.01 358.153 Q1973.37 359.379 1975.66 360.004 Q1977.95 360.606 1980.2 360.606 Q1983.21 360.606 1984.83 359.588 Q1986.45 358.546 1986.45 356.671 Q1986.45 354.935 1985.27 354.009 Q1984.11 353.083 1980.15 352.227 L1978.67 351.879 Q1974.71 351.046 1972.95 349.333 Q1971.2 347.597 1971.2 344.588 Q1971.2 340.93 1973.79 338.94 Q1976.38 336.949 1981.15 336.949 Q1983.51 336.949 1985.59 337.296 Q1987.68 337.643 1989.44 338.338 Z\" fill=\"#000000\" fill-rule=\"evenodd\" fill-opacity=\"1\" /><path clip-path=\"url(#clip430)\" d=\"M 0 0 M1995.29 337.574 L1999.55 337.574 L1999.55 363.5 L1995.29 363.5 L1995.29 337.574 M1995.29 327.481 L1999.55 327.481 L1999.55 332.875 L1995.29 332.875 L1995.29 327.481 Z\" fill=\"#000000\" fill-rule=\"evenodd\" fill-opacity=\"1\" /><path clip-path=\"url(#clip430)\" d=\"M 0 0 M2014.07 340.56 Q2010.64 340.56 2008.65 343.245 Q2006.66 345.907 2006.66 350.56 Q2006.66 355.213 2008.63 357.898 Q2010.62 360.56 2014.07 360.56 Q2017.47 360.56 2019.46 357.875 Q2021.45 355.19 2021.45 350.56 Q2021.45 345.954 2019.46 343.268 Q2017.47 340.56 2014.07 340.56 M2014.07 336.949 Q2019.62 336.949 2022.79 340.56 Q2025.96 344.171 2025.96 350.56 Q2025.96 356.926 2022.79 360.56 Q2019.62 364.171 2014.07 364.171 Q2008.49 364.171 2005.32 360.56 Q2002.17 356.926 2002.17 350.56 Q2002.17 344.171 2005.32 340.56 Q2008.49 336.949 2014.07 336.949 Z\" fill=\"#000000\" fill-rule=\"evenodd\" fill-opacity=\"1\" /><path clip-path=\"url(#clip430)\" d=\"M 0 0 M2051.98 347.852 L2051.98 363.5 L2047.72 363.5 L2047.72 347.991 Q2047.72 344.31 2046.29 342.481 Q2044.85 340.653 2041.98 340.653 Q2038.53 340.653 2036.54 342.852 Q2034.55 345.051 2034.55 348.847 L2034.55 363.5 L2030.27 363.5 L2030.27 337.574 L2034.55 337.574 L2034.55 341.602 Q2036.08 339.264 2038.14 338.106 Q2040.22 336.949 2042.93 336.949 Q2047.4 336.949 2049.69 339.727 Q2051.98 342.481 2051.98 347.852 Z\" fill=\"#000000\" fill-rule=\"evenodd\" fill-opacity=\"1\" /><path clip-path=\"url(#clip430)\" d=\"M 0 0 M2075.73 330.213 L2075.73 337.574 L2084.5 337.574 L2084.5 340.884 L2075.73 340.884 L2075.73 354.958 Q2075.73 358.129 2076.59 359.032 Q2077.47 359.935 2080.13 359.935 L2084.5 359.935 L2084.5 363.5 L2080.13 363.5 Q2075.2 363.5 2073.32 361.671 Q2071.45 359.819 2071.45 354.958 L2071.45 340.884 L2068.32 340.884 L2068.32 337.574 L2071.45 337.574 L2071.45 330.213 L2075.73 330.213 Z\" fill=\"#000000\" fill-rule=\"evenodd\" fill-opacity=\"1\" /><path clip-path=\"url(#clip430)\" d=\"M 0 0 M2099.02 340.56 Q2095.59 340.56 2093.6 343.245 Q2091.61 345.907 2091.61 350.56 Q2091.61 355.213 2093.58 357.898 Q2095.57 360.56 2099.02 360.56 Q2102.42 360.56 2104.41 357.875 Q2106.4 355.19 2106.4 350.56 Q2106.4 345.954 2104.41 343.268 Q2102.42 340.56 2099.02 340.56 M2099.02 336.949 Q2104.57 336.949 2107.75 340.56 Q2110.92 344.171 2110.92 350.56 Q2110.92 356.926 2107.75 360.56 Q2104.57 364.171 2099.02 364.171 Q2093.44 364.171 2090.27 360.56 Q2087.12 356.926 2087.12 350.56 Q2087.12 344.171 2090.27 340.56 Q2093.44 336.949 2099.02 336.949 Z\" fill=\"#000000\" fill-rule=\"evenodd\" fill-opacity=\"1\" /><path clip-path=\"url(#clip430)\" d=\"M 0 0 M2140.5 340.56 Q2137.07 340.56 2135.08 343.245 Q2133.09 345.907 2133.09 350.56 Q2133.09 355.213 2135.06 357.898 Q2137.05 360.56 2140.5 360.56 Q2143.9 360.56 2145.89 357.875 Q2147.88 355.19 2147.88 350.56 Q2147.88 345.954 2145.89 343.268 Q2143.9 340.56 2140.5 340.56 M2140.5 336.949 Q2146.06 336.949 2149.23 340.56 Q2152.4 344.171 2152.4 350.56 Q2152.4 356.926 2149.23 360.56 Q2146.06 364.171 2140.5 364.171 Q2134.92 364.171 2131.75 360.56 Q2128.6 356.926 2128.6 350.56 Q2128.6 344.171 2131.75 340.56 Q2134.92 336.949 2140.5 336.949 Z\" fill=\"#000000\" fill-rule=\"evenodd\" fill-opacity=\"1\" /><path clip-path=\"url(#clip430)\" d=\"M 0 0 M2171.89 341.555 Q2171.17 341.139 2170.31 340.954 Q2169.48 340.745 2168.46 340.745 Q2164.85 340.745 2162.91 343.106 Q2160.99 345.444 2160.99 349.842 L2160.99 363.5 L2156.7 363.5 L2156.7 337.574 L2160.99 337.574 L2160.99 341.602 Q2162.33 339.241 2164.48 338.106 Q2166.63 336.949 2169.71 336.949 Q2170.15 336.949 2170.68 337.018 Q2171.22 337.065 2171.87 337.18 L2171.89 341.555 Z\" fill=\"#000000\" fill-rule=\"evenodd\" fill-opacity=\"1\" /><path clip-path=\"url(#clip430)\" d=\"M 0 0 M2192.58 341.509 L2192.58 327.481 L2196.84 327.481 L2196.84 363.5 L2192.58 363.5 L2192.58 359.611 Q2191.24 361.926 2189.18 363.06 Q2187.14 364.171 2184.27 364.171 Q2179.57 364.171 2176.61 360.421 Q2173.67 356.671 2173.67 350.56 Q2173.67 344.449 2176.61 340.699 Q2179.57 336.949 2184.27 336.949 Q2187.14 336.949 2189.18 338.083 Q2191.24 339.194 2192.58 341.509 M2178.07 350.56 Q2178.07 355.259 2179.99 357.944 Q2181.93 360.606 2185.31 360.606 Q2188.69 360.606 2190.64 357.944 Q2192.58 355.259 2192.58 350.56 Q2192.58 345.861 2190.64 343.199 Q2188.69 340.514 2185.31 340.514 Q2181.93 340.514 2179.99 343.199 Q2178.07 345.861 2178.07 350.56 Z\" fill=\"#000000\" fill-rule=\"evenodd\" fill-opacity=\"1\" /><path clip-path=\"url(#clip430)\" d=\"M 0 0 M2223.49 349.472 L2223.49 351.555 L2203.9 351.555 Q2204.18 355.953 2206.54 358.268 Q2208.93 360.56 2213.16 360.56 Q2215.62 360.56 2217.91 359.958 Q2220.22 359.356 2222.49 358.153 L2222.49 362.18 Q2220.2 363.152 2217.79 363.662 Q2215.38 364.171 2212.91 364.171 Q2206.7 364.171 2203.07 360.56 Q2199.46 356.949 2199.46 350.791 Q2199.46 344.426 2202.88 340.699 Q2206.33 336.949 2212.17 336.949 Q2217.4 336.949 2220.43 340.329 Q2223.49 343.685 2223.49 349.472 M2219.23 348.222 Q2219.18 344.727 2217.26 342.643 Q2215.36 340.56 2212.21 340.56 Q2208.65 340.56 2206.49 342.574 Q2204.37 344.588 2204.04 348.245 L2219.23 348.222 Z\" fill=\"#000000\" fill-rule=\"evenodd\" fill-opacity=\"1\" /><path clip-path=\"url(#clip430)\" d=\"M 0 0 M2242.98 341.555 Q2242.26 341.139 2241.4 340.954 Q2240.57 340.745 2239.55 340.745 Q2235.94 340.745 2233.99 343.106 Q2232.07 345.444 2232.07 349.842 L2232.07 363.5 L2227.79 363.5 L2227.79 337.574 L2232.07 337.574 L2232.07 341.602 Q2233.42 339.241 2235.57 338.106 Q2237.72 336.949 2240.8 336.949 Q2241.24 336.949 2241.77 337.018 Q2242.3 337.065 2242.95 337.18 L2242.98 341.555 Z\" fill=\"#000000\" fill-rule=\"evenodd\" fill-opacity=\"1\" /><path clip-path=\"url(#clip430)\" d=\"M 0 0 M2248 341.972 L2277.67 341.972 L2277.67 345.861 L2248 345.861 L2248 341.972 M2248 351.416 L2277.67 351.416 L2277.67 355.352 L2248 355.352 L2248 351.416 Z\" fill=\"#000000\" fill-rule=\"evenodd\" fill-opacity=\"1\" /><path clip-path=\"url(#clip430)\" d=\"M 0 0 M2286.77 359.565 L2303.09 359.565 L2303.09 363.5 L2281.15 363.5 L2281.15 359.565 Q2283.81 356.81 2288.39 352.18 Q2293 347.528 2294.18 346.185 Q2296.42 343.662 2297.3 341.926 Q2298.21 340.167 2298.21 338.477 Q2298.21 335.722 2296.26 333.986 Q2294.34 332.25 2291.24 332.25 Q2289.04 332.25 2286.59 333.014 Q2284.16 333.778 2281.38 335.329 L2281.38 330.606 Q2284.2 329.472 2286.66 328.893 Q2289.11 328.315 2291.15 328.315 Q2296.52 328.315 2299.71 331 Q2302.91 333.685 2302.91 338.176 Q2302.91 340.305 2302.1 342.227 Q2301.31 344.125 2299.2 346.717 Q2298.62 347.389 2295.52 350.606 Q2292.42 353.801 2286.77 359.565 Z\" fill=\"#000000\" fill-rule=\"evenodd\" fill-opacity=\"1\" /><polyline clip-path=\"url(#clip430)\" style=\"stroke:#c271d2; stroke-width:4; stroke-opacity:1; fill:none\" points=\"\n",
       "  1673.94,406.7 1816.69,406.7 \n",
       "  \"/>\n",
       "<path clip-path=\"url(#clip430)\" d=\"M 0 0 M1864.51 409.952 L1864.51 412.035 L1844.92 412.035 Q1845.2 416.433 1847.56 418.748 Q1849.95 421.04 1854.18 421.04 Q1856.64 421.04 1858.93 420.438 Q1861.24 419.836 1863.51 418.633 L1863.51 422.66 Q1861.22 423.632 1858.81 424.142 Q1856.4 424.651 1853.93 424.651 Q1847.72 424.651 1844.09 421.04 Q1840.48 417.429 1840.48 411.271 Q1840.48 404.906 1843.9 401.179 Q1847.35 397.429 1853.19 397.429 Q1858.42 397.429 1861.45 400.809 Q1864.51 404.165 1864.51 409.952 M1860.25 408.702 Q1860.2 405.207 1858.28 403.123 Q1856.38 401.04 1853.23 401.04 Q1849.67 401.04 1847.52 403.054 Q1845.39 405.068 1845.06 408.725 L1860.25 408.702 Z\" fill=\"#000000\" fill-rule=\"evenodd\" fill-opacity=\"1\" /><path clip-path=\"url(#clip430)\" d=\"M 0 0 M1889.69 398.054 L1880.32 410.67 L1890.18 423.98 L1885.15 423.98 L1877.61 413.795 L1870.06 423.98 L1865.04 423.98 L1875.11 410.415 L1865.89 398.054 L1870.92 398.054 L1877.79 407.29 L1884.67 398.054 L1889.69 398.054 Z\" fill=\"#000000\" fill-rule=\"evenodd\" fill-opacity=\"1\" /><path clip-path=\"url(#clip430)\" d=\"M 0 0 M1898.76 420.091 L1898.76 433.841 L1894.48 433.841 L1894.48 398.054 L1898.76 398.054 L1898.76 401.989 Q1900.11 399.674 1902.14 398.563 Q1904.2 397.429 1907.05 397.429 Q1911.77 397.429 1914.71 401.179 Q1917.68 404.929 1917.68 411.04 Q1917.68 417.151 1914.71 420.901 Q1911.77 424.651 1907.05 424.651 Q1904.2 424.651 1902.14 423.54 Q1900.11 422.406 1898.76 420.091 M1913.26 411.04 Q1913.26 406.341 1911.31 403.679 Q1909.39 400.994 1906.01 400.994 Q1902.63 400.994 1900.69 403.679 Q1898.76 406.341 1898.76 411.04 Q1898.76 415.739 1900.69 418.424 Q1902.63 421.086 1906.01 421.086 Q1909.39 421.086 1911.31 418.424 Q1913.26 415.739 1913.26 411.04 Z\" fill=\"#000000\" fill-rule=\"evenodd\" fill-opacity=\"1\" /><path clip-path=\"url(#clip430)\" d=\"M 0 0 M1933.93 410.947 Q1928.76 410.947 1926.77 412.128 Q1924.78 413.308 1924.78 416.156 Q1924.78 418.424 1926.26 419.767 Q1927.77 421.086 1930.34 421.086 Q1933.88 421.086 1936.01 418.586 Q1938.16 416.063 1938.16 411.896 L1938.16 410.947 L1933.93 410.947 M1942.42 409.188 L1942.42 423.98 L1938.16 423.98 L1938.16 420.045 Q1936.7 422.406 1934.53 423.54 Q1932.35 424.651 1929.2 424.651 Q1925.22 424.651 1922.86 422.429 Q1920.52 420.183 1920.52 416.433 Q1920.52 412.058 1923.44 409.836 Q1926.38 407.614 1932.19 407.614 L1938.16 407.614 L1938.16 407.197 Q1938.16 404.258 1936.22 402.66 Q1934.3 401.04 1930.8 401.04 Q1928.58 401.04 1926.47 401.572 Q1924.37 402.105 1922.42 403.17 L1922.42 399.234 Q1924.76 398.332 1926.96 397.892 Q1929.16 397.429 1931.24 397.429 Q1936.87 397.429 1939.64 400.346 Q1942.42 403.262 1942.42 409.188 Z\" fill=\"#000000\" fill-rule=\"evenodd\" fill-opacity=\"1\" /><path clip-path=\"url(#clip430)\" d=\"M 0 0 M1968.44 408.332 L1968.44 423.98 L1964.18 423.98 L1964.18 408.471 Q1964.18 404.79 1962.75 402.961 Q1961.31 401.133 1958.44 401.133 Q1954.99 401.133 1953 403.332 Q1951.01 405.531 1951.01 409.327 L1951.01 423.98 L1946.73 423.98 L1946.73 398.054 L1951.01 398.054 L1951.01 402.082 Q1952.54 399.744 1954.6 398.586 Q1956.68 397.429 1959.39 397.429 Q1963.86 397.429 1966.15 400.207 Q1968.44 402.961 1968.44 408.332 Z\" fill=\"#000000\" fill-rule=\"evenodd\" fill-opacity=\"1\" /><path clip-path=\"url(#clip430)\" d=\"M 0 0 M1989.44 398.818 L1989.44 402.846 Q1987.63 401.92 1985.69 401.457 Q1983.74 400.994 1981.66 400.994 Q1978.49 400.994 1976.89 401.966 Q1975.32 402.938 1975.32 404.883 Q1975.32 406.364 1976.45 407.221 Q1977.58 408.054 1981.01 408.818 L1982.47 409.142 Q1987.01 410.114 1988.9 411.896 Q1990.82 413.656 1990.82 416.827 Q1990.82 420.438 1987.95 422.545 Q1985.11 424.651 1980.11 424.651 Q1978.02 424.651 1975.76 424.234 Q1973.51 423.841 1971.01 423.031 L1971.01 418.633 Q1973.37 419.859 1975.66 420.484 Q1977.95 421.086 1980.2 421.086 Q1983.21 421.086 1984.83 420.068 Q1986.45 419.026 1986.45 417.151 Q1986.45 415.415 1985.27 414.489 Q1984.11 413.563 1980.15 412.707 L1978.67 412.359 Q1974.71 411.526 1972.95 409.813 Q1971.2 408.077 1971.2 405.068 Q1971.2 401.41 1973.79 399.42 Q1976.38 397.429 1981.15 397.429 Q1983.51 397.429 1985.59 397.776 Q1987.68 398.123 1989.44 398.818 Z\" fill=\"#000000\" fill-rule=\"evenodd\" fill-opacity=\"1\" /><path clip-path=\"url(#clip430)\" d=\"M 0 0 M1995.29 398.054 L1999.55 398.054 L1999.55 423.98 L1995.29 423.98 L1995.29 398.054 M1995.29 387.961 L1999.55 387.961 L1999.55 393.355 L1995.29 393.355 L1995.29 387.961 Z\" fill=\"#000000\" fill-rule=\"evenodd\" fill-opacity=\"1\" /><path clip-path=\"url(#clip430)\" d=\"M 0 0 M2014.07 401.04 Q2010.64 401.04 2008.65 403.725 Q2006.66 406.387 2006.66 411.04 Q2006.66 415.693 2008.63 418.378 Q2010.62 421.04 2014.07 421.04 Q2017.47 421.04 2019.46 418.355 Q2021.45 415.67 2021.45 411.04 Q2021.45 406.434 2019.46 403.748 Q2017.47 401.04 2014.07 401.04 M2014.07 397.429 Q2019.62 397.429 2022.79 401.04 Q2025.96 404.651 2025.96 411.04 Q2025.96 417.406 2022.79 421.04 Q2019.62 424.651 2014.07 424.651 Q2008.49 424.651 2005.32 421.04 Q2002.17 417.406 2002.17 411.04 Q2002.17 404.651 2005.32 401.04 Q2008.49 397.429 2014.07 397.429 Z\" fill=\"#000000\" fill-rule=\"evenodd\" fill-opacity=\"1\" /><path clip-path=\"url(#clip430)\" d=\"M 0 0 M2051.98 408.332 L2051.98 423.98 L2047.72 423.98 L2047.72 408.471 Q2047.72 404.79 2046.29 402.961 Q2044.85 401.133 2041.98 401.133 Q2038.53 401.133 2036.54 403.332 Q2034.55 405.531 2034.55 409.327 L2034.55 423.98 L2030.27 423.98 L2030.27 398.054 L2034.55 398.054 L2034.55 402.082 Q2036.08 399.744 2038.14 398.586 Q2040.22 397.429 2042.93 397.429 Q2047.4 397.429 2049.69 400.207 Q2051.98 402.961 2051.98 408.332 Z\" fill=\"#000000\" fill-rule=\"evenodd\" fill-opacity=\"1\" /><path clip-path=\"url(#clip430)\" d=\"M 0 0 M2075.73 390.693 L2075.73 398.054 L2084.5 398.054 L2084.5 401.364 L2075.73 401.364 L2075.73 415.438 Q2075.73 418.609 2076.59 419.512 Q2077.47 420.415 2080.13 420.415 L2084.5 420.415 L2084.5 423.98 L2080.13 423.98 Q2075.2 423.98 2073.32 422.151 Q2071.45 420.299 2071.45 415.438 L2071.45 401.364 L2068.32 401.364 L2068.32 398.054 L2071.45 398.054 L2071.45 390.693 L2075.73 390.693 Z\" fill=\"#000000\" fill-rule=\"evenodd\" fill-opacity=\"1\" /><path clip-path=\"url(#clip430)\" d=\"M 0 0 M2099.02 401.04 Q2095.59 401.04 2093.6 403.725 Q2091.61 406.387 2091.61 411.04 Q2091.61 415.693 2093.58 418.378 Q2095.57 421.04 2099.02 421.04 Q2102.42 421.04 2104.41 418.355 Q2106.4 415.67 2106.4 411.04 Q2106.4 406.434 2104.41 403.748 Q2102.42 401.04 2099.02 401.04 M2099.02 397.429 Q2104.57 397.429 2107.75 401.04 Q2110.92 404.651 2110.92 411.04 Q2110.92 417.406 2107.75 421.04 Q2104.57 424.651 2099.02 424.651 Q2093.44 424.651 2090.27 421.04 Q2087.12 417.406 2087.12 411.04 Q2087.12 404.651 2090.27 401.04 Q2093.44 397.429 2099.02 397.429 Z\" fill=\"#000000\" fill-rule=\"evenodd\" fill-opacity=\"1\" /><path clip-path=\"url(#clip430)\" d=\"M 0 0 M2140.5 401.04 Q2137.07 401.04 2135.08 403.725 Q2133.09 406.387 2133.09 411.04 Q2133.09 415.693 2135.06 418.378 Q2137.05 421.04 2140.5 421.04 Q2143.9 421.04 2145.89 418.355 Q2147.88 415.67 2147.88 411.04 Q2147.88 406.434 2145.89 403.748 Q2143.9 401.04 2140.5 401.04 M2140.5 397.429 Q2146.06 397.429 2149.23 401.04 Q2152.4 404.651 2152.4 411.04 Q2152.4 417.406 2149.23 421.04 Q2146.06 424.651 2140.5 424.651 Q2134.92 424.651 2131.75 421.04 Q2128.6 417.406 2128.6 411.04 Q2128.6 404.651 2131.75 401.04 Q2134.92 397.429 2140.5 397.429 Z\" fill=\"#000000\" fill-rule=\"evenodd\" fill-opacity=\"1\" /><path clip-path=\"url(#clip430)\" d=\"M 0 0 M2171.89 402.035 Q2171.17 401.619 2170.31 401.434 Q2169.48 401.225 2168.46 401.225 Q2164.85 401.225 2162.91 403.586 Q2160.99 405.924 2160.99 410.322 L2160.99 423.98 L2156.7 423.98 L2156.7 398.054 L2160.99 398.054 L2160.99 402.082 Q2162.33 399.721 2164.48 398.586 Q2166.63 397.429 2169.71 397.429 Q2170.15 397.429 2170.68 397.498 Q2171.22 397.545 2171.87 397.66 L2171.89 402.035 Z\" fill=\"#000000\" fill-rule=\"evenodd\" fill-opacity=\"1\" /><path clip-path=\"url(#clip430)\" d=\"M 0 0 M2192.58 401.989 L2192.58 387.961 L2196.84 387.961 L2196.84 423.98 L2192.58 423.98 L2192.58 420.091 Q2191.24 422.406 2189.18 423.54 Q2187.14 424.651 2184.27 424.651 Q2179.57 424.651 2176.61 420.901 Q2173.67 417.151 2173.67 411.04 Q2173.67 404.929 2176.61 401.179 Q2179.57 397.429 2184.27 397.429 Q2187.14 397.429 2189.18 398.563 Q2191.24 399.674 2192.58 401.989 M2178.07 411.04 Q2178.07 415.739 2179.99 418.424 Q2181.93 421.086 2185.31 421.086 Q2188.69 421.086 2190.64 418.424 Q2192.58 415.739 2192.58 411.04 Q2192.58 406.341 2190.64 403.679 Q2188.69 400.994 2185.31 400.994 Q2181.93 400.994 2179.99 403.679 Q2178.07 406.341 2178.07 411.04 Z\" fill=\"#000000\" fill-rule=\"evenodd\" fill-opacity=\"1\" /><path clip-path=\"url(#clip430)\" d=\"M 0 0 M2223.49 409.952 L2223.49 412.035 L2203.9 412.035 Q2204.18 416.433 2206.54 418.748 Q2208.93 421.04 2213.16 421.04 Q2215.62 421.04 2217.91 420.438 Q2220.22 419.836 2222.49 418.633 L2222.49 422.66 Q2220.2 423.632 2217.79 424.142 Q2215.38 424.651 2212.91 424.651 Q2206.7 424.651 2203.07 421.04 Q2199.46 417.429 2199.46 411.271 Q2199.46 404.906 2202.88 401.179 Q2206.33 397.429 2212.17 397.429 Q2217.4 397.429 2220.43 400.809 Q2223.49 404.165 2223.49 409.952 M2219.23 408.702 Q2219.18 405.207 2217.26 403.123 Q2215.36 401.04 2212.21 401.04 Q2208.65 401.04 2206.49 403.054 Q2204.37 405.068 2204.04 408.725 L2219.23 408.702 Z\" fill=\"#000000\" fill-rule=\"evenodd\" fill-opacity=\"1\" /><path clip-path=\"url(#clip430)\" d=\"M 0 0 M2242.98 402.035 Q2242.26 401.619 2241.4 401.434 Q2240.57 401.225 2239.55 401.225 Q2235.94 401.225 2233.99 403.586 Q2232.07 405.924 2232.07 410.322 L2232.07 423.98 L2227.79 423.98 L2227.79 398.054 L2232.07 398.054 L2232.07 402.082 Q2233.42 399.721 2235.57 398.586 Q2237.72 397.429 2240.8 397.429 Q2241.24 397.429 2241.77 397.498 Q2242.3 397.545 2242.95 397.66 L2242.98 402.035 Z\" fill=\"#000000\" fill-rule=\"evenodd\" fill-opacity=\"1\" /><path clip-path=\"url(#clip430)\" d=\"M 0 0 M2248 402.452 L2277.67 402.452 L2277.67 406.341 L2248 406.341 L2248 402.452 M2248 411.896 L2277.67 411.896 L2277.67 415.832 L2248 415.832 L2248 411.896 Z\" fill=\"#000000\" fill-rule=\"evenodd\" fill-opacity=\"1\" /><path clip-path=\"url(#clip430)\" d=\"M 0 0 M2296.91 405.346 Q2300.27 406.063 2302.14 408.332 Q2304.04 410.6 2304.04 413.933 Q2304.04 419.049 2300.52 421.85 Q2297 424.651 2290.52 424.651 Q2288.35 424.651 2286.03 424.211 Q2283.74 423.795 2281.29 422.938 L2281.29 418.424 Q2283.23 419.558 2285.55 420.137 Q2287.86 420.716 2290.38 420.716 Q2294.78 420.716 2297.07 418.98 Q2299.39 417.244 2299.39 413.933 Q2299.39 410.878 2297.23 409.165 Q2295.11 407.429 2291.29 407.429 L2287.26 407.429 L2287.26 403.586 L2291.47 403.586 Q2294.92 403.586 2296.75 402.221 Q2298.58 400.832 2298.58 398.239 Q2298.58 395.577 2296.68 394.165 Q2294.8 392.73 2291.29 392.73 Q2289.36 392.73 2287.17 393.147 Q2284.97 393.563 2282.33 394.443 L2282.33 390.276 Q2284.99 389.535 2287.3 389.165 Q2289.64 388.795 2291.7 388.795 Q2297.03 388.795 2300.13 391.225 Q2303.23 393.633 2303.23 397.753 Q2303.23 400.623 2301.59 402.614 Q2299.94 404.582 2296.91 405.346 Z\" fill=\"#000000\" fill-rule=\"evenodd\" fill-opacity=\"1\" /><polyline clip-path=\"url(#clip430)\" style=\"stroke:#ac8d18; stroke-width:4; stroke-opacity:1; fill:none\" points=\"\n",
       "  1673.94,467.18 1816.69,467.18 \n",
       "  \"/>\n",
       "<path clip-path=\"url(#clip430)\" d=\"M 0 0 M1864.51 470.432 L1864.51 472.515 L1844.92 472.515 Q1845.2 476.913 1847.56 479.228 Q1849.95 481.52 1854.18 481.52 Q1856.64 481.52 1858.93 480.918 Q1861.24 480.316 1863.51 479.113 L1863.51 483.14 Q1861.22 484.112 1858.81 484.622 Q1856.4 485.131 1853.93 485.131 Q1847.72 485.131 1844.09 481.52 Q1840.48 477.909 1840.48 471.751 Q1840.48 465.386 1843.9 461.659 Q1847.35 457.909 1853.19 457.909 Q1858.42 457.909 1861.45 461.289 Q1864.51 464.645 1864.51 470.432 M1860.25 469.182 Q1860.2 465.687 1858.28 463.603 Q1856.38 461.52 1853.23 461.52 Q1849.67 461.52 1847.52 463.534 Q1845.39 465.548 1845.06 469.205 L1860.25 469.182 Z\" fill=\"#000000\" fill-rule=\"evenodd\" fill-opacity=\"1\" /><path clip-path=\"url(#clip430)\" d=\"M 0 0 M1889.69 458.534 L1880.32 471.15 L1890.18 484.46 L1885.15 484.46 L1877.61 474.275 L1870.06 484.46 L1865.04 484.46 L1875.11 470.895 L1865.89 458.534 L1870.92 458.534 L1877.79 467.77 L1884.67 458.534 L1889.69 458.534 Z\" fill=\"#000000\" fill-rule=\"evenodd\" fill-opacity=\"1\" /><path clip-path=\"url(#clip430)\" d=\"M 0 0 M1898.76 480.571 L1898.76 494.321 L1894.48 494.321 L1894.48 458.534 L1898.76 458.534 L1898.76 462.469 Q1900.11 460.154 1902.14 459.043 Q1904.2 457.909 1907.05 457.909 Q1911.77 457.909 1914.71 461.659 Q1917.68 465.409 1917.68 471.52 Q1917.68 477.631 1914.71 481.381 Q1911.77 485.131 1907.05 485.131 Q1904.2 485.131 1902.14 484.02 Q1900.11 482.886 1898.76 480.571 M1913.26 471.52 Q1913.26 466.821 1911.31 464.159 Q1909.39 461.474 1906.01 461.474 Q1902.63 461.474 1900.69 464.159 Q1898.76 466.821 1898.76 471.52 Q1898.76 476.219 1900.69 478.904 Q1902.63 481.566 1906.01 481.566 Q1909.39 481.566 1911.31 478.904 Q1913.26 476.219 1913.26 471.52 Z\" fill=\"#000000\" fill-rule=\"evenodd\" fill-opacity=\"1\" /><path clip-path=\"url(#clip430)\" d=\"M 0 0 M1933.93 471.427 Q1928.76 471.427 1926.77 472.608 Q1924.78 473.788 1924.78 476.636 Q1924.78 478.904 1926.26 480.247 Q1927.77 481.566 1930.34 481.566 Q1933.88 481.566 1936.01 479.066 Q1938.16 476.543 1938.16 472.376 L1938.16 471.427 L1933.93 471.427 M1942.42 469.668 L1942.42 484.46 L1938.16 484.46 L1938.16 480.525 Q1936.7 482.886 1934.53 484.02 Q1932.35 485.131 1929.2 485.131 Q1925.22 485.131 1922.86 482.909 Q1920.52 480.663 1920.52 476.913 Q1920.52 472.538 1923.44 470.316 Q1926.38 468.094 1932.19 468.094 L1938.16 468.094 L1938.16 467.677 Q1938.16 464.738 1936.22 463.14 Q1934.3 461.52 1930.8 461.52 Q1928.58 461.52 1926.47 462.052 Q1924.37 462.585 1922.42 463.65 L1922.42 459.714 Q1924.76 458.812 1926.96 458.372 Q1929.16 457.909 1931.24 457.909 Q1936.87 457.909 1939.64 460.826 Q1942.42 463.742 1942.42 469.668 Z\" fill=\"#000000\" fill-rule=\"evenodd\" fill-opacity=\"1\" /><path clip-path=\"url(#clip430)\" d=\"M 0 0 M1968.44 468.812 L1968.44 484.46 L1964.18 484.46 L1964.18 468.951 Q1964.18 465.27 1962.75 463.441 Q1961.31 461.613 1958.44 461.613 Q1954.99 461.613 1953 463.812 Q1951.01 466.011 1951.01 469.807 L1951.01 484.46 L1946.73 484.46 L1946.73 458.534 L1951.01 458.534 L1951.01 462.562 Q1952.54 460.224 1954.6 459.066 Q1956.68 457.909 1959.39 457.909 Q1963.86 457.909 1966.15 460.687 Q1968.44 463.441 1968.44 468.812 Z\" fill=\"#000000\" fill-rule=\"evenodd\" fill-opacity=\"1\" /><path clip-path=\"url(#clip430)\" d=\"M 0 0 M1989.44 459.298 L1989.44 463.326 Q1987.63 462.4 1985.69 461.937 Q1983.74 461.474 1981.66 461.474 Q1978.49 461.474 1976.89 462.446 Q1975.32 463.418 1975.32 465.363 Q1975.32 466.844 1976.45 467.701 Q1977.58 468.534 1981.01 469.298 L1982.47 469.622 Q1987.01 470.594 1988.9 472.376 Q1990.82 474.136 1990.82 477.307 Q1990.82 480.918 1987.95 483.025 Q1985.11 485.131 1980.11 485.131 Q1978.02 485.131 1975.76 484.714 Q1973.51 484.321 1971.01 483.511 L1971.01 479.113 Q1973.37 480.339 1975.66 480.964 Q1977.95 481.566 1980.2 481.566 Q1983.21 481.566 1984.83 480.548 Q1986.45 479.506 1986.45 477.631 Q1986.45 475.895 1985.27 474.969 Q1984.11 474.043 1980.15 473.187 L1978.67 472.839 Q1974.71 472.006 1972.95 470.293 Q1971.2 468.557 1971.2 465.548 Q1971.2 461.89 1973.79 459.9 Q1976.38 457.909 1981.15 457.909 Q1983.51 457.909 1985.59 458.256 Q1987.68 458.603 1989.44 459.298 Z\" fill=\"#000000\" fill-rule=\"evenodd\" fill-opacity=\"1\" /><path clip-path=\"url(#clip430)\" d=\"M 0 0 M1995.29 458.534 L1999.55 458.534 L1999.55 484.46 L1995.29 484.46 L1995.29 458.534 M1995.29 448.441 L1999.55 448.441 L1999.55 453.835 L1995.29 453.835 L1995.29 448.441 Z\" fill=\"#000000\" fill-rule=\"evenodd\" fill-opacity=\"1\" /><path clip-path=\"url(#clip430)\" d=\"M 0 0 M2014.07 461.52 Q2010.64 461.52 2008.65 464.205 Q2006.66 466.867 2006.66 471.52 Q2006.66 476.173 2008.63 478.858 Q2010.62 481.52 2014.07 481.52 Q2017.47 481.52 2019.46 478.835 Q2021.45 476.15 2021.45 471.52 Q2021.45 466.914 2019.46 464.228 Q2017.47 461.52 2014.07 461.52 M2014.07 457.909 Q2019.62 457.909 2022.79 461.52 Q2025.96 465.131 2025.96 471.52 Q2025.96 477.886 2022.79 481.52 Q2019.62 485.131 2014.07 485.131 Q2008.49 485.131 2005.32 481.52 Q2002.17 477.886 2002.17 471.52 Q2002.17 465.131 2005.32 461.52 Q2008.49 457.909 2014.07 457.909 Z\" fill=\"#000000\" fill-rule=\"evenodd\" fill-opacity=\"1\" /><path clip-path=\"url(#clip430)\" d=\"M 0 0 M2051.98 468.812 L2051.98 484.46 L2047.72 484.46 L2047.72 468.951 Q2047.72 465.27 2046.29 463.441 Q2044.85 461.613 2041.98 461.613 Q2038.53 461.613 2036.54 463.812 Q2034.55 466.011 2034.55 469.807 L2034.55 484.46 L2030.27 484.46 L2030.27 458.534 L2034.55 458.534 L2034.55 462.562 Q2036.08 460.224 2038.14 459.066 Q2040.22 457.909 2042.93 457.909 Q2047.4 457.909 2049.69 460.687 Q2051.98 463.441 2051.98 468.812 Z\" fill=\"#000000\" fill-rule=\"evenodd\" fill-opacity=\"1\" /><path clip-path=\"url(#clip430)\" d=\"M 0 0 M2075.73 451.173 L2075.73 458.534 L2084.5 458.534 L2084.5 461.844 L2075.73 461.844 L2075.73 475.918 Q2075.73 479.089 2076.59 479.992 Q2077.47 480.895 2080.13 480.895 L2084.5 480.895 L2084.5 484.46 L2080.13 484.46 Q2075.2 484.46 2073.32 482.631 Q2071.45 480.779 2071.45 475.918 L2071.45 461.844 L2068.32 461.844 L2068.32 458.534 L2071.45 458.534 L2071.45 451.173 L2075.73 451.173 Z\" fill=\"#000000\" fill-rule=\"evenodd\" fill-opacity=\"1\" /><path clip-path=\"url(#clip430)\" d=\"M 0 0 M2099.02 461.52 Q2095.59 461.52 2093.6 464.205 Q2091.61 466.867 2091.61 471.52 Q2091.61 476.173 2093.58 478.858 Q2095.57 481.52 2099.02 481.52 Q2102.42 481.52 2104.41 478.835 Q2106.4 476.15 2106.4 471.52 Q2106.4 466.914 2104.41 464.228 Q2102.42 461.52 2099.02 461.52 M2099.02 457.909 Q2104.57 457.909 2107.75 461.52 Q2110.92 465.131 2110.92 471.52 Q2110.92 477.886 2107.75 481.52 Q2104.57 485.131 2099.02 485.131 Q2093.44 485.131 2090.27 481.52 Q2087.12 477.886 2087.12 471.52 Q2087.12 465.131 2090.27 461.52 Q2093.44 457.909 2099.02 457.909 Z\" fill=\"#000000\" fill-rule=\"evenodd\" fill-opacity=\"1\" /><path clip-path=\"url(#clip430)\" d=\"M 0 0 M2140.5 461.52 Q2137.07 461.52 2135.08 464.205 Q2133.09 466.867 2133.09 471.52 Q2133.09 476.173 2135.06 478.858 Q2137.05 481.52 2140.5 481.52 Q2143.9 481.52 2145.89 478.835 Q2147.88 476.15 2147.88 471.52 Q2147.88 466.914 2145.89 464.228 Q2143.9 461.52 2140.5 461.52 M2140.5 457.909 Q2146.06 457.909 2149.23 461.52 Q2152.4 465.131 2152.4 471.52 Q2152.4 477.886 2149.23 481.52 Q2146.06 485.131 2140.5 485.131 Q2134.92 485.131 2131.75 481.52 Q2128.6 477.886 2128.6 471.52 Q2128.6 465.131 2131.75 461.52 Q2134.92 457.909 2140.5 457.909 Z\" fill=\"#000000\" fill-rule=\"evenodd\" fill-opacity=\"1\" /><path clip-path=\"url(#clip430)\" d=\"M 0 0 M2171.89 462.515 Q2171.17 462.099 2170.31 461.914 Q2169.48 461.705 2168.46 461.705 Q2164.85 461.705 2162.91 464.066 Q2160.99 466.404 2160.99 470.802 L2160.99 484.46 L2156.7 484.46 L2156.7 458.534 L2160.99 458.534 L2160.99 462.562 Q2162.33 460.201 2164.48 459.066 Q2166.63 457.909 2169.71 457.909 Q2170.15 457.909 2170.68 457.978 Q2171.22 458.025 2171.87 458.14 L2171.89 462.515 Z\" fill=\"#000000\" fill-rule=\"evenodd\" fill-opacity=\"1\" /><path clip-path=\"url(#clip430)\" d=\"M 0 0 M2192.58 462.469 L2192.58 448.441 L2196.84 448.441 L2196.84 484.46 L2192.58 484.46 L2192.58 480.571 Q2191.24 482.886 2189.18 484.02 Q2187.14 485.131 2184.27 485.131 Q2179.57 485.131 2176.61 481.381 Q2173.67 477.631 2173.67 471.52 Q2173.67 465.409 2176.61 461.659 Q2179.57 457.909 2184.27 457.909 Q2187.14 457.909 2189.18 459.043 Q2191.24 460.154 2192.58 462.469 M2178.07 471.52 Q2178.07 476.219 2179.99 478.904 Q2181.93 481.566 2185.31 481.566 Q2188.69 481.566 2190.64 478.904 Q2192.58 476.219 2192.58 471.52 Q2192.58 466.821 2190.64 464.159 Q2188.69 461.474 2185.31 461.474 Q2181.93 461.474 2179.99 464.159 Q2178.07 466.821 2178.07 471.52 Z\" fill=\"#000000\" fill-rule=\"evenodd\" fill-opacity=\"1\" /><path clip-path=\"url(#clip430)\" d=\"M 0 0 M2223.49 470.432 L2223.49 472.515 L2203.9 472.515 Q2204.18 476.913 2206.54 479.228 Q2208.93 481.52 2213.16 481.52 Q2215.62 481.52 2217.91 480.918 Q2220.22 480.316 2222.49 479.113 L2222.49 483.14 Q2220.2 484.112 2217.79 484.622 Q2215.38 485.131 2212.91 485.131 Q2206.7 485.131 2203.07 481.52 Q2199.46 477.909 2199.46 471.751 Q2199.46 465.386 2202.88 461.659 Q2206.33 457.909 2212.17 457.909 Q2217.4 457.909 2220.43 461.289 Q2223.49 464.645 2223.49 470.432 M2219.23 469.182 Q2219.18 465.687 2217.26 463.603 Q2215.36 461.52 2212.21 461.52 Q2208.65 461.52 2206.49 463.534 Q2204.37 465.548 2204.04 469.205 L2219.23 469.182 Z\" fill=\"#000000\" fill-rule=\"evenodd\" fill-opacity=\"1\" /><path clip-path=\"url(#clip430)\" d=\"M 0 0 M2242.98 462.515 Q2242.26 462.099 2241.4 461.914 Q2240.57 461.705 2239.55 461.705 Q2235.94 461.705 2233.99 464.066 Q2232.07 466.404 2232.07 470.802 L2232.07 484.46 L2227.79 484.46 L2227.79 458.534 L2232.07 458.534 L2232.07 462.562 Q2233.42 460.201 2235.57 459.066 Q2237.72 457.909 2240.8 457.909 Q2241.24 457.909 2241.77 457.978 Q2242.3 458.025 2242.95 458.14 L2242.98 462.515 Z\" fill=\"#000000\" fill-rule=\"evenodd\" fill-opacity=\"1\" /><path clip-path=\"url(#clip430)\" d=\"M 0 0 M2248 462.932 L2277.67 462.932 L2277.67 466.821 L2248 466.821 L2248 462.932 M2248 472.376 L2277.67 472.376 L2277.67 476.312 L2248 476.312 L2248 472.376 Z\" fill=\"#000000\" fill-rule=\"evenodd\" fill-opacity=\"1\" /><path clip-path=\"url(#clip430)\" d=\"M 0 0 M2295.59 453.974 L2283.79 472.423 L2295.59 472.423 L2295.59 453.974 M2294.36 449.9 L2300.24 449.9 L2300.24 472.423 L2305.17 472.423 L2305.17 476.312 L2300.24 476.312 L2300.24 484.46 L2295.59 484.46 L2295.59 476.312 L2279.99 476.312 L2279.99 471.798 L2294.36 449.9 Z\" fill=\"#000000\" fill-rule=\"evenodd\" fill-opacity=\"1\" /><polyline clip-path=\"url(#clip430)\" style=\"stroke:#00a9ad; stroke-width:4; stroke-opacity:1; fill:none\" points=\"\n",
       "  1673.94,527.66 1816.69,527.66 \n",
       "  \"/>\n",
       "<circle clip-path=\"url(#clip430)\" cx=\"1745.32\" cy=\"527.66\" r=\"23\" fill=\"#00a9ad\" fill-rule=\"evenodd\" fill-opacity=\"1\" stroke=\"#000000\" stroke-opacity=\"1\" stroke-width=\"5.12\"/>\n",
       "<path clip-path=\"url(#clip430)\" d=\"M 0 0 M1840.48 510.38 L1847.45 510.38 L1856.27 533.898 L1865.13 510.38 L1872.1 510.38 L1872.1 544.94 L1867.54 544.94 L1867.54 514.593 L1858.63 538.296 L1853.93 538.296 L1845.02 514.593 L1845.02 544.94 L1840.48 544.94 L1840.48 510.38 Z\" fill=\"#000000\" fill-rule=\"evenodd\" fill-opacity=\"1\" /><path clip-path=\"url(#clip430)\" d=\"M 0 0 M1902.63 513.042 L1902.63 517.972 Q1900.27 515.773 1897.58 514.685 Q1894.92 513.597 1891.91 513.597 Q1885.99 513.597 1882.84 517.232 Q1879.69 520.843 1879.69 527.694 Q1879.69 534.523 1882.84 538.157 Q1885.99 541.768 1891.91 541.768 Q1894.92 541.768 1897.58 540.68 Q1900.27 539.593 1902.63 537.393 L1902.63 542.278 Q1900.18 543.944 1897.42 544.778 Q1894.69 545.611 1891.64 545.611 Q1883.79 545.611 1879.27 540.819 Q1874.76 536.005 1874.76 527.694 Q1874.76 519.361 1879.27 514.57 Q1883.79 509.755 1891.64 509.755 Q1894.74 509.755 1897.47 510.588 Q1900.22 511.398 1902.63 513.042 Z\" fill=\"#000000\" fill-rule=\"evenodd\" fill-opacity=\"1\" /><path clip-path=\"url(#clip430)\" d=\"M 0 0 M1922.82 510.38 L1941.17 510.38 L1941.17 514.315 L1927.1 514.315 L1927.1 522.787 Q1928.12 522.44 1929.14 522.278 Q1930.15 522.093 1931.17 522.093 Q1936.96 522.093 1940.34 525.264 Q1943.72 528.435 1943.72 533.852 Q1943.72 539.43 1940.25 542.532 Q1936.77 545.611 1930.45 545.611 Q1928.28 545.611 1926.01 545.241 Q1923.76 544.87 1921.36 544.13 L1921.36 539.43 Q1923.44 540.565 1925.66 541.12 Q1927.89 541.676 1930.36 541.676 Q1934.37 541.676 1936.7 539.569 Q1939.04 537.463 1939.04 533.852 Q1939.04 530.241 1936.7 528.134 Q1934.37 526.028 1930.36 526.028 Q1928.49 526.028 1926.61 526.444 Q1924.76 526.861 1922.82 527.741 L1922.82 510.38 Z\" fill=\"#000000\" fill-rule=\"evenodd\" fill-opacity=\"1\" /><path clip-path=\"url(#clip430)\" d=\"M 0 0 M1958.79 513.458 Q1955.18 513.458 1953.35 517.023 Q1951.54 520.565 1951.54 527.694 Q1951.54 534.801 1953.35 538.366 Q1955.18 541.907 1958.79 541.907 Q1962.42 541.907 1964.23 538.366 Q1966.06 534.801 1966.06 527.694 Q1966.06 520.565 1964.23 517.023 Q1962.42 513.458 1958.79 513.458 M1958.79 509.755 Q1964.6 509.755 1967.65 514.361 Q1970.73 518.944 1970.73 527.694 Q1970.73 536.421 1967.65 541.028 Q1964.6 545.611 1958.79 545.611 Q1952.98 545.611 1949.9 541.028 Q1946.84 536.421 1946.84 527.694 Q1946.84 518.944 1949.9 514.361 Q1952.98 509.755 1958.79 509.755 Z\" fill=\"#000000\" fill-rule=\"evenodd\" fill-opacity=\"1\" /><path clip-path=\"url(#clip430)\" d=\"M 0 0 M1994.48 511.653 L1994.48 519.014 L2003.26 519.014 L2003.26 522.324 L1994.48 522.324 L1994.48 536.398 Q1994.48 539.569 1995.34 540.472 Q1996.22 541.375 1998.88 541.375 L2003.26 541.375 L2003.26 544.94 L1998.88 544.94 Q1993.95 544.94 1992.07 543.111 Q1990.2 541.259 1990.2 536.398 L1990.2 522.324 L1987.07 522.324 L1987.07 519.014 L1990.2 519.014 L1990.2 511.653 L1994.48 511.653 Z\" fill=\"#000000\" fill-rule=\"evenodd\" fill-opacity=\"1\" /><path clip-path=\"url(#clip430)\" d=\"M 0 0 M2022.75 522.995 Q2022.03 522.579 2021.17 522.394 Q2020.34 522.185 2019.32 522.185 Q2015.71 522.185 2013.76 524.546 Q2011.84 526.884 2011.84 531.282 L2011.84 544.94 L2007.56 544.94 L2007.56 519.014 L2011.84 519.014 L2011.84 523.042 Q2013.19 520.681 2015.34 519.546 Q2017.49 518.389 2020.57 518.389 Q2021.01 518.389 2021.54 518.458 Q2022.07 518.505 2022.72 518.62 L2022.75 522.995 Z\" fill=\"#000000\" fill-rule=\"evenodd\" fill-opacity=\"1\" /><path clip-path=\"url(#clip430)\" d=\"M 0 0 M2039 531.907 Q2033.83 531.907 2031.84 533.088 Q2029.85 534.268 2029.85 537.116 Q2029.85 539.384 2031.33 540.727 Q2032.84 542.046 2035.41 542.046 Q2038.95 542.046 2041.08 539.546 Q2043.23 537.023 2043.23 532.856 L2043.23 531.907 L2039 531.907 M2047.49 530.148 L2047.49 544.94 L2043.23 544.94 L2043.23 541.005 Q2041.77 543.366 2039.6 544.5 Q2037.42 545.611 2034.27 545.611 Q2030.29 545.611 2027.93 543.389 Q2025.59 541.143 2025.59 537.393 Q2025.59 533.018 2028.51 530.796 Q2031.45 528.574 2037.26 528.574 L2043.23 528.574 L2043.23 528.157 Q2043.23 525.218 2041.29 523.62 Q2039.37 522 2035.87 522 Q2033.65 522 2031.54 522.532 Q2029.44 523.065 2027.49 524.13 L2027.49 520.194 Q2029.83 519.292 2032.03 518.852 Q2034.23 518.389 2036.31 518.389 Q2041.94 518.389 2044.71 521.306 Q2047.49 524.222 2047.49 530.148 Z\" fill=\"#000000\" fill-rule=\"evenodd\" fill-opacity=\"1\" /><path clip-path=\"url(#clip430)\" d=\"M 0 0 M2051.96 519.014 L2056.22 519.014 L2056.22 545.403 Q2056.22 550.356 2054.32 552.579 Q2052.44 554.801 2048.25 554.801 L2046.63 554.801 L2046.63 551.19 L2047.77 551.19 Q2050.2 551.19 2051.08 550.055 Q2051.96 548.944 2051.96 545.403 L2051.96 519.014 M2051.96 508.921 L2056.22 508.921 L2056.22 514.315 L2051.96 514.315 L2051.96 508.921 Z\" fill=\"#000000\" fill-rule=\"evenodd\" fill-opacity=\"1\" /><path clip-path=\"url(#clip430)\" d=\"M 0 0 M2082.86 530.912 L2082.86 532.995 L2063.28 532.995 Q2063.56 537.393 2065.92 539.708 Q2068.3 542 2072.54 542 Q2074.99 542 2077.28 541.398 Q2079.6 540.796 2081.87 539.593 L2081.87 543.62 Q2079.57 544.592 2077.17 545.102 Q2074.76 545.611 2072.28 545.611 Q2066.08 545.611 2062.44 542 Q2058.83 538.389 2058.83 532.231 Q2058.83 525.866 2062.26 522.139 Q2065.71 518.389 2071.54 518.389 Q2076.77 518.389 2079.81 521.769 Q2082.86 525.125 2082.86 530.912 M2078.6 529.662 Q2078.56 526.167 2076.63 524.083 Q2074.74 522 2071.59 522 Q2068.02 522 2065.87 524.014 Q2063.74 526.028 2063.42 529.685 L2078.6 529.662 Z\" fill=\"#000000\" fill-rule=\"evenodd\" fill-opacity=\"1\" /><path clip-path=\"url(#clip430)\" d=\"M 0 0 M2105.99 520.009 L2105.99 523.991 Q2104.18 522.995 2102.35 522.509 Q2100.55 522 2098.69 522 Q2094.55 522 2092.26 524.639 Q2089.97 527.255 2089.97 532 Q2089.97 536.745 2092.26 539.384 Q2094.55 542 2098.69 542 Q2100.55 542 2102.35 541.514 Q2104.18 541.005 2105.99 540.009 L2105.99 543.944 Q2104.2 544.778 2102.28 545.194 Q2100.38 545.611 2098.23 545.611 Q2092.37 545.611 2088.93 541.93 Q2085.48 538.25 2085.48 532 Q2085.48 525.657 2088.95 522.023 Q2092.44 518.389 2098.51 518.389 Q2100.48 518.389 2102.35 518.806 Q2104.23 519.199 2105.99 520.009 Z\" fill=\"#000000\" fill-rule=\"evenodd\" fill-opacity=\"1\" /><path clip-path=\"url(#clip430)\" d=\"M 0 0 M2114.67 511.653 L2114.67 519.014 L2123.44 519.014 L2123.44 522.324 L2114.67 522.324 L2114.67 536.398 Q2114.67 539.569 2115.52 540.472 Q2116.4 541.375 2119.06 541.375 L2123.44 541.375 L2123.44 544.94 L2119.06 544.94 Q2114.13 544.94 2112.26 543.111 Q2110.38 541.259 2110.38 536.398 L2110.38 522.324 L2107.26 522.324 L2107.26 519.014 L2110.38 519.014 L2110.38 511.653 L2114.67 511.653 Z\" fill=\"#000000\" fill-rule=\"evenodd\" fill-opacity=\"1\" /><path clip-path=\"url(#clip430)\" d=\"M 0 0 M2137.95 522 Q2134.53 522 2132.54 524.685 Q2130.55 527.347 2130.55 532 Q2130.55 536.653 2132.51 539.338 Q2134.5 542 2137.95 542 Q2141.36 542 2143.35 539.315 Q2145.34 536.63 2145.34 532 Q2145.34 527.394 2143.35 524.708 Q2141.36 522 2137.95 522 M2137.95 518.389 Q2143.51 518.389 2146.68 522 Q2149.85 525.611 2149.85 532 Q2149.85 538.366 2146.68 542 Q2143.51 545.611 2137.95 545.611 Q2132.37 545.611 2129.2 542 Q2126.06 538.366 2126.06 532 Q2126.06 525.611 2129.2 522 Q2132.37 518.389 2137.95 518.389 Z\" fill=\"#000000\" fill-rule=\"evenodd\" fill-opacity=\"1\" /><path clip-path=\"url(#clip430)\" d=\"M 0 0 M2169.34 522.995 Q2168.62 522.579 2167.77 522.394 Q2166.93 522.185 2165.92 522.185 Q2162.31 522.185 2160.36 524.546 Q2158.44 526.884 2158.44 531.282 L2158.44 544.94 L2154.16 544.94 L2154.16 519.014 L2158.44 519.014 L2158.44 523.042 Q2159.78 520.681 2161.93 519.546 Q2164.09 518.389 2167.17 518.389 Q2167.61 518.389 2168.14 518.458 Q2168.67 518.505 2169.32 518.62 L2169.34 522.995 Z\" fill=\"#000000\" fill-rule=\"evenodd\" fill-opacity=\"1\" /><path clip-path=\"url(#clip430)\" d=\"M 0 0 M2173.81 519.014 L2178.07 519.014 L2178.07 544.94 L2173.81 544.94 L2173.81 519.014 M2173.81 508.921 L2178.07 508.921 L2178.07 514.315 L2173.81 514.315 L2173.81 508.921 Z\" fill=\"#000000\" fill-rule=\"evenodd\" fill-opacity=\"1\" /><path clip-path=\"url(#clip430)\" d=\"M 0 0 M2204.71 530.912 L2204.71 532.995 L2185.13 532.995 Q2185.41 537.393 2187.77 539.708 Q2190.15 542 2194.39 542 Q2196.84 542 2199.13 541.398 Q2201.45 540.796 2203.72 539.593 L2203.72 543.62 Q2201.43 544.592 2199.02 545.102 Q2196.61 545.611 2194.13 545.611 Q2187.93 545.611 2184.3 542 Q2180.68 538.389 2180.68 532.231 Q2180.68 525.866 2184.11 522.139 Q2187.56 518.389 2193.39 518.389 Q2198.62 518.389 2201.66 521.769 Q2204.71 525.125 2204.71 530.912 M2200.45 529.662 Q2200.41 526.167 2198.49 524.083 Q2196.59 522 2193.44 522 Q2189.87 522 2187.72 524.014 Q2185.59 526.028 2185.27 529.685 L2200.45 529.662 Z\" fill=\"#000000\" fill-rule=\"evenodd\" fill-opacity=\"1\" /><path clip-path=\"url(#clip430)\" d=\"M 0 0 M2225.71 519.778 L2225.71 523.806 Q2223.9 522.88 2221.96 522.417 Q2220.01 521.954 2217.93 521.954 Q2214.76 521.954 2213.16 522.926 Q2211.59 523.898 2211.59 525.843 Q2211.59 527.324 2212.72 528.181 Q2213.86 529.014 2217.28 529.778 L2218.74 530.102 Q2223.28 531.074 2225.18 532.856 Q2227.1 534.616 2227.1 537.787 Q2227.1 541.398 2224.23 543.505 Q2221.38 545.611 2216.38 545.611 Q2214.3 545.611 2212.03 545.194 Q2209.78 544.801 2207.28 543.991 L2207.28 539.593 Q2209.64 540.819 2211.93 541.444 Q2214.23 542.046 2216.47 542.046 Q2219.48 542.046 2221.1 541.028 Q2222.72 539.986 2222.72 538.111 Q2222.72 536.375 2221.54 535.449 Q2220.38 534.523 2216.43 533.667 L2214.94 533.319 Q2210.99 532.486 2209.23 530.773 Q2207.47 529.037 2207.47 526.028 Q2207.47 522.37 2210.06 520.38 Q2212.65 518.389 2217.42 518.389 Q2219.78 518.389 2221.86 518.736 Q2223.95 519.083 2225.71 519.778 Z\" fill=\"#000000\" fill-rule=\"evenodd\" fill-opacity=\"1\" /><polyline clip-path=\"url(#clip430)\" style=\"stroke:#ed5d92; stroke-width:4; stroke-opacity:1; fill:none\" points=\"\n",
       "  1673.94,588.14 1816.69,588.14 \n",
       "  \"/>\n",
       "<circle clip-path=\"url(#clip430)\" cx=\"1745.32\" cy=\"588.14\" r=\"23\" fill=\"#ed5d92\" fill-rule=\"evenodd\" fill-opacity=\"1\" stroke=\"#000000\" stroke-opacity=\"1\" stroke-width=\"5.12\"/>\n",
       "<path clip-path=\"url(#clip430)\" d=\"M 0 0 M1840.48 570.86 L1847.45 570.86 L1856.27 594.378 L1865.13 570.86 L1872.1 570.86 L1872.1 605.42 L1867.54 605.42 L1867.54 575.073 L1858.63 598.776 L1853.93 598.776 L1845.02 575.073 L1845.02 605.42 L1840.48 605.42 L1840.48 570.86 Z\" fill=\"#000000\" fill-rule=\"evenodd\" fill-opacity=\"1\" /><path clip-path=\"url(#clip430)\" d=\"M 0 0 M1902.63 573.522 L1902.63 578.452 Q1900.27 576.253 1897.58 575.165 Q1894.92 574.077 1891.91 574.077 Q1885.99 574.077 1882.84 577.712 Q1879.69 581.323 1879.69 588.174 Q1879.69 595.003 1882.84 598.637 Q1885.99 602.248 1891.91 602.248 Q1894.92 602.248 1897.58 601.16 Q1900.27 600.073 1902.63 597.873 L1902.63 602.758 Q1900.18 604.424 1897.42 605.258 Q1894.69 606.091 1891.64 606.091 Q1883.79 606.091 1879.27 601.299 Q1874.76 596.485 1874.76 588.174 Q1874.76 579.841 1879.27 575.05 Q1883.79 570.235 1891.64 570.235 Q1894.74 570.235 1897.47 571.068 Q1900.22 571.878 1902.63 573.522 Z\" fill=\"#000000\" fill-rule=\"evenodd\" fill-opacity=\"1\" /><path clip-path=\"url(#clip430)\" d=\"M 0 0 M1922.82 570.86 L1941.17 570.86 L1941.17 574.795 L1927.1 574.795 L1927.1 583.267 Q1928.12 582.92 1929.14 582.758 Q1930.15 582.573 1931.17 582.573 Q1936.96 582.573 1940.34 585.744 Q1943.72 588.915 1943.72 594.332 Q1943.72 599.91 1940.25 603.012 Q1936.77 606.091 1930.45 606.091 Q1928.28 606.091 1926.01 605.721 Q1923.76 605.35 1921.36 604.61 L1921.36 599.91 Q1923.44 601.045 1925.66 601.6 Q1927.89 602.156 1930.36 602.156 Q1934.37 602.156 1936.7 600.049 Q1939.04 597.943 1939.04 594.332 Q1939.04 590.721 1936.7 588.614 Q1934.37 586.508 1930.36 586.508 Q1928.49 586.508 1926.61 586.924 Q1924.76 587.341 1922.82 588.221 L1922.82 570.86 Z\" fill=\"#000000\" fill-rule=\"evenodd\" fill-opacity=\"1\" /><path clip-path=\"url(#clip430)\" d=\"M 0 0 M1958.79 573.938 Q1955.18 573.938 1953.35 577.503 Q1951.54 581.045 1951.54 588.174 Q1951.54 595.281 1953.35 598.846 Q1955.18 602.387 1958.79 602.387 Q1962.42 602.387 1964.23 598.846 Q1966.06 595.281 1966.06 588.174 Q1966.06 581.045 1964.23 577.503 Q1962.42 573.938 1958.79 573.938 M1958.79 570.235 Q1964.6 570.235 1967.65 574.841 Q1970.73 579.424 1970.73 588.174 Q1970.73 596.901 1967.65 601.508 Q1964.6 606.091 1958.79 606.091 Q1952.98 606.091 1949.9 601.508 Q1946.84 596.901 1946.84 588.174 Q1946.84 579.424 1949.9 574.841 Q1952.98 570.235 1958.79 570.235 Z\" fill=\"#000000\" fill-rule=\"evenodd\" fill-opacity=\"1\" /><path clip-path=\"url(#clip430)\" d=\"M 0 0 M1985.8 573.938 Q1982.19 573.938 1980.36 577.503 Q1978.56 581.045 1978.56 588.174 Q1978.56 595.281 1980.36 598.846 Q1982.19 602.387 1985.8 602.387 Q1989.44 602.387 1991.24 598.846 Q1993.07 595.281 1993.07 588.174 Q1993.07 581.045 1991.24 577.503 Q1989.44 573.938 1985.8 573.938 M1985.8 570.235 Q1991.61 570.235 1994.67 574.841 Q1997.75 579.424 1997.75 588.174 Q1997.75 596.901 1994.67 601.508 Q1991.61 606.091 1985.8 606.091 Q1979.99 606.091 1976.91 601.508 Q1973.86 596.901 1973.86 588.174 Q1973.86 579.424 1976.91 574.841 Q1979.99 570.235 1985.8 570.235 Z\" fill=\"#000000\" fill-rule=\"evenodd\" fill-opacity=\"1\" /><path clip-path=\"url(#clip430)\" d=\"M 0 0 M2012.82 573.938 Q2009.2 573.938 2007.38 577.503 Q2005.57 581.045 2005.57 588.174 Q2005.57 595.281 2007.38 598.846 Q2009.2 602.387 2012.82 602.387 Q2016.45 602.387 2018.25 598.846 Q2020.08 595.281 2020.08 588.174 Q2020.08 581.045 2018.25 577.503 Q2016.45 573.938 2012.82 573.938 M2012.82 570.235 Q2018.63 570.235 2021.68 574.841 Q2024.76 579.424 2024.76 588.174 Q2024.76 596.901 2021.68 601.508 Q2018.63 606.091 2012.82 606.091 Q2007.01 606.091 2003.93 601.508 Q2000.87 596.901 2000.87 588.174 Q2000.87 579.424 2003.93 574.841 Q2007.01 570.235 2012.82 570.235 Z\" fill=\"#000000\" fill-rule=\"evenodd\" fill-opacity=\"1\" /><path clip-path=\"url(#clip430)\" d=\"M 0 0 M2048.51 572.133 L2048.51 579.494 L2057.28 579.494 L2057.28 582.804 L2048.51 582.804 L2048.51 596.878 Q2048.51 600.049 2049.37 600.952 Q2050.25 601.855 2052.91 601.855 L2057.28 601.855 L2057.28 605.42 L2052.91 605.42 Q2047.98 605.42 2046.1 603.591 Q2044.23 601.739 2044.23 596.878 L2044.23 582.804 L2041.1 582.804 L2041.1 579.494 L2044.23 579.494 L2044.23 572.133 L2048.51 572.133 Z\" fill=\"#000000\" fill-rule=\"evenodd\" fill-opacity=\"1\" /><path clip-path=\"url(#clip430)\" d=\"M 0 0 M2076.77 583.475 Q2076.06 583.059 2075.2 582.874 Q2074.37 582.665 2073.35 582.665 Q2069.74 582.665 2067.79 585.026 Q2065.87 587.364 2065.87 591.762 L2065.87 605.42 L2061.59 605.42 L2061.59 579.494 L2065.87 579.494 L2065.87 583.522 Q2067.21 581.161 2069.37 580.026 Q2071.52 578.869 2074.6 578.869 Q2075.04 578.869 2075.57 578.938 Q2076.1 578.985 2076.75 579.1 L2076.77 583.475 Z\" fill=\"#000000\" fill-rule=\"evenodd\" fill-opacity=\"1\" /><path clip-path=\"url(#clip430)\" d=\"M 0 0 M2093.02 592.387 Q2087.86 592.387 2085.87 593.568 Q2083.88 594.748 2083.88 597.596 Q2083.88 599.864 2085.36 601.207 Q2086.87 602.526 2089.44 602.526 Q2092.98 602.526 2095.11 600.026 Q2097.26 597.503 2097.26 593.336 L2097.26 592.387 L2093.02 592.387 M2101.52 590.628 L2101.52 605.42 L2097.26 605.42 L2097.26 601.485 Q2095.8 603.846 2093.62 604.98 Q2091.45 606.091 2088.3 606.091 Q2084.32 606.091 2081.96 603.869 Q2079.62 601.623 2079.62 597.873 Q2079.62 593.498 2082.54 591.276 Q2085.48 589.054 2091.29 589.054 L2097.26 589.054 L2097.26 588.637 Q2097.26 585.698 2095.31 584.1 Q2093.39 582.48 2089.9 582.48 Q2087.68 582.48 2085.57 583.012 Q2083.46 583.545 2081.52 584.61 L2081.52 580.674 Q2083.86 579.772 2086.06 579.332 Q2088.25 578.869 2090.34 578.869 Q2095.96 578.869 2098.74 581.786 Q2101.52 584.702 2101.52 590.628 Z\" fill=\"#000000\" fill-rule=\"evenodd\" fill-opacity=\"1\" /><path clip-path=\"url(#clip430)\" d=\"M 0 0 M2105.99 579.494 L2110.25 579.494 L2110.25 605.883 Q2110.25 610.836 2108.35 613.059 Q2106.47 615.281 2102.28 615.281 L2100.66 615.281 L2100.66 611.67 L2101.8 611.67 Q2104.23 611.67 2105.11 610.535 Q2105.99 609.424 2105.99 605.883 L2105.99 579.494 M2105.99 569.401 L2110.25 569.401 L2110.25 574.795 L2105.99 574.795 L2105.99 569.401 Z\" fill=\"#000000\" fill-rule=\"evenodd\" fill-opacity=\"1\" /><path clip-path=\"url(#clip430)\" d=\"M 0 0 M2136.89 591.392 L2136.89 593.475 L2117.31 593.475 Q2117.58 597.873 2119.94 600.188 Q2122.33 602.48 2126.56 602.48 Q2129.02 602.48 2131.31 601.878 Q2133.62 601.276 2135.89 600.073 L2135.89 604.1 Q2133.6 605.072 2131.19 605.582 Q2128.79 606.091 2126.31 606.091 Q2120.11 606.091 2116.47 602.48 Q2112.86 598.869 2112.86 592.711 Q2112.86 586.346 2116.29 582.619 Q2119.74 578.869 2125.57 578.869 Q2130.8 578.869 2133.83 582.249 Q2136.89 585.605 2136.89 591.392 M2132.63 590.142 Q2132.58 586.647 2130.66 584.563 Q2128.76 582.48 2125.62 582.48 Q2122.05 582.48 2119.9 584.494 Q2117.77 586.508 2117.44 590.165 L2132.63 590.142 Z\" fill=\"#000000\" fill-rule=\"evenodd\" fill-opacity=\"1\" /><path clip-path=\"url(#clip430)\" d=\"M 0 0 M2160.01 580.489 L2160.01 584.471 Q2158.21 583.475 2156.38 582.989 Q2154.57 582.48 2152.72 582.48 Q2148.58 582.48 2146.29 585.119 Q2144 587.735 2144 592.48 Q2144 597.225 2146.29 599.864 Q2148.58 602.48 2152.72 602.48 Q2154.57 602.48 2156.38 601.994 Q2158.21 601.485 2160.01 600.489 L2160.01 604.424 Q2158.23 605.258 2156.31 605.674 Q2154.41 606.091 2152.26 606.091 Q2146.4 606.091 2142.95 602.41 Q2139.5 598.73 2139.5 592.48 Q2139.5 586.137 2142.98 582.503 Q2146.47 578.869 2152.54 578.869 Q2154.5 578.869 2156.38 579.286 Q2158.25 579.679 2160.01 580.489 Z\" fill=\"#000000\" fill-rule=\"evenodd\" fill-opacity=\"1\" /><path clip-path=\"url(#clip430)\" d=\"M 0 0 M2168.69 572.133 L2168.69 579.494 L2177.47 579.494 L2177.47 582.804 L2168.69 582.804 L2168.69 596.878 Q2168.69 600.049 2169.55 600.952 Q2170.43 601.855 2173.09 601.855 L2177.47 601.855 L2177.47 605.42 L2173.09 605.42 Q2168.16 605.42 2166.29 603.591 Q2164.41 601.739 2164.41 596.878 L2164.41 582.804 L2161.29 582.804 L2161.29 579.494 L2164.41 579.494 L2164.41 572.133 L2168.69 572.133 Z\" fill=\"#000000\" fill-rule=\"evenodd\" fill-opacity=\"1\" /><path clip-path=\"url(#clip430)\" d=\"M 0 0 M2191.98 582.48 Q2188.55 582.48 2186.56 585.165 Q2184.57 587.827 2184.57 592.48 Q2184.57 597.133 2186.54 599.818 Q2188.53 602.48 2191.98 602.48 Q2195.38 602.48 2197.37 599.795 Q2199.37 597.11 2199.37 592.48 Q2199.37 587.874 2197.37 585.188 Q2195.38 582.48 2191.98 582.48 M2191.98 578.869 Q2197.54 578.869 2200.71 582.48 Q2203.88 586.091 2203.88 592.48 Q2203.88 598.846 2200.71 602.48 Q2197.54 606.091 2191.98 606.091 Q2186.4 606.091 2183.23 602.48 Q2180.08 598.846 2180.08 592.48 Q2180.08 586.091 2183.23 582.48 Q2186.4 578.869 2191.98 578.869 Z\" fill=\"#000000\" fill-rule=\"evenodd\" fill-opacity=\"1\" /><path clip-path=\"url(#clip430)\" d=\"M 0 0 M2223.37 583.475 Q2222.65 583.059 2221.8 582.874 Q2220.96 582.665 2219.94 582.665 Q2216.33 582.665 2214.39 585.026 Q2212.47 587.364 2212.47 591.762 L2212.47 605.42 L2208.18 605.42 L2208.18 579.494 L2212.47 579.494 L2212.47 583.522 Q2213.81 581.161 2215.96 580.026 Q2218.11 578.869 2221.19 578.869 Q2221.63 578.869 2222.17 578.938 Q2222.7 578.985 2223.35 579.1 L2223.37 583.475 Z\" fill=\"#000000\" fill-rule=\"evenodd\" fill-opacity=\"1\" /><path clip-path=\"url(#clip430)\" d=\"M 0 0 M2227.84 579.494 L2232.1 579.494 L2232.1 605.42 L2227.84 605.42 L2227.84 579.494 M2227.84 569.401 L2232.1 569.401 L2232.1 574.795 L2227.84 574.795 L2227.84 569.401 Z\" fill=\"#000000\" fill-rule=\"evenodd\" fill-opacity=\"1\" /><path clip-path=\"url(#clip430)\" d=\"M 0 0 M2258.74 591.392 L2258.74 593.475 L2239.16 593.475 Q2239.43 597.873 2241.8 600.188 Q2244.18 602.48 2248.42 602.48 Q2250.87 602.48 2253.16 601.878 Q2255.48 601.276 2257.74 600.073 L2257.74 604.1 Q2255.45 605.072 2253.05 605.582 Q2250.64 606.091 2248.16 606.091 Q2241.96 606.091 2238.32 602.48 Q2234.71 598.869 2234.71 592.711 Q2234.71 586.346 2238.14 582.619 Q2241.59 578.869 2247.42 578.869 Q2252.65 578.869 2255.68 582.249 Q2258.74 585.605 2258.74 591.392 M2254.48 590.142 Q2254.43 586.647 2252.51 584.563 Q2250.61 582.48 2247.47 582.48 Q2243.9 582.48 2241.75 584.494 Q2239.62 586.508 2239.3 590.165 L2254.48 590.142 Z\" fill=\"#000000\" fill-rule=\"evenodd\" fill-opacity=\"1\" /><path clip-path=\"url(#clip430)\" d=\"M 0 0 M2279.74 580.258 L2279.74 584.286 Q2277.93 583.36 2275.99 582.897 Q2274.04 582.434 2271.96 582.434 Q2268.79 582.434 2267.19 583.406 Q2265.61 584.378 2265.61 586.323 Q2265.61 587.804 2266.75 588.661 Q2267.88 589.494 2271.31 590.258 L2272.77 590.582 Q2277.3 591.554 2279.2 593.336 Q2281.12 595.096 2281.12 598.267 Q2281.12 601.878 2278.25 603.985 Q2275.41 606.091 2270.41 606.091 Q2268.32 606.091 2266.05 605.674 Q2263.81 605.281 2261.31 604.471 L2261.31 600.073 Q2263.67 601.299 2265.96 601.924 Q2268.25 602.526 2270.5 602.526 Q2273.51 602.526 2275.13 601.508 Q2276.75 600.466 2276.75 598.591 Q2276.75 596.855 2275.57 595.929 Q2274.41 595.003 2270.45 594.147 L2268.97 593.799 Q2265.01 592.966 2263.25 591.253 Q2261.49 589.517 2261.49 586.508 Q2261.49 582.85 2264.09 580.86 Q2266.68 578.869 2271.45 578.869 Q2273.81 578.869 2275.89 579.216 Q2277.98 579.563 2279.74 580.258 Z\" fill=\"#000000\" fill-rule=\"evenodd\" fill-opacity=\"1\" /></svg>\n"
      ]
     },
     "execution_count": 25,
     "metadata": {},
     "output_type": "execute_result"
    }
   ],
   "source": [
    "plot(title=\"Purified Fidelity vs Initial Fidelity\\naccording to different calculation methods\")\n",
    "\n",
    "netnoise_pe_samples = 0.0:0.005:0.4\n",
    "netnoise_mc_samples = 0.0:0.05:0.4\n",
    "mc_trajectories = [50, 5000]\n",
    "\n",
    "# No purification\n",
    "exact_solution_no_purification = petrajectories(good_bell_state,\n",
    "                                                [sym_netnoise_opall,nopurification_circuit...],\n",
    "                                                branch_weight=sym_unity,\n",
    "                                                max_order=100)\n",
    "F0 = exact_solution_no_purification[:true_success].(netnoise_pe_samples,0)\n",
    "plot!(F0,F0,color=:black,alpha=0.3,label=false)\n",
    "\n",
    "# Symbolic perturbative expansions\n",
    "for (order,sym_result) in enumerate(\n",
    "        [sym_pe_netnoise,sym_pe_netnoise2,sym_pe_netnoise3,sym_pe_netnoise4])\n",
    "    ts = sym_result[:true_success].(netnoise_pe_samples, 0)\n",
    "    uf = sym_result[:undetected_failure].(netnoise_pe_samples, 0)\n",
    "    Fout = ts ./ (ts .+ uf)\n",
    "    plot!(F0, Fout, label=\"expansion to order=$(order)\", lw=2)\n",
    "end\n",
    "\n",
    "# Monte Carlo approach\n",
    "F0 = exact_solution_no_purification[:true_success].(netnoise_mc_samples,0)\n",
    "for m in mc_trajectories\n",
    "    Fout_mc = []\n",
    "    for n in netnoise_mc_samples\n",
    "        one_third_netnoise = n/3 # The probability for X, Y, or Z error\n",
    "        netnoise = UnbiasedUncorrelatedNoise(one_third_netnoise)\n",
    "        netnoise_opall = NoiseOpAll(netnoise)\n",
    "        mc_netnoise = mctrajectories(initial_state, [netnoise_opall,circuit...],\n",
    "                                     trajectories=m)\n",
    "        push!(Fout_mc, mc_netnoise[:true_success]/(mc_netnoise[:true_success]+mc_netnoise[:undetected_failure]))\n",
    "    end\n",
    "    plot!(F0, Fout_mc, label=\"MC $(m) trajectories\", line=false, marker=true)\n",
    "end      \n",
    "\n",
    "plot!(legend=:outertopright, xlabel=\"Input Fidelity\", ylabel=\"Output Fidelity\")"
   ]
  }
 ],
 "metadata": {
  "kernelspec": {
   "display_name": "Julia 1.7.0-DEV",
   "language": "julia",
   "name": "julia-1.7"
  },
  "language_info": {
   "file_extension": ".jl",
   "mimetype": "application/julia",
   "name": "julia",
   "version": "1.7.0"
  }
 },
 "nbformat": 4,
 "nbformat_minor": 4
}
